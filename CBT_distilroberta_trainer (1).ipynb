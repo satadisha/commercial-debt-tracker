{
  "cells": [
    {
      "cell_type": "markdown",
      "source": [
        "# **Import**"
      ],
      "metadata": {
        "id": "JQzJEtlZAw9r"
      }
    },
    {
      "cell_type": "code",
      "execution_count": null,
      "metadata": {
        "colab": {
          "base_uri": "https://localhost:8080/"
        },
        "id": "AaXxoMIcrxFv",
        "outputId": "23ac2b01-e0d5-427a-f2c3-ad0b66f39e1d"
      },
      "outputs": [
        {
          "output_type": "stream",
          "name": "stdout",
          "text": [
            "Mounted at /content/gdrive\n",
            "Requirement already satisfied: transformers in /usr/local/lib/python3.11/dist-packages (4.54.1)\n",
            "Requirement already satisfied: filelock in /usr/local/lib/python3.11/dist-packages (from transformers) (3.18.0)\n",
            "Requirement already satisfied: huggingface-hub<1.0,>=0.34.0 in /usr/local/lib/python3.11/dist-packages (from transformers) (0.34.3)\n",
            "Requirement already satisfied: numpy>=1.17 in /usr/local/lib/python3.11/dist-packages (from transformers) (2.0.2)\n",
            "Requirement already satisfied: packaging>=20.0 in /usr/local/lib/python3.11/dist-packages (from transformers) (25.0)\n",
            "Requirement already satisfied: pyyaml>=5.1 in /usr/local/lib/python3.11/dist-packages (from transformers) (6.0.2)\n",
            "Requirement already satisfied: regex!=2019.12.17 in /usr/local/lib/python3.11/dist-packages (from transformers) (2024.11.6)\n",
            "Requirement already satisfied: requests in /usr/local/lib/python3.11/dist-packages (from transformers) (2.32.3)\n",
            "Requirement already satisfied: tokenizers<0.22,>=0.21 in /usr/local/lib/python3.11/dist-packages (from transformers) (0.21.4)\n",
            "Requirement already satisfied: safetensors>=0.4.3 in /usr/local/lib/python3.11/dist-packages (from transformers) (0.5.3)\n",
            "Requirement already satisfied: tqdm>=4.27 in /usr/local/lib/python3.11/dist-packages (from transformers) (4.67.1)\n",
            "Requirement already satisfied: fsspec>=2023.5.0 in /usr/local/lib/python3.11/dist-packages (from huggingface-hub<1.0,>=0.34.0->transformers) (2025.3.0)\n",
            "Requirement already satisfied: typing-extensions>=3.7.4.3 in /usr/local/lib/python3.11/dist-packages (from huggingface-hub<1.0,>=0.34.0->transformers) (4.14.1)\n",
            "Requirement already satisfied: hf-xet<2.0.0,>=1.1.3 in /usr/local/lib/python3.11/dist-packages (from huggingface-hub<1.0,>=0.34.0->transformers) (1.1.5)\n",
            "Requirement already satisfied: charset-normalizer<4,>=2 in /usr/local/lib/python3.11/dist-packages (from requests->transformers) (3.4.2)\n",
            "Requirement already satisfied: idna<4,>=2.5 in /usr/local/lib/python3.11/dist-packages (from requests->transformers) (3.10)\n",
            "Requirement already satisfied: urllib3<3,>=1.21.1 in /usr/local/lib/python3.11/dist-packages (from requests->transformers) (2.5.0)\n",
            "Requirement already satisfied: certifi>=2017.4.17 in /usr/local/lib/python3.11/dist-packages (from requests->transformers) (2025.7.14)\n",
            "Requirement already satisfied: datasets in /usr/local/lib/python3.11/dist-packages (4.0.0)\n",
            "Requirement already satisfied: filelock in /usr/local/lib/python3.11/dist-packages (from datasets) (3.18.0)\n",
            "Requirement already satisfied: numpy>=1.17 in /usr/local/lib/python3.11/dist-packages (from datasets) (2.0.2)\n",
            "Requirement already satisfied: pyarrow>=15.0.0 in /usr/local/lib/python3.11/dist-packages (from datasets) (18.1.0)\n",
            "Requirement already satisfied: dill<0.3.9,>=0.3.0 in /usr/local/lib/python3.11/dist-packages (from datasets) (0.3.8)\n",
            "Requirement already satisfied: pandas in /usr/local/lib/python3.11/dist-packages (from datasets) (2.2.2)\n",
            "Requirement already satisfied: requests>=2.32.2 in /usr/local/lib/python3.11/dist-packages (from datasets) (2.32.3)\n",
            "Requirement already satisfied: tqdm>=4.66.3 in /usr/local/lib/python3.11/dist-packages (from datasets) (4.67.1)\n",
            "Requirement already satisfied: xxhash in /usr/local/lib/python3.11/dist-packages (from datasets) (3.5.0)\n",
            "Requirement already satisfied: multiprocess<0.70.17 in /usr/local/lib/python3.11/dist-packages (from datasets) (0.70.16)\n",
            "Requirement already satisfied: fsspec<=2025.3.0,>=2023.1.0 in /usr/local/lib/python3.11/dist-packages (from fsspec[http]<=2025.3.0,>=2023.1.0->datasets) (2025.3.0)\n",
            "Requirement already satisfied: huggingface-hub>=0.24.0 in /usr/local/lib/python3.11/dist-packages (from datasets) (0.34.3)\n",
            "Requirement already satisfied: packaging in /usr/local/lib/python3.11/dist-packages (from datasets) (25.0)\n",
            "Requirement already satisfied: pyyaml>=5.1 in /usr/local/lib/python3.11/dist-packages (from datasets) (6.0.2)\n",
            "Requirement already satisfied: aiohttp!=4.0.0a0,!=4.0.0a1 in /usr/local/lib/python3.11/dist-packages (from fsspec[http]<=2025.3.0,>=2023.1.0->datasets) (3.12.15)\n",
            "Requirement already satisfied: typing-extensions>=3.7.4.3 in /usr/local/lib/python3.11/dist-packages (from huggingface-hub>=0.24.0->datasets) (4.14.1)\n",
            "Requirement already satisfied: hf-xet<2.0.0,>=1.1.3 in /usr/local/lib/python3.11/dist-packages (from huggingface-hub>=0.24.0->datasets) (1.1.5)\n",
            "Requirement already satisfied: charset-normalizer<4,>=2 in /usr/local/lib/python3.11/dist-packages (from requests>=2.32.2->datasets) (3.4.2)\n",
            "Requirement already satisfied: idna<4,>=2.5 in /usr/local/lib/python3.11/dist-packages (from requests>=2.32.2->datasets) (3.10)\n",
            "Requirement already satisfied: urllib3<3,>=1.21.1 in /usr/local/lib/python3.11/dist-packages (from requests>=2.32.2->datasets) (2.5.0)\n",
            "Requirement already satisfied: certifi>=2017.4.17 in /usr/local/lib/python3.11/dist-packages (from requests>=2.32.2->datasets) (2025.7.14)\n",
            "Requirement already satisfied: python-dateutil>=2.8.2 in /usr/local/lib/python3.11/dist-packages (from pandas->datasets) (2.9.0.post0)\n",
            "Requirement already satisfied: pytz>=2020.1 in /usr/local/lib/python3.11/dist-packages (from pandas->datasets) (2025.2)\n",
            "Requirement already satisfied: tzdata>=2022.7 in /usr/local/lib/python3.11/dist-packages (from pandas->datasets) (2025.2)\n",
            "Requirement already satisfied: aiohappyeyeballs>=2.5.0 in /usr/local/lib/python3.11/dist-packages (from aiohttp!=4.0.0a0,!=4.0.0a1->fsspec[http]<=2025.3.0,>=2023.1.0->datasets) (2.6.1)\n",
            "Requirement already satisfied: aiosignal>=1.4.0 in /usr/local/lib/python3.11/dist-packages (from aiohttp!=4.0.0a0,!=4.0.0a1->fsspec[http]<=2025.3.0,>=2023.1.0->datasets) (1.4.0)\n",
            "Requirement already satisfied: attrs>=17.3.0 in /usr/local/lib/python3.11/dist-packages (from aiohttp!=4.0.0a0,!=4.0.0a1->fsspec[http]<=2025.3.0,>=2023.1.0->datasets) (25.3.0)\n",
            "Requirement already satisfied: frozenlist>=1.1.1 in /usr/local/lib/python3.11/dist-packages (from aiohttp!=4.0.0a0,!=4.0.0a1->fsspec[http]<=2025.3.0,>=2023.1.0->datasets) (1.7.0)\n",
            "Requirement already satisfied: multidict<7.0,>=4.5 in /usr/local/lib/python3.11/dist-packages (from aiohttp!=4.0.0a0,!=4.0.0a1->fsspec[http]<=2025.3.0,>=2023.1.0->datasets) (6.6.3)\n",
            "Requirement already satisfied: propcache>=0.2.0 in /usr/local/lib/python3.11/dist-packages (from aiohttp!=4.0.0a0,!=4.0.0a1->fsspec[http]<=2025.3.0,>=2023.1.0->datasets) (0.3.2)\n",
            "Requirement already satisfied: yarl<2.0,>=1.17.0 in /usr/local/lib/python3.11/dist-packages (from aiohttp!=4.0.0a0,!=4.0.0a1->fsspec[http]<=2025.3.0,>=2023.1.0->datasets) (1.20.1)\n",
            "Requirement already satisfied: six>=1.5 in /usr/local/lib/python3.11/dist-packages (from python-dateutil>=2.8.2->pandas->datasets) (1.17.0)\n"
          ]
        }
      ],
      "source": [
        "import pandas as pd\n",
        "import numpy as np\n",
        "from google.colab import drive\n",
        "drive.mount('/content/gdrive')\n",
        "\n",
        "!pip install transformers\n",
        "!pip install -U datasets\n",
        "\n",
        "from collections import defaultdict, Counter\n",
        "import json\n",
        "import numpy as np\n",
        "import torch\n",
        "\n",
        "\n",
        "from matplotlib import pyplot as plt\n",
        "from transformers import AutoTokenizer, AutoModelForSequenceClassification\n",
        "from datasets import load_dataset, DatasetDict\n",
        "from torch.utils.data import DataLoader"
      ]
    },
    {
      "cell_type": "code",
      "execution_count": null,
      "metadata": {
        "colab": {
          "base_uri": "https://localhost:8080/",
          "height": 206
        },
        "id": "lUwkN17ar322",
        "outputId": "c7415475-a681-4c40-da2a-dfbbf90bb052"
      },
      "outputs": [
        {
          "output_type": "execute_result",
          "data": {
            "text/plain": [
              "                                                text  \\\n",
              "0    Senior  Secured Credit Facility  On  May 3, ...   \n",
              "1    On  January 9, 2019, Lifelogger Technologies...   \n",
              "2    Promissory  Note and Warrants to SBI Investm...   \n",
              "3    On  March 1, 2016, Lifelogger Technologies C...   \n",
              "4    Acquisition  of Pixorial Assets  In  further...   \n",
              "\n",
              "                         company      cik  item  \\\n",
              "0  LIEFLOGGER TECHNOLOGIES CORP.  1567771  1.01   \n",
              "1  LIEFLOGGER TECHNOLOGIES CORP.  1567771  1.01   \n",
              "2  LIEFLOGGER TECHNOLOGIES CORP.  1567771  1.01   \n",
              "3  LIEFLOGGER TECHNOLOGIES CORP.  1567771  1.01   \n",
              "4  LIEFLOGGER TECHNOLOGIES CORP.  1567771  1.01   \n",
              "\n",
              "   contains_debt_instrument_information  \n",
              "0                                     1  \n",
              "1                                     1  \n",
              "2                                     1  \n",
              "3                                     1  \n",
              "4                                     1  "
            ],
            "text/html": [
              "\n",
              "  <div id=\"df-9acfa6d8-84d4-4e75-840a-d6ae2f5721c3\" class=\"colab-df-container\">\n",
              "    <div>\n",
              "<style scoped>\n",
              "    .dataframe tbody tr th:only-of-type {\n",
              "        vertical-align: middle;\n",
              "    }\n",
              "\n",
              "    .dataframe tbody tr th {\n",
              "        vertical-align: top;\n",
              "    }\n",
              "\n",
              "    .dataframe thead th {\n",
              "        text-align: right;\n",
              "    }\n",
              "</style>\n",
              "<table border=\"1\" class=\"dataframe\">\n",
              "  <thead>\n",
              "    <tr style=\"text-align: right;\">\n",
              "      <th></th>\n",
              "      <th>text</th>\n",
              "      <th>company</th>\n",
              "      <th>cik</th>\n",
              "      <th>item</th>\n",
              "      <th>contains_debt_instrument_information</th>\n",
              "    </tr>\n",
              "  </thead>\n",
              "  <tbody>\n",
              "    <tr>\n",
              "      <th>0</th>\n",
              "      <td>Senior  Secured Credit Facility  On  May 3, ...</td>\n",
              "      <td>LIEFLOGGER TECHNOLOGIES CORP.</td>\n",
              "      <td>1567771</td>\n",
              "      <td>1.01</td>\n",
              "      <td>1</td>\n",
              "    </tr>\n",
              "    <tr>\n",
              "      <th>1</th>\n",
              "      <td>On  January 9, 2019, Lifelogger Technologies...</td>\n",
              "      <td>LIEFLOGGER TECHNOLOGIES CORP.</td>\n",
              "      <td>1567771</td>\n",
              "      <td>1.01</td>\n",
              "      <td>1</td>\n",
              "    </tr>\n",
              "    <tr>\n",
              "      <th>2</th>\n",
              "      <td>Promissory  Note and Warrants to SBI Investm...</td>\n",
              "      <td>LIEFLOGGER TECHNOLOGIES CORP.</td>\n",
              "      <td>1567771</td>\n",
              "      <td>1.01</td>\n",
              "      <td>1</td>\n",
              "    </tr>\n",
              "    <tr>\n",
              "      <th>3</th>\n",
              "      <td>On  March 1, 2016, Lifelogger Technologies C...</td>\n",
              "      <td>LIEFLOGGER TECHNOLOGIES CORP.</td>\n",
              "      <td>1567771</td>\n",
              "      <td>1.01</td>\n",
              "      <td>1</td>\n",
              "    </tr>\n",
              "    <tr>\n",
              "      <th>4</th>\n",
              "      <td>Acquisition  of Pixorial Assets  In  further...</td>\n",
              "      <td>LIEFLOGGER TECHNOLOGIES CORP.</td>\n",
              "      <td>1567771</td>\n",
              "      <td>1.01</td>\n",
              "      <td>1</td>\n",
              "    </tr>\n",
              "  </tbody>\n",
              "</table>\n",
              "</div>\n",
              "    <div class=\"colab-df-buttons\">\n",
              "\n",
              "  <div class=\"colab-df-container\">\n",
              "    <button class=\"colab-df-convert\" onclick=\"convertToInteractive('df-9acfa6d8-84d4-4e75-840a-d6ae2f5721c3')\"\n",
              "            title=\"Convert this dataframe to an interactive table.\"\n",
              "            style=\"display:none;\">\n",
              "\n",
              "  <svg xmlns=\"http://www.w3.org/2000/svg\" height=\"24px\" viewBox=\"0 -960 960 960\">\n",
              "    <path d=\"M120-120v-720h720v720H120Zm60-500h600v-160H180v160Zm220 220h160v-160H400v160Zm0 220h160v-160H400v160ZM180-400h160v-160H180v160Zm440 0h160v-160H620v160ZM180-180h160v-160H180v160Zm440 0h160v-160H620v160Z\"/>\n",
              "  </svg>\n",
              "    </button>\n",
              "\n",
              "  <style>\n",
              "    .colab-df-container {\n",
              "      display:flex;\n",
              "      gap: 12px;\n",
              "    }\n",
              "\n",
              "    .colab-df-convert {\n",
              "      background-color: #E8F0FE;\n",
              "      border: none;\n",
              "      border-radius: 50%;\n",
              "      cursor: pointer;\n",
              "      display: none;\n",
              "      fill: #1967D2;\n",
              "      height: 32px;\n",
              "      padding: 0 0 0 0;\n",
              "      width: 32px;\n",
              "    }\n",
              "\n",
              "    .colab-df-convert:hover {\n",
              "      background-color: #E2EBFA;\n",
              "      box-shadow: 0px 1px 2px rgba(60, 64, 67, 0.3), 0px 1px 3px 1px rgba(60, 64, 67, 0.15);\n",
              "      fill: #174EA6;\n",
              "    }\n",
              "\n",
              "    .colab-df-buttons div {\n",
              "      margin-bottom: 4px;\n",
              "    }\n",
              "\n",
              "    [theme=dark] .colab-df-convert {\n",
              "      background-color: #3B4455;\n",
              "      fill: #D2E3FC;\n",
              "    }\n",
              "\n",
              "    [theme=dark] .colab-df-convert:hover {\n",
              "      background-color: #434B5C;\n",
              "      box-shadow: 0px 1px 3px 1px rgba(0, 0, 0, 0.15);\n",
              "      filter: drop-shadow(0px 1px 2px rgba(0, 0, 0, 0.3));\n",
              "      fill: #FFFFFF;\n",
              "    }\n",
              "  </style>\n",
              "\n",
              "    <script>\n",
              "      const buttonEl =\n",
              "        document.querySelector('#df-9acfa6d8-84d4-4e75-840a-d6ae2f5721c3 button.colab-df-convert');\n",
              "      buttonEl.style.display =\n",
              "        google.colab.kernel.accessAllowed ? 'block' : 'none';\n",
              "\n",
              "      async function convertToInteractive(key) {\n",
              "        const element = document.querySelector('#df-9acfa6d8-84d4-4e75-840a-d6ae2f5721c3');\n",
              "        const dataTable =\n",
              "          await google.colab.kernel.invokeFunction('convertToInteractive',\n",
              "                                                    [key], {});\n",
              "        if (!dataTable) return;\n",
              "\n",
              "        const docLinkHtml = 'Like what you see? Visit the ' +\n",
              "          '<a target=\"_blank\" href=https://colab.research.google.com/notebooks/data_table.ipynb>data table notebook</a>'\n",
              "          + ' to learn more about interactive tables.';\n",
              "        element.innerHTML = '';\n",
              "        dataTable['output_type'] = 'display_data';\n",
              "        await google.colab.output.renderOutput(dataTable, element);\n",
              "        const docLink = document.createElement('div');\n",
              "        docLink.innerHTML = docLinkHtml;\n",
              "        element.appendChild(docLink);\n",
              "      }\n",
              "    </script>\n",
              "  </div>\n",
              "\n",
              "\n",
              "    <div id=\"df-86183412-004e-4c82-9179-032e91c7159a\">\n",
              "      <button class=\"colab-df-quickchart\" onclick=\"quickchart('df-86183412-004e-4c82-9179-032e91c7159a')\"\n",
              "                title=\"Suggest charts\"\n",
              "                style=\"display:none;\">\n",
              "\n",
              "<svg xmlns=\"http://www.w3.org/2000/svg\" height=\"24px\"viewBox=\"0 0 24 24\"\n",
              "     width=\"24px\">\n",
              "    <g>\n",
              "        <path d=\"M19 3H5c-1.1 0-2 .9-2 2v14c0 1.1.9 2 2 2h14c1.1 0 2-.9 2-2V5c0-1.1-.9-2-2-2zM9 17H7v-7h2v7zm4 0h-2V7h2v10zm4 0h-2v-4h2v4z\"/>\n",
              "    </g>\n",
              "</svg>\n",
              "      </button>\n",
              "\n",
              "<style>\n",
              "  .colab-df-quickchart {\n",
              "      --bg-color: #E8F0FE;\n",
              "      --fill-color: #1967D2;\n",
              "      --hover-bg-color: #E2EBFA;\n",
              "      --hover-fill-color: #174EA6;\n",
              "      --disabled-fill-color: #AAA;\n",
              "      --disabled-bg-color: #DDD;\n",
              "  }\n",
              "\n",
              "  [theme=dark] .colab-df-quickchart {\n",
              "      --bg-color: #3B4455;\n",
              "      --fill-color: #D2E3FC;\n",
              "      --hover-bg-color: #434B5C;\n",
              "      --hover-fill-color: #FFFFFF;\n",
              "      --disabled-bg-color: #3B4455;\n",
              "      --disabled-fill-color: #666;\n",
              "  }\n",
              "\n",
              "  .colab-df-quickchart {\n",
              "    background-color: var(--bg-color);\n",
              "    border: none;\n",
              "    border-radius: 50%;\n",
              "    cursor: pointer;\n",
              "    display: none;\n",
              "    fill: var(--fill-color);\n",
              "    height: 32px;\n",
              "    padding: 0;\n",
              "    width: 32px;\n",
              "  }\n",
              "\n",
              "  .colab-df-quickchart:hover {\n",
              "    background-color: var(--hover-bg-color);\n",
              "    box-shadow: 0 1px 2px rgba(60, 64, 67, 0.3), 0 1px 3px 1px rgba(60, 64, 67, 0.15);\n",
              "    fill: var(--button-hover-fill-color);\n",
              "  }\n",
              "\n",
              "  .colab-df-quickchart-complete:disabled,\n",
              "  .colab-df-quickchart-complete:disabled:hover {\n",
              "    background-color: var(--disabled-bg-color);\n",
              "    fill: var(--disabled-fill-color);\n",
              "    box-shadow: none;\n",
              "  }\n",
              "\n",
              "  .colab-df-spinner {\n",
              "    border: 2px solid var(--fill-color);\n",
              "    border-color: transparent;\n",
              "    border-bottom-color: var(--fill-color);\n",
              "    animation:\n",
              "      spin 1s steps(1) infinite;\n",
              "  }\n",
              "\n",
              "  @keyframes spin {\n",
              "    0% {\n",
              "      border-color: transparent;\n",
              "      border-bottom-color: var(--fill-color);\n",
              "      border-left-color: var(--fill-color);\n",
              "    }\n",
              "    20% {\n",
              "      border-color: transparent;\n",
              "      border-left-color: var(--fill-color);\n",
              "      border-top-color: var(--fill-color);\n",
              "    }\n",
              "    30% {\n",
              "      border-color: transparent;\n",
              "      border-left-color: var(--fill-color);\n",
              "      border-top-color: var(--fill-color);\n",
              "      border-right-color: var(--fill-color);\n",
              "    }\n",
              "    40% {\n",
              "      border-color: transparent;\n",
              "      border-right-color: var(--fill-color);\n",
              "      border-top-color: var(--fill-color);\n",
              "    }\n",
              "    60% {\n",
              "      border-color: transparent;\n",
              "      border-right-color: var(--fill-color);\n",
              "    }\n",
              "    80% {\n",
              "      border-color: transparent;\n",
              "      border-right-color: var(--fill-color);\n",
              "      border-bottom-color: var(--fill-color);\n",
              "    }\n",
              "    90% {\n",
              "      border-color: transparent;\n",
              "      border-bottom-color: var(--fill-color);\n",
              "    }\n",
              "  }\n",
              "</style>\n",
              "\n",
              "      <script>\n",
              "        async function quickchart(key) {\n",
              "          const quickchartButtonEl =\n",
              "            document.querySelector('#' + key + ' button');\n",
              "          quickchartButtonEl.disabled = true;  // To prevent multiple clicks.\n",
              "          quickchartButtonEl.classList.add('colab-df-spinner');\n",
              "          try {\n",
              "            const charts = await google.colab.kernel.invokeFunction(\n",
              "                'suggestCharts', [key], {});\n",
              "          } catch (error) {\n",
              "            console.error('Error during call to suggestCharts:', error);\n",
              "          }\n",
              "          quickchartButtonEl.classList.remove('colab-df-spinner');\n",
              "          quickchartButtonEl.classList.add('colab-df-quickchart-complete');\n",
              "        }\n",
              "        (() => {\n",
              "          let quickchartButtonEl =\n",
              "            document.querySelector('#df-86183412-004e-4c82-9179-032e91c7159a button');\n",
              "          quickchartButtonEl.style.display =\n",
              "            google.colab.kernel.accessAllowed ? 'block' : 'none';\n",
              "        })();\n",
              "      </script>\n",
              "    </div>\n",
              "\n",
              "    </div>\n",
              "  </div>\n"
            ],
            "application/vnd.google.colaboratory.intrinsic+json": {
              "type": "dataframe",
              "variable_name": "banktrack_df",
              "summary": "{\n  \"name\": \"banktrack_df\",\n  \"rows\": 220,\n  \"fields\": [\n    {\n      \"column\": \"text\",\n      \"properties\": {\n        \"dtype\": \"string\",\n        \"num_unique_values\": 220,\n        \"samples\": [\n          \"The information required by this Item 2.03 relating  to the Notes and the Indenture is contained in Item 1.01 above and is incorporated herein by reference.\",\n          \"  On October 28, 2015, the Company disclosed the information set forth below.  Share Repurchase Program  The Company announced today the acceleration of its capital return plan with a $150 million share repurchase plan effective through the end of 2016 that was approved by the Companys Board of Directors.  The Company currently intends to repurchase its shares over time through a combination of the tender offer referred to below and open market purchases, and may also repurchase shares through private transactions, exchange offers, additional tender offers or other means. The Company intends to fund this program using its working capital.  Modified Dutch Auction Tender Offer  Under the new share repurchase program, the Company announced that it plans to launch promptly a modified Dutch auction tender offer to purchase up to $75 million of its common stock, at a price per share of not less than $8.50 and not greater than $9.25.  The tender offer will be contingent upon satisfaction of customary conditions. Additional details regarding the pricing and other terms will be provided upon formal commencement of the tender offer.  The Company had approximately 117.4 million shares of common stock outstanding as of October 28, 2015.  2  Information Regarding the Planned Tender Offer  This description is for informational purposes only and is not an offer to buy or the solicitation of an offer to sell any shares of the Companys common stock. The planned tender offer described in this Item 8.01 has not yet commenced, and there can be no assurance that the Company will commence the tender offer on the terms described in this Item 8.01 or at all. If the Company commences the tender offer, the tender offer will be made solely by an Offer to Purchase and the related Letter of Transmittal, as they may be amended or supplemented.  Stockholders and investors are urged to read any Tender Offer Statement on Schedule TO filed by the Company with the SEC in connection with the tender offer including the Offer to Purchase, the related Letter of Transmittal and other offer materials and exhibits thereto, as well as any amendments or supplements to the Schedule TO when they become available, because they will contain important information. If the Company commences the tender offer, it will file each of the documents referenced in this paragraph with the SEC, and, when available, investors may obtain them for free from the SEC at its website (www.sec.gov) or from the Companys information agent engaged in connection with the tender offer.  Note Regarding Share Repurchase Program  The Companys announcement of its share repurchase program does not obligate the Company to repurchase any specific dollar amount or number of its shares of common stock. The Company will determine when, if and how to proceed with any repurchase transactions under the program, as well as the amount of any such repurchase transactions, based upon, among other things, the results of the tender offer and the Companys evaluation of its liquidity and capital needs (including for strategic and other opportunities), its business, results of operations, and financial position and prospects, general financial, economic and market conditions, prevailing market prices for the Companys shares of common stock, corporate, regulatory and legal requirements, and other conditions and factors deemed relevant by the Companys management and Board of Directors from time to time. The share repurchase program may be suspended or discontinued at any time. There can be no assurance as to the actual volume of share repurchases in any given period or over the term of the program, if any, or as to the manner or terms of any such repurchases. The information in this Item 8.01 does not constitute an offer to sell or the solicitation of an offer to buy any securities in any jurisdiction.\",\n          \" On August 16, 2021, Enstar Group Limited (the \\\"Company\\\") issued a press release announcing the commencement of a tender offer to purchase for cash any and all of its outstanding 4.500% Senior Notes due 2022 (the \\\"Tender Offer\\\"). The Tender Offer is being conducted on the terms and conditions set forth in the offer to purchase dated August 16, 2021. The Tender Offer will expire at 5:00 p.m., New York City time, on Friday, August 20, 2021, unless extended or earlier terminated by the Company. A copy of the press release announcing the Tender Offer is attached as Exhibit 99.1 to this Current Report on Form 8-K and is incorporated by reference herein.\"\n        ],\n        \"semantic_type\": \"\",\n        \"description\": \"\"\n      }\n    },\n    {\n      \"column\": \"company\",\n      \"properties\": {\n        \"dtype\": \"category\",\n        \"num_unique_values\": 11,\n        \"samples\": [\n          \"HIGHER ONE HOLDINGS, INC.\",\n          \"LIEFLOGGER TECHNOLOGIES CORP.\",\n          \"CASTLEWOOD HOLDINGS LTD\"\n        ],\n        \"semantic_type\": \"\",\n        \"description\": \"\"\n      }\n    },\n    {\n      \"column\": \"cik\",\n      \"properties\": {\n        \"dtype\": \"number\",\n        \"std\": 208363,\n        \"min\": 1080014,\n        \"max\": 1777946,\n        \"num_unique_values\": 11,\n        \"samples\": [\n          1486800,\n          1567771,\n          1363829\n        ],\n        \"semantic_type\": \"\",\n        \"description\": \"\"\n      }\n    },\n    {\n      \"column\": \"item\",\n      \"properties\": {\n        \"dtype\": \"number\",\n        \"std\": 3.1483256061027625,\n        \"min\": 1.01,\n        \"max\": 8.01,\n        \"num_unique_values\": 5,\n        \"samples\": [\n          8.01,\n          1.02,\n          7.03\n        ],\n        \"semantic_type\": \"\",\n        \"description\": \"\"\n      }\n    },\n    {\n      \"column\": \"contains_debt_instrument_information\",\n      \"properties\": {\n        \"dtype\": \"number\",\n        \"std\": 0,\n        \"min\": 0,\n        \"max\": 1,\n        \"num_unique_values\": 2,\n        \"samples\": [\n          0,\n          1\n        ],\n        \"semantic_type\": \"\",\n        \"description\": \"\"\n      }\n    }\n  ]\n}"
            }
          },
          "metadata": {},
          "execution_count": 23
        }
      ],
      "source": [
        "# Read in hybrid dataset containing OpenAI summaries of false rows with the original dataset\n",
        "banktrack_df = pd.read_csv('/content/gdrive/MyDrive/Group 1: DSSI Summer 2025/Data/summary_banktrak.csv')\n",
        "\n",
        "# Convert labels to boolean values\n",
        "banktrack_df[\"contains_debt_instrument_information\"] = banktrack_df[\"contains_debt_instrument_information\"].astype(int)\n",
        "banktrack_df.head()"
      ]
    },
    {
      "cell_type": "markdown",
      "source": [
        "Alternatively, you can read in the code with the cell below"
      ],
      "metadata": {
        "id": "z-6nNGuaBjXK"
      }
    },
    {
      "cell_type": "code",
      "source": [
        "#from datasets import load_dataset\n",
        "\n",
        "# dataset = load_dataset('csv', data_files='/content/gdrive/MyDrive/Group 1: DSSI Summer 2025/Data/summary_banktrak.csv')\n",
        "# dataset"
      ],
      "metadata": {
        "id": "xp-pH2QgBayE"
      },
      "execution_count": null,
      "outputs": []
    },
    {
      "cell_type": "code",
      "execution_count": null,
      "metadata": {
        "colab": {
          "base_uri": "https://localhost:8080/"
        },
        "id": "0_UfsP3Lm4sq",
        "outputId": "3353f1c3-a5dd-4c85-8b82-6a522bf5d68a"
      },
      "outputs": [
        {
          "output_type": "execute_result",
          "data": {
            "text/plain": [
              "DatasetDict({\n",
              "    train: Dataset({\n",
              "        features: ['text', 'company', 'cik', 'item', 'contains_debt_instrument_information'],\n",
              "        num_rows: 220\n",
              "    })\n",
              "})"
            ]
          },
          "metadata": {},
          "execution_count": 24
        }
      ],
      "source": [
        "from datasets import Dataset, DatasetDict\n",
        "\n",
        "# Convert DataFrame to a dataset dictionary\n",
        "dataset = DatasetDict({\n",
        "    'train': Dataset.from_pandas(banktrack_df)\n",
        "})\n",
        "dataset"
      ]
    },
    {
      "cell_type": "markdown",
      "source": [
        "**If using the original dataset, uncomment below to undersample majority label or use RandomUnderSampler**"
      ],
      "metadata": {
        "id": "D3-hn-hQKZTn"
      }
    },
    {
      "cell_type": "code",
      "execution_count": null,
      "metadata": {
        "colab": {
          "background_save": true
        },
        "id": "6slZK_PFCWck"
      },
      "outputs": [],
      "source": [
        "# from datasets import DatasetDict\n",
        "# import numpy as np\n",
        "\n",
        "# def undersample_majority_class(dataset_dict, label_column):\n",
        "#     # Extract train split\n",
        "#     np.random.seed(42)\n",
        "\n",
        "#     train_data = dataset_dict[\"train\"]\n",
        "#     labels = np.array(train_data[label_column])\n",
        "\n",
        "#     # Identify majority and minority classes\n",
        "#     class_counts = np.bincount(labels)\n",
        "#     minority_class = np.argmin(class_counts)\n",
        "#     minority_count = np.min(class_counts)\n",
        "\n",
        "#     # Get indices for both classes\n",
        "#     minority_indices = np.where(labels == minority_class)[0]\n",
        "#     majority_indices = np.where(labels != minority_class)[0]\n",
        "\n",
        "#     # Randomly select subset of majority class to match minority count\n",
        "#     undersampled_majority_indices = np.random.choice(\n",
        "#         majority_indices,\n",
        "#         size=minority_count,  # Match minority count\n",
        "#         replace=False  # No duplicates\n",
        "#     )\n",
        "\n",
        "#     # Combine selected majority + all minority samples\n",
        "#     new_indices = np.concatenate([undersampled_majority_indices, minority_indices])\n",
        "\n",
        "#     # Create new balanced dataset\n",
        "#     balanced_train = train_data.select(new_indices)\n",
        "\n",
        "#     return DatasetDict({\n",
        "#         \"train\": balanced_train,\n",
        "#         # \"validation\": dataset_dict[\"validation\"]  # Validation remains unchanged\n",
        "#     })\n",
        "\n",
        "# # Usage\n",
        "# dataset = undersample_majority_class(\n",
        "#     dataset,\n",
        "#     label_column=\"contains_debt_instrument_information\"\n",
        "# )\n",
        "\n",
        "# # Verify\n",
        "# print(\"Balanced counts:\", np.bincount(dataset[\"train\"][\"contains_debt_instrument_information\"]))\n"
      ]
    },
    {
      "cell_type": "markdown",
      "source": [
        "# **Split Dataset into Training and Validation**"
      ],
      "metadata": {
        "id": "-KVyGI3MClXl"
      }
    },
    {
      "cell_type": "code",
      "execution_count": null,
      "metadata": {
        "colab": {
          "base_uri": "https://localhost:8080/"
        },
        "id": "tNVq9iHEsN12",
        "outputId": "0835a16c-965b-4b7c-f82c-894e821fe9e3"
      },
      "outputs": [
        {
          "output_type": "stream",
          "name": "stdout",
          "text": [
            "DatasetDict({\n",
            "    train: Dataset({\n",
            "        features: ['text', 'company', 'cik', 'item', 'contains_debt_instrument_information'],\n",
            "        num_rows: 176\n",
            "    })\n",
            "    validation: Dataset({\n",
            "        features: ['text', 'company', 'cik', 'item', 'contains_debt_instrument_information'],\n",
            "        num_rows: 44\n",
            "    })\n",
            "})\n"
          ]
        }
      ],
      "source": [
        "#S plit dataset to training and validation\n",
        "split_dataset = dataset[\"train\"].train_test_split(\n",
        "    test_size=0.2,      # 20% for validation\n",
        "    seed=42,            # For reproducibility\n",
        "    shuffle=True        # Shuffle before splitting\n",
        ")\n",
        "\n",
        "# Create the final DatasetDict with both splits\n",
        "dataset = DatasetDict({\n",
        "    \"train\": split_dataset[\"train\"],          # 80%\n",
        "    \"validation\": split_dataset[\"test\"]       # 20%\n",
        "})\n",
        "print(dataset)"
      ]
    },
    {
      "cell_type": "markdown",
      "source": [
        "# **Dataset Preprocessing**"
      ],
      "metadata": {
        "id": "9bhNgKo6Ckmk"
      }
    },
    {
      "cell_type": "code",
      "execution_count": null,
      "metadata": {
        "colab": {
          "base_uri": "https://localhost:8080/"
        },
        "id": "J573lA9NseMf",
        "outputId": "cacca8ec-82a0-470f-86e9-777a68f262d1"
      },
      "outputs": [
        {
          "output_type": "stream",
          "name": "stdout",
          "text": [
            "tensor([[    0,   170,   236,     7,   304,    10, 11857, 26492, 19233,  6315,\n",
            "             4,     2,     1,     1,     1,     1,     1,     1,     1,     1,\n",
            "             1,     1,     1,     1,     1,     1,     1,     1,     1,     1,\n",
            "             1,     1,     1,     1,     1,     1,     1,     1,     1,     1,\n",
            "             1,     1,     1,     1,     1,     1,     1,     1,     1,     1,\n",
            "             1,     1,     1,     1,     1,     1,     1,     1,     1,     1,\n",
            "             1,     1,     1,     1]])\n"
          ]
        }
      ],
      "source": [
        "from transformers import AutoTokenizer\n",
        "\n",
        "name = \"typeform/distilroberta-base-v2\"\n",
        "\n",
        "# Initialize your tokenizer here\n",
        "tokenizer = AutoTokenizer.from_pretrained(name)\n",
        "\n",
        "sample_input = \"We want to use a pretrained tokenizer.\"\n",
        "\n",
        "# Call your tokenizer here to check if it was properly loaded by using on a test sentence\n",
        "tokenized_inputs = tokenizer(\n",
        "    sample_input,\n",
        "    padding = \"max_length\",\n",
        "    truncation= True,\n",
        "    max_length = 64,\n",
        "    return_tensors = \"pt\"\n",
        ")\n",
        "print(tokenized_inputs[\"input_ids\"])"
      ]
    },
    {
      "cell_type": "code",
      "execution_count": null,
      "metadata": {
        "colab": {
          "base_uri": "https://localhost:8080/",
          "height": 81,
          "referenced_widgets": [
            "17a3b63f726d4131804deebcddad67a1",
            "02536ab79ec244a5840f7a8977122e93",
            "f71d22603a344e68a448daa6163cf76a",
            "4fa35ef54c4b4161bb1e8bc9e164d91a",
            "b839c67871cc4da381a15ae0ca70c86e",
            "2cf474fda11f4ecf96c08f8d7017820f",
            "ed385af383cb4cd69ff77b53dfb7f97e",
            "de325a050ee74af0a587b500b045aa8a",
            "f9afdfdb118d47588f1f26c412684dd8",
            "fc75550dc9a143ea99b71eda41c3c666",
            "c419a060f7ec48d6a9167b20a7f31a80",
            "a84ee3f9f9cf47a39daedfcd5451d3f5",
            "30707fbf2a684945b31f402ec510db97",
            "8bec8c95287441adb0b6aa6efee8b8e8",
            "d1ca0657e051411db7e0c544f9ee4d04",
            "e531e73c6a4b4489a231a61b17fdf31e",
            "9c7e5eef6fbd4ee2a2b6497dddf0e66f",
            "6188c53961dc4bdd9c3de2688c204fe2",
            "5ba30f6ccaf74d91bb38e8d6d37f2751",
            "0132df268c7b4b9898993833b1074738",
            "949935abc15d4db484b5af7f0c266a7c",
            "748bd69ff48943c0a6f9b65498c155d7"
          ]
        },
        "id": "Uzj9lRaWsjr9",
        "outputId": "8dd80d80-09ea-481a-c2a1-f17b73e9d2a2"
      },
      "outputs": [
        {
          "output_type": "display_data",
          "data": {
            "text/plain": [
              "Map:   0%|          | 0/176 [00:00<?, ? examples/s]"
            ],
            "application/vnd.jupyter.widget-view+json": {
              "version_major": 2,
              "version_minor": 0,
              "model_id": "17a3b63f726d4131804deebcddad67a1"
            }
          },
          "metadata": {}
        },
        {
          "output_type": "display_data",
          "data": {
            "text/plain": [
              "Map:   0%|          | 0/44 [00:00<?, ? examples/s]"
            ],
            "application/vnd.jupyter.widget-view+json": {
              "version_major": 2,
              "version_minor": 0,
              "model_id": "a84ee3f9f9cf47a39daedfcd5451d3f5"
            }
          },
          "metadata": {}
        }
      ],
      "source": [
        "# Now that our tokenizer has been properly loaded, we need to call the tokenizer\n",
        "# for every example in the dataset. Here we use list comprehension with a\n",
        "# lambda function ensure that.\n",
        "tokenized_dataset = dataset.map(\n",
        "    lambda example: tokenizer(example['text'], padding=\"max_length\",\n",
        "    truncation=True, max_length=250)\n",
        ")\n",
        "\n",
        "# We need to remove these extra columns before the dataset can be sent to the\n",
        "# dataloader and subsequently to the model. Also be sure to check that the\n",
        "# output column is named labels or else rename if necessary\n",
        "tokenized_dataset = tokenized_dataset.remove_columns(['item', 'text', 'company','cik'])\n",
        "tokenized_dataset = tokenized_dataset.rename_column(\"contains_debt_instrument_information\", \"labels\")\n",
        "\n",
        "tokenized_dataset.set_format(\"torch\")"
      ]
    },
    {
      "cell_type": "markdown",
      "source": [
        "# **Training and Validation**"
      ],
      "metadata": {
        "id": "7JROUDcrDJ_q"
      }
    },
    {
      "cell_type": "code",
      "execution_count": null,
      "metadata": {
        "colab": {
          "background_save": true
        },
        "id": "X8FTMUpqsrEU"
      },
      "outputs": [],
      "source": [
        "from transformers import TrainingArguments, Trainer\n",
        "from sklearn.metrics import accuracy_score, precision_recall_fscore_support\n",
        "device = torch.device(\"cuda\" if torch.cuda.is_available() else \"cpu\")\n",
        "\n",
        "model_path = \"/content/gdrive/MyDrive/DSSI/distilroberta-model\"\n",
        "\n",
        "model = AutoModelForSequenceClassification.from_pretrained(\"typeform/distilroberta-base-v2\", num_labels=2).to(device)\n",
        "\n",
        "## Freeze embedding layers\n",
        "# for param in model.roberta.embeddings.parameters():\n",
        "#     param.requires_grad = False\n",
        "\n",
        "arguments = TrainingArguments(\n",
        "    output_dir=model_path,\n",
        "    per_device_train_batch_size=10,\n",
        "    per_device_eval_batch_size=10,\n",
        "    num_train_epochs=3,\n",
        "    eval_strategy=\"epoch\", # run validation at the end of each epoch\n",
        "    save_strategy=\"epoch\",\n",
        "    learning_rate=3e-5,\n",
        "    logging_dir=\"./logs\",\n",
        "    logging_steps=10,\n",
        "    metric_for_best_model=\"eval_loss\",\n",
        "    greater_is_better=True,\n",
        "    load_best_model_at_end=True,\n",
        "    seed=42\n",
        ")\n",
        "\n",
        "\n",
        "def compute_metrics(eval_pred):\n",
        "    \"\"\"Called at the end of validation. Gives accuracy\"\"\"\n",
        "    logits, labels = eval_pred\n",
        "    preds = np.argmax(logits, axis=-1)\n",
        "    # calculates the accuracy\n",
        "    precision, recall, f1, _ = precision_recall_fscore_support(labels, preds, average=\"binary\")\n",
        "    acc = accuracy_score(labels, preds)\n",
        "    return {\"accuracy\": acc, \"precision\": precision, \"recall\": recall, \"f1\": f1}\n",
        "\n",
        "trainer = Trainer(\n",
        "    model=model,\n",
        "    args=arguments,\n",
        "    train_dataset=tokenized_dataset['train'],\n",
        "    eval_dataset=tokenized_dataset['validation'],\n",
        "    tokenizer=tokenizer,\n",
        "    compute_metrics=compute_metrics\n",
        ")"
      ]
    },
    {
      "cell_type": "code",
      "execution_count": null,
      "metadata": {
        "colab": {
          "background_save": true
        },
        "id": "q5-Yh-xoswCC"
      },
      "outputs": [],
      "source": [
        "# train the model\n",
        "trainer.train()"
      ]
    },
    {
      "cell_type": "markdown",
      "source": [
        "# **Evaluation**"
      ],
      "metadata": {
        "id": "JeMrrM3TE7A9"
      }
    },
    {
      "cell_type": "code",
      "execution_count": null,
      "metadata": {
        "colab": {
          "background_save": true
        },
        "id": "geB_tNPWs0yp"
      },
      "outputs": [],
      "source": [
        "metrics = trainer.evaluate()\n",
        "print(metrics)"
      ]
    },
    {
      "cell_type": "code",
      "execution_count": null,
      "metadata": {
        "colab": {
          "background_save": true
        },
        "id": "k9uaqAP763rL"
      },
      "outputs": [],
      "source": [
        "from sklearn.metrics import accuracy_score, f1_score"
      ]
    },
    {
      "cell_type": "code",
      "execution_count": null,
      "metadata": {
        "colab": {
          "background_save": true
        },
        "id": "axxgBqaQ65Pm"
      },
      "outputs": [],
      "source": [
        "results = trainer.predict(tokenized_dataset['validation']) # also gives you predictions\n",
        "results"
      ]
    },
    {
      "cell_type": "code",
      "execution_count": null,
      "metadata": {
        "colab": {
          "background_save": true
        },
        "id": "tvKC3MA97H_E"
      },
      "outputs": [],
      "source": [
        "test_logits, y_true, metrics = results\n",
        "print(len(test_logits), len(y_true))\n",
        "\n",
        "#Convert the logits to predicted labels : if this a torch tensor use torch.argmax(test_logits, dim = 1)\n",
        "y_pred = np.argmax(test_logits, axis = 1)\n",
        "print(y_true[:10])\n",
        "print(y_pred[:10])\n",
        "\n",
        "#sanity check: should have as many predictions as labels\n",
        "assert len(y_pred)==len(y_true)\n"
      ]
    },
    {
      "cell_type": "code",
      "execution_count": null,
      "metadata": {
        "colab": {
          "background_save": true
        },
        "id": "mHBEhLme7Mze"
      },
      "outputs": [],
      "source": [
        "print('F1 Score:',f1_score(y_true, y_pred))\n",
        "print('Accuracy Score:',accuracy_score(y_true, y_pred))"
      ]
    },
    {
      "cell_type": "markdown",
      "source": [
        "# **Error Analysis**"
      ],
      "metadata": {
        "id": "nTtUdXfBFGXH"
      }
    },
    {
      "cell_type": "code",
      "execution_count": null,
      "metadata": {
        "colab": {
          "background_save": true
        },
        "id": "Q5BLApnrtQBW"
      },
      "outputs": [],
      "source": [
        "import pandas as pd\n",
        "\n",
        "# Create a DataFrame to store texts, true labels, and predictions\n",
        "misclassified = []\n",
        "for i, (true, pred) in enumerate(zip(y_true, y_pred)):\n",
        "    if true != pred:\n",
        "        misclassified.append({\n",
        "            \"text\": dataset[\"validation\"][i][\"text\"],\n",
        "            \"true_label\": true,\n",
        "            \"predicted_label\": pred,\n",
        "            \"logits\": test_logits[i]\n",
        "        })\n",
        "\n",
        "# Convert to DataFrame\n",
        "misclassified_df = pd.DataFrame(misclassified)\n",
        "print(f\"Number of misclassified examples: {len(misclassified_df)}\")\n",
        "misclassified_df.head()"
      ]
    },
    {
      "cell_type": "code",
      "execution_count": null,
      "metadata": {
        "colab": {
          "background_save": true
        },
        "id": "CgR1NXmj5CpU"
      },
      "outputs": [],
      "source": [
        "import matplotlib.pyplot as plt\n",
        "import seaborn as sns\n",
        "from sklearn.metrics import confusion_matrix\n",
        "\n",
        "# Example data (replace with your actual predictions and true labels)\n",
        "\n",
        "\n",
        "# Generate confusion matrix\n",
        "cm = confusion_matrix(y_true, y_pred)\n",
        "\n",
        "# Print the raw confusion matrix\n",
        "print(\"Confusion Matrix:\")\n",
        "print(cm)\n",
        "\n",
        "# Visualize with matplotlib/seaborn\n",
        "plt.figure(figsize=(5, 5))\n",
        "sns.heatmap(cm, annot=True, fmt='d', cmap='Blues',\n",
        "            xticklabels=['Predicted 0', 'Predicted 1'],\n",
        "            yticklabels=['Actual 0', 'Actual 1'])\n",
        "plt.title('Confusion Matrix')\n",
        "plt.ylabel('Actual')\n",
        "plt.xlabel('Predicted')\n",
        "plt.show()"
      ]
    },
    {
      "cell_type": "code",
      "execution_count": null,
      "metadata": {
        "colab": {
          "background_save": true
        },
        "id": "NgvaL_lstRtK"
      },
      "outputs": [],
      "source": [
        "# Separate FP and FN\n",
        "fp = misclassified_df[misclassified_df[\"true_label\"] == 0]\n",
        "fn = misclassified_df[misclassified_df[\"true_label\"] == 1]\n",
        "\n",
        "print(f\"False Positives (FP): {len(fp)}\")\n",
        "print(f\"False Negatives (FN): {len(fn)}\")\n",
        "\n",
        "# Inspect FP\n",
        "print(\"\\nFalse Positives (FP):\")\n",
        "for idx, row in fp.iterrows():\n",
        "    print(f\"Text: {row['text'][:]}...\")  # Print first 200 chars\n",
        "    print(f\"True: {row['true_label']}, Predicted: {row['predicted_label']}\\n\")\n",
        "\n",
        "# Inspect FN\n",
        "print(\"\\nFalse Negatives (FN):\")\n",
        "for idx, row in fn.iterrows():\n",
        "    print(f\"Text: {row['text'][:]}...\")\n",
        "    print(f\"True: {row['true_label']}, Predicted: {row['predicted_label']}\\n\")"
      ]
    },
    {
      "cell_type": "code",
      "execution_count": null,
      "metadata": {
        "colab": {
          "background_save": true
        },
        "id": "RvMwyZko-J77"
      },
      "outputs": [],
      "source": [
        "from wordcloud import WordCloud\n",
        "\n",
        "# Combine all FP/FN texts\n",
        "fp_text = \" \".join(fp['text'])  # Replace with your FP texts\n",
        "fn_text = \" \".join(fn['text'])  # Replace with your FN texts\n",
        "\n",
        "# Generate word clouds\n",
        "wordcloud_fp = WordCloud(width=800, height=400, background_color='white').generate(fp_text)\n",
        "wordcloud_fn = WordCloud(width=800, height=400, background_color='white').generate(fn_text)\n",
        "\n",
        "# Plot\n",
        "plt.figure(figsize=(12, 6))\n",
        "plt.subplot(1, 2, 1)\n",
        "plt.imshow(wordcloud_fp, interpolation='bilinear')\n",
        "plt.title('False Positives')\n",
        "plt.axis('off')\n",
        "\n",
        "plt.subplot(1, 2, 2)\n",
        "plt.imshow(wordcloud_fn, interpolation='bilinear')\n",
        "plt.title('False Negatives')\n",
        "plt.axis('off')\n",
        "plt.show()"
      ]
    },
    {
      "cell_type": "code",
      "execution_count": null,
      "metadata": {
        "colab": {
          "background_save": true
        },
        "id": "xbtXb8R6Hsmx"
      },
      "outputs": [],
      "source": [
        "import nltk\n",
        "from nltk.corpus import stopwords\n",
        "from nltk.tokenize import word_tokenize\n",
        "import string\n",
        "import matplotlib.pyplot as plt\n",
        "from collections import Counter\n",
        "\n",
        "\n",
        "nltk.download('stopwords')\n",
        "nltk.download('punkt')\n",
        "nltk.download('punkt_tab')\n",
        "\n",
        "def preprocess_text(text):\n",
        "    # Lowercase\n",
        "    text = text.lower()\n",
        "    # Remove punctuation\n",
        "    text = text.translate(str.maketrans('', '', string.punctuation))\n",
        "    # Tokenize\n",
        "    words = word_tokenize(text)\n",
        "    # Remove stopwords\n",
        "    stop_words = set(stopwords.words('english'))\n",
        "    words = [word for word in words if word not in stop_words]\n",
        "    return words\n",
        "\n",
        "# Example FP and FN texts (replace with your data)\n",
        "fp_texts = [\n",
        "    \"Underwriting Agreement  On September 30, 2015, Concho Resources Inc. (the  Company ) entered into an underwriting agreement (the  Underwriting Agreement ) with J.P. Morgan Securities LLC and Credit Suisse Securities (USA), LLC, as representatives (the  Representatives ) of the several underwriters named therein (the  Underwriters ), in connection with an underwritten public offering of up to 8,855,000 shares of common stock (the  Common Shares ), including the Underwriters option to purchase up to an  additional 1,155,000 Common Shares. On October 1, 2015, the Underwriters exercised in full their option to purchase additional Common Shares. The Company expects the net proceeds from the offering to be approximately $794 million, after deducting  estimated fees and expenses. Net proceeds from the offering are expected to be used to repay all outstanding borrowings under the Companys credit facility, which were used in part to finance recent acquisitions, and for general corporate  purposes, including funding potential future acquisitions. The issuance and sale of the Common Shares has been registered under the Securities Act of 1933, as amended (the  Securities Act ), pursuant to an automatic shelf  Registration Statement on Form S-3 (Registration No. 333-206172) of the Company, filed with and deemed automatically effective by the Securities and Exchange Commission on August 6, 2015. Closing of the issuance and sale of the Common  Shares is scheduled for October 6, 2015, subject to customary closing conditions. A legal opinion relating to the validity of the Common Shares is filed herewith as Exhibit 5.1.  The Underwriting Agreement contains customary representations, warranties and agreements by the Company and customary conditions to closing,  obligations of the parties and termination provisions. Additionally, the Company has agreed to indemnify the Underwriters against certain liabilities, including liabilities under the Securities Act, or to contribute to payments the Underwriters may  be required to make because of any of those liabilities. Furthermore, the Company has agreed with the Underwriters not to offer or sell any shares of its common stock (or securities convertible into or exchangeable for common stock), subject to  limited exceptions, for a period of 60 days after the date of the Underwriting Agreement without the prior written consent of the Representatives.  Certain of the Underwriters and their affiliates act as administrative agent, lender, swingline lender and/or letter of credit lender under  the Companys credit facility. Further, certain of the Underwriters or their affiliates have from time to time provided investment banking, commercial banking and financial advisory services to the Company, for which they have received  customary compensation. The Underwriters and their affiliates may provide similar services in the future. In addition, from time to time, certain of the Underwriters and their affiliates may effect transactions for their own account or the account  of customers, and hold on behalf of themselves or their customers, long or short positions in the Companys debt or equity securities or loans, and may do so in the future.  The foregoing description of the Underwriting Agreement is qualified in its entirety by reference to such Underwriting Agreement, a copy of  which is filed herewith as Exhibit 1.1 and is incorporated herein by reference....\"\n",
        "\n",
        "]\n",
        "\n",
        "fn_texts = [\n",
        "    \"In anticipation of consummating the transactions described in Item 1.01 of this Current Report on Form 8-K, on July 15, 2021, Enstar borrowed $300 million under the Revolving Credit Facility, the proceeds of which will be used to fund in part the purchase under the EGL Agreement and pay costs and expenses associated therewith. Following the draw down, Enstar has approximately $125 million of undrawn borrowing capacity under the Revolving Credit Facility. A summary of the material terms of the Revolving Credit Facility is included in Enstar's Annual Report on  Form 10-K  for the year ended December 31, 2020 filed with the SEC on March 1, 2021 and is incorporated herein by reference...\",\n",
        "     \"On August 19, 2020, Enstar Group Limited ('the Company') and its wholly-owned subsidiary, Enstar Finance LLC ('Enstar Finance'), entered into an Underwriting Agreement (the 'Underwriting Agreement') with Wells Fargo Securities, LLC, Barclays Capital Inc., HSBC Securities (USA) Inc. and J.P. Morgan Securities LLC, as representatives of the several underwriters named therein, for the issuance and sale of $350 million aggregate principal amount of 5.75% Fixed-Rate Reset Junior Subordinated Notes due 2040 (the 'Junior Subordinated Notes'). The Junior Subordinated Notes will be issued by Enstar Finance and fully and unconditionally guaranteed, on a junior subordinated basis, by the Company. The sale of the Junior Subordinated Notes has been registered under the Securities Act of 1933, as amended (the 'Securities Act'), pursuant to an automatic shelf registration statement (the 'Registration Statement') on Form S-3 (File Nos. 333-247995 and 333-247995-01) filed with the Securities and Exchange Commission on August 17, 2020. The Underwriting Agreement contains customary representations, warranties and agreements by the Company and Enstar Finance, customary conditions to closing, other obligations of the parties and termination provisions. Additionally, the Company and Enstar Finance have agreed to indemnify the underwriters against certain liabilities, including liabilities under the Securities Act, or to contribute to payments the underwriters may be required to make because of any of those liabilities. The foregoing description of the Underwriting Agreement is qualified by reference to the agreement itself, which is attached as Exhibit 1.1 to this report....\"\n",
        "\n",
        "\n",
        "]\n",
        "\n",
        "# Preprocess all FP and FN texts\n",
        "fp_words = []\n",
        "for text in fp_texts:\n",
        "    fp_words.extend(preprocess_text(text))\n",
        "\n",
        "fn_words = []\n",
        "for text in fn_texts:\n",
        "    fn_words.extend(preprocess_text(text))"
      ]
    },
    {
      "cell_type": "code",
      "execution_count": null,
      "metadata": {
        "colab": {
          "background_save": true
        },
        "id": "M0qQBhNFI8kA"
      },
      "outputs": [],
      "source": [
        "# Count word frequencies\n",
        "fp_word_counts = Counter(fp_words)\n",
        "fn_word_counts = Counter(fn_words)\n",
        "\n",
        "# Get top N most common words\n",
        "top_n = 20\n",
        "top_fp_words = fp_word_counts.most_common(top_n)\n",
        "top_fn_words = fn_word_counts.most_common(top_n)\n",
        "\n",
        "# Separate words and counts for plotting\n",
        "fp_words, fp_counts = zip(*top_fp_words)\n",
        "fn_words, fn_counts = zip(*top_fn_words)"
      ]
    },
    {
      "cell_type": "code",
      "execution_count": null,
      "metadata": {
        "colab": {
          "background_save": true
        },
        "id": "pwS3vbJGJDyR"
      },
      "outputs": [],
      "source": [
        "# Plot FP word frequencies\n",
        "plt.figure(figsize=(12, 6))\n",
        "plt.bar(fp_words, fp_counts, color='red')\n",
        "plt.title('Top 20 Words in False Positives (FP)')\n",
        "plt.xlabel('Words')\n",
        "plt.ylabel('Frequency')\n",
        "plt.xticks(rotation=45)\n",
        "plt.show()\n",
        "\n",
        "# Plot FN word frequencies\n",
        "plt.figure(figsize=(12, 6))\n",
        "plt.bar(fn_words, fn_counts, color='blue')\n",
        "plt.title('Top 20 Words in False Negatives (FN)')\n",
        "plt.xlabel('Words')\n",
        "plt.ylabel('Frequency')\n",
        "plt.xticks(rotation=45)\n",
        "plt.show()"
      ]
    },
    {
      "cell_type": "code",
      "execution_count": null,
      "metadata": {
        "colab": {
          "background_save": true
        },
        "id": "eJe1fufpJRBe"
      },
      "outputs": [],
      "source": [
        "import numpy as np\n",
        "\n",
        "# Combine FP and FN data\n",
        "words_combined = list(set(fp_words).union(set(fn_words)))\n",
        "fp_combined_counts = [fp_word_counts.get(word, 0) for word in words_combined]\n",
        "fn_combined_counts = [fn_word_counts.get(word, 0) for word in words_combined]\n",
        "\n",
        "# Sort by FP counts (descending)\n",
        "sorted_indices = np.argsort(fp_combined_counts)[::-1]\n",
        "words_combined = [words_combined[i] for i in sorted_indices]\n",
        "fp_combined_counts = [fp_combined_counts[i] for i in sorted_indices]\n",
        "fn_combined_counts = [fn_combined_counts[i] for i in sorted_indices]\n",
        "\n",
        "# Plot\n",
        "plt.figure(figsize=(14, 7))\n",
        "x = np.arange(len(words_combined))\n",
        "width = 0.35\n",
        "\n",
        "plt.bar(x - width/2, fp_combined_counts, width, label='False Positives', color='red')\n",
        "plt.bar(x + width/2, fn_combined_counts, width, label='False Negatives', color='blue')\n",
        "\n",
        "plt.title('Word Frequencies in Misclassified Samples')\n",
        "plt.xlabel('Words')\n",
        "plt.ylabel('Frequency')\n",
        "plt.xticks(x, words_combined, rotation=45)\n",
        "plt.legend()\n",
        "plt.tight_layout()\n",
        "plt.show()"
      ]
    }
  ],
  "metadata": {
    "colab": {
      "provenance": []
    },
    "kernelspec": {
      "display_name": "Python 3",
      "name": "python3"
    },
    "language_info": {
      "name": "python"
    },
    "widgets": {
      "application/vnd.jupyter.widget-state+json": {
        "17a3b63f726d4131804deebcddad67a1": {
          "model_module": "@jupyter-widgets/controls",
          "model_name": "HBoxModel",
          "model_module_version": "1.5.0",
          "state": {
            "_dom_classes": [],
            "_model_module": "@jupyter-widgets/controls",
            "_model_module_version": "1.5.0",
            "_model_name": "HBoxModel",
            "_view_count": null,
            "_view_module": "@jupyter-widgets/controls",
            "_view_module_version": "1.5.0",
            "_view_name": "HBoxView",
            "box_style": "",
            "children": [
              "IPY_MODEL_02536ab79ec244a5840f7a8977122e93",
              "IPY_MODEL_f71d22603a344e68a448daa6163cf76a",
              "IPY_MODEL_4fa35ef54c4b4161bb1e8bc9e164d91a"
            ],
            "layout": "IPY_MODEL_b839c67871cc4da381a15ae0ca70c86e"
          }
        },
        "02536ab79ec244a5840f7a8977122e93": {
          "model_module": "@jupyter-widgets/controls",
          "model_name": "HTMLModel",
          "model_module_version": "1.5.0",
          "state": {
            "_dom_classes": [],
            "_model_module": "@jupyter-widgets/controls",
            "_model_module_version": "1.5.0",
            "_model_name": "HTMLModel",
            "_view_count": null,
            "_view_module": "@jupyter-widgets/controls",
            "_view_module_version": "1.5.0",
            "_view_name": "HTMLView",
            "description": "",
            "description_tooltip": null,
            "layout": "IPY_MODEL_2cf474fda11f4ecf96c08f8d7017820f",
            "placeholder": "​",
            "style": "IPY_MODEL_ed385af383cb4cd69ff77b53dfb7f97e",
            "value": "Map: 100%"
          }
        },
        "f71d22603a344e68a448daa6163cf76a": {
          "model_module": "@jupyter-widgets/controls",
          "model_name": "FloatProgressModel",
          "model_module_version": "1.5.0",
          "state": {
            "_dom_classes": [],
            "_model_module": "@jupyter-widgets/controls",
            "_model_module_version": "1.5.0",
            "_model_name": "FloatProgressModel",
            "_view_count": null,
            "_view_module": "@jupyter-widgets/controls",
            "_view_module_version": "1.5.0",
            "_view_name": "ProgressView",
            "bar_style": "success",
            "description": "",
            "description_tooltip": null,
            "layout": "IPY_MODEL_de325a050ee74af0a587b500b045aa8a",
            "max": 176,
            "min": 0,
            "orientation": "horizontal",
            "style": "IPY_MODEL_f9afdfdb118d47588f1f26c412684dd8",
            "value": 176
          }
        },
        "4fa35ef54c4b4161bb1e8bc9e164d91a": {
          "model_module": "@jupyter-widgets/controls",
          "model_name": "HTMLModel",
          "model_module_version": "1.5.0",
          "state": {
            "_dom_classes": [],
            "_model_module": "@jupyter-widgets/controls",
            "_model_module_version": "1.5.0",
            "_model_name": "HTMLModel",
            "_view_count": null,
            "_view_module": "@jupyter-widgets/controls",
            "_view_module_version": "1.5.0",
            "_view_name": "HTMLView",
            "description": "",
            "description_tooltip": null,
            "layout": "IPY_MODEL_fc75550dc9a143ea99b71eda41c3c666",
            "placeholder": "​",
            "style": "IPY_MODEL_c419a060f7ec48d6a9167b20a7f31a80",
            "value": " 176/176 [00:00&lt;00:00, 307.61 examples/s]"
          }
        },
        "b839c67871cc4da381a15ae0ca70c86e": {
          "model_module": "@jupyter-widgets/base",
          "model_name": "LayoutModel",
          "model_module_version": "1.2.0",
          "state": {
            "_model_module": "@jupyter-widgets/base",
            "_model_module_version": "1.2.0",
            "_model_name": "LayoutModel",
            "_view_count": null,
            "_view_module": "@jupyter-widgets/base",
            "_view_module_version": "1.2.0",
            "_view_name": "LayoutView",
            "align_content": null,
            "align_items": null,
            "align_self": null,
            "border": null,
            "bottom": null,
            "display": null,
            "flex": null,
            "flex_flow": null,
            "grid_area": null,
            "grid_auto_columns": null,
            "grid_auto_flow": null,
            "grid_auto_rows": null,
            "grid_column": null,
            "grid_gap": null,
            "grid_row": null,
            "grid_template_areas": null,
            "grid_template_columns": null,
            "grid_template_rows": null,
            "height": null,
            "justify_content": null,
            "justify_items": null,
            "left": null,
            "margin": null,
            "max_height": null,
            "max_width": null,
            "min_height": null,
            "min_width": null,
            "object_fit": null,
            "object_position": null,
            "order": null,
            "overflow": null,
            "overflow_x": null,
            "overflow_y": null,
            "padding": null,
            "right": null,
            "top": null,
            "visibility": null,
            "width": null
          }
        },
        "2cf474fda11f4ecf96c08f8d7017820f": {
          "model_module": "@jupyter-widgets/base",
          "model_name": "LayoutModel",
          "model_module_version": "1.2.0",
          "state": {
            "_model_module": "@jupyter-widgets/base",
            "_model_module_version": "1.2.0",
            "_model_name": "LayoutModel",
            "_view_count": null,
            "_view_module": "@jupyter-widgets/base",
            "_view_module_version": "1.2.0",
            "_view_name": "LayoutView",
            "align_content": null,
            "align_items": null,
            "align_self": null,
            "border": null,
            "bottom": null,
            "display": null,
            "flex": null,
            "flex_flow": null,
            "grid_area": null,
            "grid_auto_columns": null,
            "grid_auto_flow": null,
            "grid_auto_rows": null,
            "grid_column": null,
            "grid_gap": null,
            "grid_row": null,
            "grid_template_areas": null,
            "grid_template_columns": null,
            "grid_template_rows": null,
            "height": null,
            "justify_content": null,
            "justify_items": null,
            "left": null,
            "margin": null,
            "max_height": null,
            "max_width": null,
            "min_height": null,
            "min_width": null,
            "object_fit": null,
            "object_position": null,
            "order": null,
            "overflow": null,
            "overflow_x": null,
            "overflow_y": null,
            "padding": null,
            "right": null,
            "top": null,
            "visibility": null,
            "width": null
          }
        },
        "ed385af383cb4cd69ff77b53dfb7f97e": {
          "model_module": "@jupyter-widgets/controls",
          "model_name": "DescriptionStyleModel",
          "model_module_version": "1.5.0",
          "state": {
            "_model_module": "@jupyter-widgets/controls",
            "_model_module_version": "1.5.0",
            "_model_name": "DescriptionStyleModel",
            "_view_count": null,
            "_view_module": "@jupyter-widgets/base",
            "_view_module_version": "1.2.0",
            "_view_name": "StyleView",
            "description_width": ""
          }
        },
        "de325a050ee74af0a587b500b045aa8a": {
          "model_module": "@jupyter-widgets/base",
          "model_name": "LayoutModel",
          "model_module_version": "1.2.0",
          "state": {
            "_model_module": "@jupyter-widgets/base",
            "_model_module_version": "1.2.0",
            "_model_name": "LayoutModel",
            "_view_count": null,
            "_view_module": "@jupyter-widgets/base",
            "_view_module_version": "1.2.0",
            "_view_name": "LayoutView",
            "align_content": null,
            "align_items": null,
            "align_self": null,
            "border": null,
            "bottom": null,
            "display": null,
            "flex": null,
            "flex_flow": null,
            "grid_area": null,
            "grid_auto_columns": null,
            "grid_auto_flow": null,
            "grid_auto_rows": null,
            "grid_column": null,
            "grid_gap": null,
            "grid_row": null,
            "grid_template_areas": null,
            "grid_template_columns": null,
            "grid_template_rows": null,
            "height": null,
            "justify_content": null,
            "justify_items": null,
            "left": null,
            "margin": null,
            "max_height": null,
            "max_width": null,
            "min_height": null,
            "min_width": null,
            "object_fit": null,
            "object_position": null,
            "order": null,
            "overflow": null,
            "overflow_x": null,
            "overflow_y": null,
            "padding": null,
            "right": null,
            "top": null,
            "visibility": null,
            "width": null
          }
        },
        "f9afdfdb118d47588f1f26c412684dd8": {
          "model_module": "@jupyter-widgets/controls",
          "model_name": "ProgressStyleModel",
          "model_module_version": "1.5.0",
          "state": {
            "_model_module": "@jupyter-widgets/controls",
            "_model_module_version": "1.5.0",
            "_model_name": "ProgressStyleModel",
            "_view_count": null,
            "_view_module": "@jupyter-widgets/base",
            "_view_module_version": "1.2.0",
            "_view_name": "StyleView",
            "bar_color": null,
            "description_width": ""
          }
        },
        "fc75550dc9a143ea99b71eda41c3c666": {
          "model_module": "@jupyter-widgets/base",
          "model_name": "LayoutModel",
          "model_module_version": "1.2.0",
          "state": {
            "_model_module": "@jupyter-widgets/base",
            "_model_module_version": "1.2.0",
            "_model_name": "LayoutModel",
            "_view_count": null,
            "_view_module": "@jupyter-widgets/base",
            "_view_module_version": "1.2.0",
            "_view_name": "LayoutView",
            "align_content": null,
            "align_items": null,
            "align_self": null,
            "border": null,
            "bottom": null,
            "display": null,
            "flex": null,
            "flex_flow": null,
            "grid_area": null,
            "grid_auto_columns": null,
            "grid_auto_flow": null,
            "grid_auto_rows": null,
            "grid_column": null,
            "grid_gap": null,
            "grid_row": null,
            "grid_template_areas": null,
            "grid_template_columns": null,
            "grid_template_rows": null,
            "height": null,
            "justify_content": null,
            "justify_items": null,
            "left": null,
            "margin": null,
            "max_height": null,
            "max_width": null,
            "min_height": null,
            "min_width": null,
            "object_fit": null,
            "object_position": null,
            "order": null,
            "overflow": null,
            "overflow_x": null,
            "overflow_y": null,
            "padding": null,
            "right": null,
            "top": null,
            "visibility": null,
            "width": null
          }
        },
        "c419a060f7ec48d6a9167b20a7f31a80": {
          "model_module": "@jupyter-widgets/controls",
          "model_name": "DescriptionStyleModel",
          "model_module_version": "1.5.0",
          "state": {
            "_model_module": "@jupyter-widgets/controls",
            "_model_module_version": "1.5.0",
            "_model_name": "DescriptionStyleModel",
            "_view_count": null,
            "_view_module": "@jupyter-widgets/base",
            "_view_module_version": "1.2.0",
            "_view_name": "StyleView",
            "description_width": ""
          }
        },
        "a84ee3f9f9cf47a39daedfcd5451d3f5": {
          "model_module": "@jupyter-widgets/controls",
          "model_name": "HBoxModel",
          "model_module_version": "1.5.0",
          "state": {
            "_dom_classes": [],
            "_model_module": "@jupyter-widgets/controls",
            "_model_module_version": "1.5.0",
            "_model_name": "HBoxModel",
            "_view_count": null,
            "_view_module": "@jupyter-widgets/controls",
            "_view_module_version": "1.5.0",
            "_view_name": "HBoxView",
            "box_style": "",
            "children": [
              "IPY_MODEL_30707fbf2a684945b31f402ec510db97",
              "IPY_MODEL_8bec8c95287441adb0b6aa6efee8b8e8",
              "IPY_MODEL_d1ca0657e051411db7e0c544f9ee4d04"
            ],
            "layout": "IPY_MODEL_e531e73c6a4b4489a231a61b17fdf31e"
          }
        },
        "30707fbf2a684945b31f402ec510db97": {
          "model_module": "@jupyter-widgets/controls",
          "model_name": "HTMLModel",
          "model_module_version": "1.5.0",
          "state": {
            "_dom_classes": [],
            "_model_module": "@jupyter-widgets/controls",
            "_model_module_version": "1.5.0",
            "_model_name": "HTMLModel",
            "_view_count": null,
            "_view_module": "@jupyter-widgets/controls",
            "_view_module_version": "1.5.0",
            "_view_name": "HTMLView",
            "description": "",
            "description_tooltip": null,
            "layout": "IPY_MODEL_9c7e5eef6fbd4ee2a2b6497dddf0e66f",
            "placeholder": "​",
            "style": "IPY_MODEL_6188c53961dc4bdd9c3de2688c204fe2",
            "value": "Map: 100%"
          }
        },
        "8bec8c95287441adb0b6aa6efee8b8e8": {
          "model_module": "@jupyter-widgets/controls",
          "model_name": "FloatProgressModel",
          "model_module_version": "1.5.0",
          "state": {
            "_dom_classes": [],
            "_model_module": "@jupyter-widgets/controls",
            "_model_module_version": "1.5.0",
            "_model_name": "FloatProgressModel",
            "_view_count": null,
            "_view_module": "@jupyter-widgets/controls",
            "_view_module_version": "1.5.0",
            "_view_name": "ProgressView",
            "bar_style": "success",
            "description": "",
            "description_tooltip": null,
            "layout": "IPY_MODEL_5ba30f6ccaf74d91bb38e8d6d37f2751",
            "max": 44,
            "min": 0,
            "orientation": "horizontal",
            "style": "IPY_MODEL_0132df268c7b4b9898993833b1074738",
            "value": 44
          }
        },
        "d1ca0657e051411db7e0c544f9ee4d04": {
          "model_module": "@jupyter-widgets/controls",
          "model_name": "HTMLModel",
          "model_module_version": "1.5.0",
          "state": {
            "_dom_classes": [],
            "_model_module": "@jupyter-widgets/controls",
            "_model_module_version": "1.5.0",
            "_model_name": "HTMLModel",
            "_view_count": null,
            "_view_module": "@jupyter-widgets/controls",
            "_view_module_version": "1.5.0",
            "_view_name": "HTMLView",
            "description": "",
            "description_tooltip": null,
            "layout": "IPY_MODEL_949935abc15d4db484b5af7f0c266a7c",
            "placeholder": "​",
            "style": "IPY_MODEL_748bd69ff48943c0a6f9b65498c155d7",
            "value": " 44/44 [00:00&lt;00:00, 167.43 examples/s]"
          }
        },
        "e531e73c6a4b4489a231a61b17fdf31e": {
          "model_module": "@jupyter-widgets/base",
          "model_name": "LayoutModel",
          "model_module_version": "1.2.0",
          "state": {
            "_model_module": "@jupyter-widgets/base",
            "_model_module_version": "1.2.0",
            "_model_name": "LayoutModel",
            "_view_count": null,
            "_view_module": "@jupyter-widgets/base",
            "_view_module_version": "1.2.0",
            "_view_name": "LayoutView",
            "align_content": null,
            "align_items": null,
            "align_self": null,
            "border": null,
            "bottom": null,
            "display": null,
            "flex": null,
            "flex_flow": null,
            "grid_area": null,
            "grid_auto_columns": null,
            "grid_auto_flow": null,
            "grid_auto_rows": null,
            "grid_column": null,
            "grid_gap": null,
            "grid_row": null,
            "grid_template_areas": null,
            "grid_template_columns": null,
            "grid_template_rows": null,
            "height": null,
            "justify_content": null,
            "justify_items": null,
            "left": null,
            "margin": null,
            "max_height": null,
            "max_width": null,
            "min_height": null,
            "min_width": null,
            "object_fit": null,
            "object_position": null,
            "order": null,
            "overflow": null,
            "overflow_x": null,
            "overflow_y": null,
            "padding": null,
            "right": null,
            "top": null,
            "visibility": null,
            "width": null
          }
        },
        "9c7e5eef6fbd4ee2a2b6497dddf0e66f": {
          "model_module": "@jupyter-widgets/base",
          "model_name": "LayoutModel",
          "model_module_version": "1.2.0",
          "state": {
            "_model_module": "@jupyter-widgets/base",
            "_model_module_version": "1.2.0",
            "_model_name": "LayoutModel",
            "_view_count": null,
            "_view_module": "@jupyter-widgets/base",
            "_view_module_version": "1.2.0",
            "_view_name": "LayoutView",
            "align_content": null,
            "align_items": null,
            "align_self": null,
            "border": null,
            "bottom": null,
            "display": null,
            "flex": null,
            "flex_flow": null,
            "grid_area": null,
            "grid_auto_columns": null,
            "grid_auto_flow": null,
            "grid_auto_rows": null,
            "grid_column": null,
            "grid_gap": null,
            "grid_row": null,
            "grid_template_areas": null,
            "grid_template_columns": null,
            "grid_template_rows": null,
            "height": null,
            "justify_content": null,
            "justify_items": null,
            "left": null,
            "margin": null,
            "max_height": null,
            "max_width": null,
            "min_height": null,
            "min_width": null,
            "object_fit": null,
            "object_position": null,
            "order": null,
            "overflow": null,
            "overflow_x": null,
            "overflow_y": null,
            "padding": null,
            "right": null,
            "top": null,
            "visibility": null,
            "width": null
          }
        },
        "6188c53961dc4bdd9c3de2688c204fe2": {
          "model_module": "@jupyter-widgets/controls",
          "model_name": "DescriptionStyleModel",
          "model_module_version": "1.5.0",
          "state": {
            "_model_module": "@jupyter-widgets/controls",
            "_model_module_version": "1.5.0",
            "_model_name": "DescriptionStyleModel",
            "_view_count": null,
            "_view_module": "@jupyter-widgets/base",
            "_view_module_version": "1.2.0",
            "_view_name": "StyleView",
            "description_width": ""
          }
        },
        "5ba30f6ccaf74d91bb38e8d6d37f2751": {
          "model_module": "@jupyter-widgets/base",
          "model_name": "LayoutModel",
          "model_module_version": "1.2.0",
          "state": {
            "_model_module": "@jupyter-widgets/base",
            "_model_module_version": "1.2.0",
            "_model_name": "LayoutModel",
            "_view_count": null,
            "_view_module": "@jupyter-widgets/base",
            "_view_module_version": "1.2.0",
            "_view_name": "LayoutView",
            "align_content": null,
            "align_items": null,
            "align_self": null,
            "border": null,
            "bottom": null,
            "display": null,
            "flex": null,
            "flex_flow": null,
            "grid_area": null,
            "grid_auto_columns": null,
            "grid_auto_flow": null,
            "grid_auto_rows": null,
            "grid_column": null,
            "grid_gap": null,
            "grid_row": null,
            "grid_template_areas": null,
            "grid_template_columns": null,
            "grid_template_rows": null,
            "height": null,
            "justify_content": null,
            "justify_items": null,
            "left": null,
            "margin": null,
            "max_height": null,
            "max_width": null,
            "min_height": null,
            "min_width": null,
            "object_fit": null,
            "object_position": null,
            "order": null,
            "overflow": null,
            "overflow_x": null,
            "overflow_y": null,
            "padding": null,
            "right": null,
            "top": null,
            "visibility": null,
            "width": null
          }
        },
        "0132df268c7b4b9898993833b1074738": {
          "model_module": "@jupyter-widgets/controls",
          "model_name": "ProgressStyleModel",
          "model_module_version": "1.5.0",
          "state": {
            "_model_module": "@jupyter-widgets/controls",
            "_model_module_version": "1.5.0",
            "_model_name": "ProgressStyleModel",
            "_view_count": null,
            "_view_module": "@jupyter-widgets/base",
            "_view_module_version": "1.2.0",
            "_view_name": "StyleView",
            "bar_color": null,
            "description_width": ""
          }
        },
        "949935abc15d4db484b5af7f0c266a7c": {
          "model_module": "@jupyter-widgets/base",
          "model_name": "LayoutModel",
          "model_module_version": "1.2.0",
          "state": {
            "_model_module": "@jupyter-widgets/base",
            "_model_module_version": "1.2.0",
            "_model_name": "LayoutModel",
            "_view_count": null,
            "_view_module": "@jupyter-widgets/base",
            "_view_module_version": "1.2.0",
            "_view_name": "LayoutView",
            "align_content": null,
            "align_items": null,
            "align_self": null,
            "border": null,
            "bottom": null,
            "display": null,
            "flex": null,
            "flex_flow": null,
            "grid_area": null,
            "grid_auto_columns": null,
            "grid_auto_flow": null,
            "grid_auto_rows": null,
            "grid_column": null,
            "grid_gap": null,
            "grid_row": null,
            "grid_template_areas": null,
            "grid_template_columns": null,
            "grid_template_rows": null,
            "height": null,
            "justify_content": null,
            "justify_items": null,
            "left": null,
            "margin": null,
            "max_height": null,
            "max_width": null,
            "min_height": null,
            "min_width": null,
            "object_fit": null,
            "object_position": null,
            "order": null,
            "overflow": null,
            "overflow_x": null,
            "overflow_y": null,
            "padding": null,
            "right": null,
            "top": null,
            "visibility": null,
            "width": null
          }
        },
        "748bd69ff48943c0a6f9b65498c155d7": {
          "model_module": "@jupyter-widgets/controls",
          "model_name": "DescriptionStyleModel",
          "model_module_version": "1.5.0",
          "state": {
            "_model_module": "@jupyter-widgets/controls",
            "_model_module_version": "1.5.0",
            "_model_name": "DescriptionStyleModel",
            "_view_count": null,
            "_view_module": "@jupyter-widgets/base",
            "_view_module_version": "1.2.0",
            "_view_name": "StyleView",
            "description_width": ""
          }
        }
      }
    }
  },
  "nbformat": 4,
  "nbformat_minor": 0
}