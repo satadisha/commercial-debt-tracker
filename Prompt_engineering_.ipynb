{
  "cells": [
    {
      "cell_type": "code",
      "execution_count": null,
      "metadata": {
        "colab": {
          "base_uri": "https://localhost:8080/"
        },
        "id": "D56sRNoknR7L",
        "outputId": "155f25a9-86db-461a-c179-889289c0c33d"
      },
      "outputs": [
        {
          "output_type": "stream",
          "name": "stdout",
          "text": [
            "Requirement already satisfied: openai in /usr/local/lib/python3.11/dist-packages (1.96.1)\n",
            "Requirement already satisfied: anyio<5,>=3.5.0 in /usr/local/lib/python3.11/dist-packages (from openai) (4.9.0)\n",
            "Requirement already satisfied: distro<2,>=1.7.0 in /usr/local/lib/python3.11/dist-packages (from openai) (1.9.0)\n",
            "Requirement already satisfied: httpx<1,>=0.23.0 in /usr/local/lib/python3.11/dist-packages (from openai) (0.28.1)\n",
            "Requirement already satisfied: jiter<1,>=0.4.0 in /usr/local/lib/python3.11/dist-packages (from openai) (0.10.0)\n",
            "Requirement already satisfied: pydantic<3,>=1.9.0 in /usr/local/lib/python3.11/dist-packages (from openai) (2.11.7)\n",
            "Requirement already satisfied: sniffio in /usr/local/lib/python3.11/dist-packages (from openai) (1.3.1)\n",
            "Requirement already satisfied: tqdm>4 in /usr/local/lib/python3.11/dist-packages (from openai) (4.67.1)\n",
            "Requirement already satisfied: typing-extensions<5,>=4.11 in /usr/local/lib/python3.11/dist-packages (from openai) (4.14.1)\n",
            "Requirement already satisfied: idna>=2.8 in /usr/local/lib/python3.11/dist-packages (from anyio<5,>=3.5.0->openai) (3.10)\n",
            "Requirement already satisfied: certifi in /usr/local/lib/python3.11/dist-packages (from httpx<1,>=0.23.0->openai) (2025.7.14)\n",
            "Requirement already satisfied: httpcore==1.* in /usr/local/lib/python3.11/dist-packages (from httpx<1,>=0.23.0->openai) (1.0.9)\n",
            "Requirement already satisfied: h11>=0.16 in /usr/local/lib/python3.11/dist-packages (from httpcore==1.*->httpx<1,>=0.23.0->openai) (0.16.0)\n",
            "Requirement already satisfied: annotated-types>=0.6.0 in /usr/local/lib/python3.11/dist-packages (from pydantic<3,>=1.9.0->openai) (0.7.0)\n",
            "Requirement already satisfied: pydantic-core==2.33.2 in /usr/local/lib/python3.11/dist-packages (from pydantic<3,>=1.9.0->openai) (2.33.2)\n",
            "Requirement already satisfied: typing-inspection>=0.4.0 in /usr/local/lib/python3.11/dist-packages (from pydantic<3,>=1.9.0->openai) (0.4.1)\n",
            "Mounted at /content/gdrive\n"
          ]
        }
      ],
      "source": [
        "!pip install openai\n",
        "\n",
        "import pandas as pd\n",
        "import numpy as np\n",
        "from google.colab import drive\n",
        "drive.mount('/content/gdrive')\n",
        "from openai import OpenAI\n",
        "from google.colab import userdata\n",
        "import os"
      ]
    },
    {
      "cell_type": "code",
      "execution_count": null,
      "metadata": {
        "id": "Nzgo6JIiTB6f",
        "colab": {
          "base_uri": "https://localhost:8080/"
        },
        "outputId": "a8e85ad2-c913-45d4-b48c-d9afdd825f1a"
      },
      "outputs": [
        {
          "output_type": "stream",
          "name": "stdout",
          "text": [
            "Drive already mounted at /content/drive; to attempt to forcibly remount, call drive.mount(\"/content/drive\", force_remount=True).\n"
          ]
        }
      ],
      "source": [
        "from google.colab import drive\n",
        "drive.mount('/content/drive')"
      ]
    },
    {
      "cell_type": "code",
      "execution_count": null,
      "metadata": {
        "id": "ITcxD-Cqsa-b"
      },
      "outputs": [],
      "source": [
        "new = pd.read_csv('/content/drive/MyDrive/CDT Documents/cleaned_banktrack_annotated.csv')"
      ]
    },
    {
      "cell_type": "code",
      "source": [
        "len(new)"
      ],
      "metadata": {
        "colab": {
          "base_uri": "https://localhost:8080/"
        },
        "id": "wHjzxlwBpsdz",
        "outputId": "5de96d73-1ad9-4784-96be-96e686369127"
      },
      "execution_count": null,
      "outputs": [
        {
          "output_type": "execute_result",
          "data": {
            "text/plain": [
              "165"
            ]
          },
          "metadata": {},
          "execution_count": 9
        }
      ]
    },
    {
      "cell_type": "code",
      "execution_count": null,
      "metadata": {
        "colab": {
          "base_uri": "https://localhost:8080/"
        },
        "id": "eAZdLJz73CU6",
        "outputId": "a7f44471-6be6-47c7-939b-986c46848cb3"
      },
      "outputs": [
        {
          "output_type": "execute_result",
          "data": {
            "text/plain": [
              "Batch(id='batch_687e5c75af9c8190857a81ee2f8a96b8', completion_window='24h', created_at=1753111669, endpoint='/v1/chat/completions', input_file_id='file-abc123', object='batch', status='validating', cancelled_at=None, cancelling_at=None, completed_at=None, error_file_id=None, errors=None, expired_at=None, expires_at=1753198069, failed_at=None, finalizing_at=None, in_progress_at=None, metadata=None, output_file_id=None, request_counts=BatchRequestCounts(completed=0, failed=0, total=0))"
            ]
          },
          "metadata": {},
          "execution_count": 28
        }
      ],
      "source": [
        "# Set the API key from Colab's user data secrets\n",
        "os.environ[\"OPENAI_API_KEY\"] = userdata.get('OPENAI_API_KEY')\n",
        "\n",
        "client = OpenAI()\n",
        "\n",
        "client.batches.create(\n",
        "  input_file_id=\"file-abc123\",\n",
        "  endpoint=\"/v1/chat/completions\",\n",
        "  completion_window=\"24h\"\n",
        ")"
      ]
    },
    {
      "cell_type": "code",
      "execution_count": null,
      "metadata": {
        "id": "NaIaLojqRL7A",
        "colab": {
          "base_uri": "https://localhost:8080/"
        },
        "outputId": "93f27b4f-c95d-44e7-cfbf-4b00de28cc9b"
      },
      "outputs": [
        {
          "output_type": "stream",
          "name": "stdout",
          "text": [
            "Original counts: [ 55 110]\n",
            "Balanced counts: [55 55]\n"
          ]
        }
      ],
      "source": [
        "from datasets import DatasetDict\n",
        "def undersample_majority_class(dataset_dict, label_column):\n",
        "    # Extract train split\n",
        "    np.random.seed(42)\n",
        "    train_data = dataset_dict[\"train\"]\n",
        "    labels = np.array(train_data[label_column])\n",
        "    # Identify majority and minority classes\n",
        "    class_counts = np.bincount(labels)\n",
        "    minority_class = np.argmin(class_counts)\n",
        "    minority_count = np.min(class_counts)\n",
        "    # Get indices for both classes\n",
        "    minority_indices = np.where(labels == minority_class)[0]\n",
        "    majority_indices = np.where(labels != minority_class)[0] # Q: what does [0] entail in this situation\n",
        "    # Randomly select subset of majority class to match minority count\n",
        "    undersampled_majority_indices = np.random.choice(\n",
        "        majority_indices,\n",
        "        size=minority_count,  # Match minority count\n",
        "        replace=False  # No duplicates\n",
        "    )\n",
        "    # Combine selected majority + all minority samples\n",
        "    new_indices = np.concatenate([undersampled_majority_indices, minority_indices])\n",
        "    # Create new balanced dataset\n",
        "    balanced_train = train_data.select(new_indices)\n",
        "\n",
        "    # Create the output DatasetDict, only including 'validation' if it exists\n",
        "    output_dict = {\"train\": balanced_train}\n",
        "    if \"validation\" in dataset_dict:\n",
        "        output_dict[\"validation\"] = dataset_dict[\"validation\"]\n",
        "\n",
        "    return DatasetDict(output_dict)\n",
        "# Usage\n",
        "# Convert the pandas DataFrame 'new' to a Hugging Face DatasetDict\n",
        "from datasets import Dataset\n",
        "dataset_dict = DatasetDict({\"train\": Dataset.from_pandas(new)})\n",
        "\n",
        "dataset = undersample_majority_class(dataset_dict,\n",
        "    label_column=\"contains_debt_instrument_information\"\n",
        ")\n",
        "# Verify\n",
        "print(\"Original counts:\", np.bincount(dataset_dict[\"train\"][\"contains_debt_instrument_information\"]))\n",
        "print(\"Balanced counts:\", np.bincount(dataset[\"train\"][\"contains_debt_instrument_information\"]))"
      ]
    },
    {
      "cell_type": "markdown",
      "metadata": {
        "id": "3Cn56CQr-QCJ"
      },
      "source": [
        "Method 1"
      ]
    },
    {
      "cell_type": "code",
      "execution_count": null,
      "metadata": {
        "id": "BHOikHL43oHJ",
        "colab": {
          "base_uri": "https://localhost:8080/"
        },
        "outputId": "e3bf65ba-8ce9-47bb-e86e-48b78569e7b9"
      },
      "outputs": [
        {
          "output_type": "stream",
          "name": "stdout",
          "text": [
            "                                                  text  \\\n",
            "51       Litigation Related to the Merger    In con...   \n",
            "57       On June 14, 2018, Concho Resources Inc. (t...   \n",
            "118   Stone Point Capital Co-investment in Atrium a...   \n",
            "\n",
            "                     company      cik  item  \\\n",
            "51       CONCO RESOURCES INC  1358071  8.01   \n",
            "57       CONCO RESOURCES INC  1358071  8.01   \n",
            "118  CASTLEWOOD HOLDINGS LTD  1363829  1.01   \n",
            "\n",
            "     contains_debt_instrument_information  word_count  \\\n",
            "51                                  False        5538   \n",
            "57                                   True        2065   \n",
            "118                                  True        2600   \n",
            "\n",
            "                                               summary gpt_pred_raw  gpt_pred  \\\n",
            "51   Seven lawsuits were filed in late 2020 related...     52. True      True   \n",
            "57   Concho Resources Inc. announced a public offer...     58. True      True   \n",
            "118  Kenmare Holdings Ltd, a subsidiary of Enstar G...    119. True      True   \n",
            "\n",
            "     gpt_pred_bool  true_label_bool  \n",
            "51            True            False  \n",
            "57            True             True  \n",
            "118           True             True  \n"
          ]
        }
      ],
      "source": [
        "# Step 1: Count words in 'text' column\n",
        "# .astype(str) converts data type of column to string\n",
        "# .str.split() splits the string by whitespace\n",
        "# .apply(len) counts number of words in original string\n",
        "new['word_count'] = new['text'].astype(str).str.split().apply(len)\n",
        "\n",
        "# Step 2: Filter rows with more than 2000 words\n",
        "# .copy() copies original dataframe\n",
        "long_rows = new[new['word_count'] > 2000].copy()\n",
        "\n",
        "# Step 3: Define the summarization function\n",
        "# text is string of text I want to summarize\n",
        "# prompt tells AI model what to do and limits response to 300 words\n",
        "def summarize_text(text, max_words=300):\n",
        "    prompt = f\"\"\"Summarize the following text in no more than {max_words} words.\n",
        "Keep only the most essential details and avoid repetition.\n",
        "\n",
        "Text:\n",
        "{text}\n",
        "\"\"\"\n",
        "# sending request to OpenAI API\n",
        "    response = client.chat.completions.create(\n",
        "        model=\"gpt-3.5-turbo\",\n",
        "        messages=[{\"role\": \"user\", \"content\": prompt}],\n",
        "        temperature=0.3\n",
        "    )\n",
        "    # cleaned summary string is returned\n",
        "    return response.choices[0].message.content.strip()\n",
        "\n",
        "# Step 4: Apply summarization to the full text\n",
        "# each entry in text column in long_rows df is converted to a string\n",
        "# .apply() runs the summarize_text function on each text entry\n",
        "long_rows['summary'] = long_rows['text'].astype(str).apply(lambda x: summarize_text(x, max_words=300))\n",
        "\n",
        "# Assign summaries back to 'new' by matching index\n",
        "matching_idx = long_rows.index.intersection(new.index)\n",
        "new.loc[matching_idx, 'summary'] = long_rows.loc[matching_idx, 'summary']\n",
        "print(long_rows)"
      ]
    },
    {
      "cell_type": "markdown",
      "metadata": {
        "id": "0zyr0Yac3i1-"
      },
      "source": [
        "Batch Prompting"
      ]
    },
    {
      "cell_type": "code",
      "execution_count": null,
      "metadata": {
        "id": "oupUptBM1QdC"
      },
      "outputs": [],
      "source": [
        "import openai\n",
        "def classify_batch(batch_texts, start_idx=1):\n",
        "    few_shot_prompt = \"\"\" laugh out loud\n",
        "\n",
        "Examples:\n",
        "1. \"    Alpha Holding Company, LLC Disposition  On January 19, 2017, Concho Resources Inc. (the  Company ), through its wholly owned subsidiary, COG Operating LLC  ( Seller ), entered into a definitive securities purchase agreement (the  Purchase Agreement ) with Plains Pipeline, L.P. ( Purchaser ) to sell 100% of the issued and  outstanding Class A Units of Alpha Holding Company, LLC ( AHC ) (the  Disposition ), for aggregate consideration of approximately $800 million, subject to customary purchase price  adjustments, after closing of the transactions contemplated by the Class B Purchase Agreement (defined below) and repayment of the outstanding borrowings under the credit facility of Alpha Crude Connector, LLC, a wholly owned subsidiary of AHC.  Contemporaneously with the execution of the Purchase Agreement, Purchaser entered into a definitive purchase agreement with Frontier Midstream Solutions, LLC ( Frontier ) to purchase 100% of the issued and outstanding  Class B Units of AHC (the  Class  B Purchase Agreement ). Closing under the Purchase Agreement and the Class B Purchase Agreement is anticipated to occur contemporaneously during the  first half of 2017, subject to customary closing conditions, as further described below. Seller retains the right under the Limited Liability Company Agreement of AHC, subject to certain conditions, to purchase or cause AHC to purchase all of the  Class B Units of AHC prior to closing under the Purchase Agreement and the Class B Purchase Agreement (an  Option Exercise ). In the event of an Option Exercise, Seller will sell all of the Class A Units and  the Class B Units of AHC to Purchaser for an aggregate purchase price of approximately $1.215 billion. The Company expects the net proceeds to Seller in the event of an Option Exercise and sale to Purchaser of all of the Class A Units and  the Class B Units of AHC to be substantially similar to what Seller would otherwise receive under the Purchase Agreement in the absence of an Option Exercise.  Each partys obligation to consummate the Disposition is conditioned upon, among other things, (i) confirmation of the  counterparties representations and warranties as of the closing, (ii) the counterparties performance, in all material respects, of all covenants, (iii) the receipt of all required approvals (including approval under the  Hart-Scott-Rodino Antitrust Improvements Act of 1976), (iv) the absence of legal matters prohibiting the Disposition, and (v) the satisfaction or waiver by Frontier or Purchaser, as applicable, of certain conditions precedent to the  consummation of the transactions contemplated by the Class B Purchase Agreement.  \" → False\n",
        "2. \"    As previously disclosed, between December 14, 2022 and December 16, 2022, IronNet, Inc. (the \" Company \") issued and sold secured promissory notes in an aggregate principal amount of $6.9 million (the \" Initial Notes \") to a total of eight lenders, and on December 30, 2022, the Company issued a secured promissory note in the principal amount of $2.0 million (the \" First   C5 Note \") to an entity affiliated with C5 Capital Limited (\" C5 \"), a beneficial owner of more than 5% of the Company's outstanding common stock.    In connection with the issuance of the First C5 Note, the Company and the holders of the Initial Notes agreed to amend and restate the Initial Notes to be substantially in the form to be issued to C5, which form was attached as an exhibit to the Current Report on Form  8-K  filed on January 4, 2023 (the \" Restated Initial Notes \"). This amendment and restatement occurred on January 11, 2023. The Restated Initial Notes continue to bear interest at a rate of 13.8% per annum from the respective dates of the Initial Notes, and the Restated Initial Notes are payable at scheduled maturity on June 30, 2023.    Upon entering into the First C5 Note, the Company and C5 also agreed to amend and restate the First C5 Note. Subsequently, the parties agreed that the amended and restated First C5 Note and any future notes to be issued in connection with additional bridge financing by C5 would be convertible into shares of the Company's common stock. On January 11, 2023, the Company issued to C5 an amended and restated convertible promissory note in the principal amount of $2.0 million (the \" Restated C5 Note \"). On January 12, 2023, the Company issued to C5 a new secured convertible promissory note in the principal amount of $3.0 million (the \" Second C5 Note \"). The Restated C5 Note and the Second C5 Note (collectively, the \" C5 Notes \"), in the aggregate principal amount of $5.0 million, are in substantially the form of secured convertible promissory note attached to this report as Exhibit 99.1.    The C5 Notes bear interest at a rate of 13.8% per annum from the date of issuance (or in the case of the Restated C5 Note, from the date of the First C5 Note), and all such notes are payable at scheduled maturity on June 30, 2023, subject to acceleration in certain circumstances.    The Company's obligations under the Restated Initial Notes and the C5 Notes are secured by substantially all of the assets of the Company, excluding the Company's intellectual property. C5 and each of the holders of the Restated Initial Notes have executed an Amended and Restated Security Agreement in the form attached as an exhibit to the Current Report on Form  8-K  filed on January 4, 2023.    The C5 Notes provide C5 with the right, at any time on or after the date that is five calendar days prior to maturity, to convert any portion of the principal amount of the C5 Notes, together with any accrued and unpaid interest and any other unpaid amounts, into shares of the Company's common stock, par value $0.0001 per share (the \" Common Stock \"), at a conversion price of $2.00 per share. In the event that any shares of Common Stock are issued upon conversion of the C5 Notes, the Company has agreed to grant specified registration rights to C5.    The foregoing description of the C5 Notes does not purport to be complete and is subject to, and is qualified in its entirety by reference to, the form of C5 Note filed herewith as Exhibit 99.1 and incorporated herein by reference.  \" → True\n",
        "3. \"    Between December 14, 2022 and December 16, 2022, IronNet, Inc. (the \" Company \") issued and sold secured promissory notes in an aggregate principal amount of $6.9 million (the \" Notes \") to a total of eight lenders. The lenders included GEN Keith B. Alexander (Ret.), the founder, Chief Executive Officer and Chairman of the Board of Directors of the Company. The Notes were also issued to lenders that include VADM John M. McConnell (Ret.), Hon. Michael J. Rogers, Theodore E. Schlein and VADM Jan E. Tighe (Ret.), each of whom is a director of the Company, as well as funds affiliated with Forgepoint Capital (the \" Forgepoint Funds \"). Donald R. Dixon, a member of the Company's board of directors, is an affiliate of ForgePoint Capital, and the ForgePoint Funds are also beneficial owners of greater than 5% of the Company's common stock.    Each Note has a scheduled maturity date of one year from the date of issuance, except that the Note issued to one lender that is not, and is not affiliated with, a director of the Company has a scheduled maturity date of six months from the date of issuance. The Notes bear interest at a rate of 13.8% per annum, payable at maturity. The Company may prepay the Notes at any time without premium or penalty, and the Notes do not restrict the incurrence of future indebtedness by the Company.    In the event that the Company fails to timely pay amounts due under the Notes or the Company materially defaults in its performance of any other covenant under the Notes or the Security Agreement (as defined below), which default is not cured within 30 days after written notice thereof, then at the option of the lenders, upon the written consent of lenders representing a majority of the outstanding and unpaid principal under the Notes, all unpaid principal, accrued interest and other amounts owing under the Notes shall be immediately due and payable.    In the event that the Company files any petition or action for relief under any bankruptcy, reorganization, insolvency or moratorium law or any other law for the relief of or relating to debtors, or makes any assignment for the benefit of creditors or takes any corporate action in furtherance thereof, or if an involuntary petition is filed against the Company (unless such petition is dismissed or discharged within 60 days) under any bankruptcy statute, or a custodian, receiver, trustee, assignee for the benefit of creditors is appointed to take possession, custody or control of any property of the Company, then all unpaid principal, accrued interest and other amounts owing under the Notes will accelerate and automatically become immediately due and payable.    The Notes are secured by substantially all of the assets of the Company, excluding the Company's intellectual property. The Company entered into a Security Agreement (the \" Security Agreements \") with each of the lenders.    The forgoing descriptions of the Notes and the Security Agreements do not purport to be complete and are subject to, and are qualified in their entirety by reference to, the form of Note and form of Security Agreement filed hereto as Exhibits 4.1 and 10.1, respectively, and incorporated herein by reference.  \" → True\n",
        "4. \"    Credit Agreement  In connection with the completion of the Merger, on August 4, 2016, Higher One, Inc. ( Higher One ), a Delaware corporation and direct  wholly owned subsidiary of the Company, terminated the existing credit agreement, dated as of October 16, 2012 (as amended, the  Credit Agreement ), among Higher One, as borrower, the Company, Higher One Machines, Inc.,  Higher One Real Estate, Inc. and Higher One Real Estate SP, LLC, as guarantors, Bank of America, N.A. as administrative agent, swingline lender and letter of credit issuer, and the other lenders party thereto, and all commitments thereunder. At the  time of such termination, there were no outstanding revolving loans or outstanding letters of credit under the Credit Agreement. In connection with such termination, all liens on the assets of Higher One, the Company and Higher Ones  subsidiaries securing such facility, together with such subsidiary or Company guarantees, were released and terminated.\" → True\n",
        "5. \"    On December 28, 2022, the Company and C5 entered into an agreement pursuant to which they have agreed to a mutual exclusivity period through January 31, 2023 to seek to negotiate definitive agreements with respect to a potential offer by C5 to acquire all of the outstanding common stock of the Company not presently owned by C5 and certain of its affiliates (the \"Proposed Transaction\"). Commencement of the exclusivity period was subject to C5 providing the $2.0 million of bridge financing described in Item 1.01 above. Continuation of the exclusivity period after January 9, 2023 is subject to C5 entering into additional Restated Notes providing $3.5 million of additional bridge financing by January 9, 2023. The January 31, 2023 expiration date is subject to an automatic extension of an additional seven days if C5 provides additional bridge financing sufficient to fund the Company's operations for such seven-day period (up to a maximum additional amount of $3.5 million).\" → False\n",
        "6. \"    On June 28, 2018, Fuse Enterprises Inc. (the 'Company') entered into a Share Purchase Agreement (the 'Purchase Agreement') with Fuse Trading Limited, a wholly-owned subsidiary of the Company ('Trading'), and Landbond Home Limited (the 'Purchaser')... pursuant to which the Company agreed to sell to the Purchaser in a private placement (the 'Private Placement') 19,628,050 shares of the Company's common stock... for an aggregate offering price of $6,869,817.60.\" → False\n",
        "7. \"    The Registrant is filing the exhibits listed in Item 9.01(d) below in connection with the public issuance of Class A-1 Asset Backed Notes, Class A-2 Asset Backed Notes, Class A-3 Asset Backed Notes, Class A-4 Asset Backed Notes and Class B Asset Backed Notes (collectively, the Offered Notes) by CNH Equipment Trust 2011-C, described in the Prospectus dated December 1, 2011 and the Prospectus Supplement dated December 7, 2011.\" → False\n",
        "\n",
        "Now classify the following:\n",
        "\"\"\"\n",
        "# building a numbered list of sentences to append to prompt so model can process a batch of inputs at once\n",
        "# with clear numbering and formatting for each input example\n",
        "    numbered_batch = \"\"\n",
        "    for i, sentence in enumerate(batch_texts, start=start_idx):\n",
        "        numbered_batch += f\"{i}. \\\"{sentence}\\\" →\\n\"\n",
        "\n",
        "    final_prompt = few_shot_prompt + numbered_batch\n",
        "\n",
        "    response = client.chat.completions.create( # maybe use different function rather than chat completion\n",
        "        model=\"gpt-3.5-turbo\", # wayyy faster than gpt 4; went from 6-7 minutes (only a third complete) to 1 minute (fully complete)\n",
        "        messages=[{\"role\": \"user\", \"content\": final_prompt}],\n",
        "        temperature=0\n",
        "    )\n",
        "\n",
        "    return response.choices[0].message.content\n",
        "\n",
        "results = []\n",
        "batch_size = 7 # Process 5 rows at a time"
      ]
    },
    {
      "cell_type": "code",
      "source": [
        "len(texts)"
      ],
      "metadata": {
        "colab": {
          "base_uri": "https://localhost:8080/",
          "height": 144
        },
        "id": "wxpSsOZVqIgi",
        "outputId": "17dd4847-9ca9-4b85-9365-20fe73486ed4"
      },
      "execution_count": null,
      "outputs": [
        {
          "output_type": "error",
          "ename": "NameError",
          "evalue": "name 'texts' is not defined",
          "traceback": [
            "\u001b[0;31m---------------------------------------------------------------------------\u001b[0m",
            "\u001b[0;31mNameError\u001b[0m                                 Traceback (most recent call last)",
            "\u001b[0;32m/tmp/ipython-input-15-2626021249.py\u001b[0m in \u001b[0;36m<cell line: 0>\u001b[0;34m()\u001b[0m\n\u001b[0;32m----> 1\u001b[0;31m \u001b[0mlen\u001b[0m\u001b[0;34m(\u001b[0m\u001b[0mtexts\u001b[0m\u001b[0;34m)\u001b[0m\u001b[0;34m\u001b[0m\u001b[0;34m\u001b[0m\u001b[0m\n\u001b[0m",
            "\u001b[0;31mNameError\u001b[0m: name 'texts' is not defined"
          ]
        }
      ]
    },
    {
      "cell_type": "code",
      "source": [
        "batch_size"
      ],
      "metadata": {
        "colab": {
          "base_uri": "https://localhost:8080/"
        },
        "id": "1pZ4BrmGqWRy",
        "outputId": "3fac75fe-91de-41c6-f27d-042c8d9fb662"
      },
      "execution_count": null,
      "outputs": [
        {
          "output_type": "execute_result",
          "data": {
            "text/plain": [
              "7"
            ]
          },
          "metadata": {},
          "execution_count": 16
        }
      ]
    },
    {
      "cell_type": "code",
      "source": [
        "print(len(text))\n",
        "print(len(new))"
      ],
      "metadata": {
        "colab": {
          "base_uri": "https://localhost:8080/",
          "height": 162
        },
        "id": "HIWkjWuOsaXA",
        "outputId": "cfcbbb1e-dd32-4d32-d1e8-9fee99d0bd27"
      },
      "execution_count": null,
      "outputs": [
        {
          "output_type": "error",
          "ename": "NameError",
          "evalue": "name 'text' is not defined",
          "traceback": [
            "\u001b[0;31m---------------------------------------------------------------------------\u001b[0m",
            "\u001b[0;31mNameError\u001b[0m                                 Traceback (most recent call last)",
            "\u001b[0;32m/tmp/ipython-input-19-3940326110.py\u001b[0m in \u001b[0;36m<cell line: 0>\u001b[0;34m()\u001b[0m\n\u001b[0;32m----> 1\u001b[0;31m \u001b[0mprint\u001b[0m\u001b[0;34m(\u001b[0m\u001b[0mlen\u001b[0m\u001b[0;34m(\u001b[0m\u001b[0mtext\u001b[0m\u001b[0;34m)\u001b[0m\u001b[0;34m)\u001b[0m\u001b[0;34m\u001b[0m\u001b[0;34m\u001b[0m\u001b[0m\n\u001b[0m\u001b[1;32m      2\u001b[0m \u001b[0mprint\u001b[0m\u001b[0;34m(\u001b[0m\u001b[0mlen\u001b[0m\u001b[0;34m(\u001b[0m\u001b[0mnew\u001b[0m\u001b[0;34m)\u001b[0m\u001b[0;34m)\u001b[0m\u001b[0;34m\u001b[0m\u001b[0;34m\u001b[0m\u001b[0m\n",
            "\u001b[0;31mNameError\u001b[0m: name 'text' is not defined"
          ]
        }
      ]
    },
    {
      "cell_type": "code",
      "source": [
        "texts = new['text'].astype(str).tolist()\n",
        "\n",
        "i = len(texts) - 1\n",
        "batch = texts[i:i+batch_size]\n",
        "print(batch)\n",
        "print()\n",
        "output = classify_batch(batch, start_idx= i + 1)\n",
        "print(output)\n",
        "print(output.strip())\n",
        "print(output.strip().split('\\n'))\n",
        "#output.strip().split('\\n'))"
      ],
      "metadata": {
        "colab": {
          "base_uri": "https://localhost:8080/"
        },
        "id": "YIx7DgxluhTW",
        "outputId": "700c4273-4bf0-4953-d1d8-f3867f38e1ff"
      },
      "execution_count": null,
      "outputs": [
        {
          "output_type": "stream",
          "name": "stdout",
          "text": [
            "['  Exhibit 99.1 to this Form 8-K is Theravance, Inc.s current  investor presentation and is incorporated by reference herein.  With regard to expense guidance for 2013, we currently anticipate that total 2013 Research and Development expenses plus Selling, General and Administrative expenses will be in the range of $125 million to $135 million.  This guidance does not include stock-based compensation expense or any milestone payments to GlaxoSmithKline plc (GSK) under our long-acting beta 2  agonist (LABA) collaboration with GSK.  Our expectations regarding our expenses for 2013 are forward-looking statements based solely on management estimates utilizing currently available information. As described below under Note Regarding Forward-Looking Statements, investors are cautioned that forward-looking statements are not guarantees of future performance and involve significant risks and uncertainties, and that actual results may differ materially from those projected in the forward-looking statements. Our independent registered public accounting firm has not audited, reviewed or performed any procedures with respect to these expected expenses and, accordingly, does not express an opinion or any other form of assurance with respect to these expectations.  Note Regarding Forward-Looking Statements  This Current Report on Form 8-K and the attached presentation contains certain forward-looking statements as that term is defined in the Private Securities Litigation Reform Act of 1995 regarding, among other things, statements relating to goals, plans, objectives and future events.  We intend such forward-looking statements to be covered by the safe harbor provisions for forward-looking statements contained in Section 21E of the Securities Exchange Act of 1934 and the Private Securities Litigation Reform Act of 1995. The words may, will, should, could, would, plan, anticipate, believe, estimate, intend, goal, project, potential, designed, expect, consistent, support, target and promising and similar expressions are intended to identify such forward-looking statements.  Examples of such statements include statements relating to expense guidance for 2013, the status and timing of clinical studies, data analysis and communication of results, statements regarding the potential benefits and mechanisms of action of drug candidates, statements concerning the timing of seeking regulatory approval of our product candidates (including, with respect to VIBATIV(r), statements regarding any expectation that we will be able to respond fully or adequately to the FDAs requests using currently existing clinical data and any expectation that the FDA will approve the VIBATIV(r) nosocomial pneumonia NDA on the basis of existing preclinical and clinical data or at all), statements concerning the enabling capabilities of our approach to drug discovery and its proprietary insights, statements concerning expectations for the discovery, development and commercialization of product candidates and projections of revenue, expenses and other financial items.  These statements are based on the current estimates and assumptions of our management as of the date of this Current Report on Form 8-K and are subject to risks, uncertainties, changes in circumstances, assumptions and other factors that may cause our actual results to be materially different from those reflected in its forward-looking statements.  Important factors that could cause actual results to differ materially from those indicated by such forward-looking statements include, among others, risks related to delays or difficulties in commencing or completing clinical and non-clinical studies, the potential that results of clinical or non-clinical studies indicate product candidates are unsafe or ineffective, our dependence on third parties in the conduct of our clinical studies, delays or failure to achieve regulatory approvals for product candidates, risks of relying on third-party manufacturers for the supply of our product and product candidates and risks of collaborating with third parties to discover, develop and commercialize products. These and other risks are described in greater detail under the heading Risk Factors contained in our Registration Statement on Form S-3 filed with the Securities and Exchange Commission (SEC) on January 16, 2013, and the risks discussed in our periodic filings with the SEC. Given these uncertainties, you should not place undue reliance on these forward-looking statements. We assume no obligation to update these forward-looking statements.']\n",
            "\n",
            "True\n",
            "True\n",
            "['True']\n"
          ]
        }
      ]
    },
    {
      "cell_type": "code",
      "execution_count": null,
      "metadata": {
        "id": "0kk0JBAN45Sq"
      },
      "outputs": [],
      "source": [
        "# converting the text data into a list, looping through it in batches, classifying each batch,\n",
        "# printing the output, and collecting all classification results in one list\n",
        "results=[]\n",
        "texts = new['text'].astype(str).tolist() # from new df and it is a column\n",
        "\n",
        "for i in range(0, len(texts), batch_size):\n",
        "    batch = texts[i:i+batch_size]\n",
        "    output = classify_batch(batch, start_idx= i + 1)\n",
        "    results.extend(output.strip().split('\\n'))\n",
        "    #print(output)\n",
        "    #results.extend(output.strip().split('\\n'))\n",
        "#results = [r.strip() for r in results]"
      ]
    },
    {
      "cell_type": "code",
      "source": [
        "results"
      ],
      "metadata": {
        "id": "zqe8hC1Hsgfa"
      },
      "execution_count": null,
      "outputs": []
    },
    {
      "cell_type": "code",
      "source": [
        "print(len(results))\n",
        "print(len(new))"
      ],
      "metadata": {
        "id": "aimq41S0qlNn"
      },
      "execution_count": null,
      "outputs": []
    },
    {
      "cell_type": "code",
      "execution_count": null,
      "metadata": {
        "id": "apwFHUGdHFgz",
        "colab": {
          "base_uri": "https://localhost:8080/"
        },
        "outputId": "3ea0db49-0e01-427d-90a5-ef897baf8cbc"
      },
      "outputs": [
        {
          "output_type": "stream",
          "name": "stdout",
          "text": [
            "F1 Score: 0.797\n",
            "\n",
            "Classification Report:\n",
            "              precision    recall  f1-score   support\n",
            "\n",
            "       False       0.50      0.04      0.07        55\n",
            "        True       0.67      0.98      0.80       110\n",
            "\n",
            "    accuracy                           0.67       165\n",
            "   macro avg       0.59      0.51      0.43       165\n",
            "weighted avg       0.61      0.67      0.55       165\n",
            "\n"
          ]
        }
      ],
      "source": [
        "# Convert both predictions and labels to boolean\n",
        "new['gpt_pred_bool'] = new['gpt_pred'].astype(str).str.lower() == 'true'\n",
        "new['true_label_bool'] = new['contains_debt_instrument_information'].astype(str).str.lower() == 'true'\n",
        "\n",
        "from sklearn.metrics import f1_score, classification_report\n",
        "\n",
        "# Get prediction and true label series\n",
        "y_pred = new['gpt_pred_bool']\n",
        "y_true = new['true_label_bool']\n",
        "\n",
        "# Calculate and print F1 score\n",
        "f1 = f1_score(y_true, y_pred)\n",
        "print(f\"F1 Score: {f1:.3f}\")\n",
        "\n",
        "# (Optional) See full breakdown: precision, recall, etc.\n",
        "print(\"\\nClassification Report:\")\n",
        "print(classification_report(y_true, y_pred))"
      ]
    },
    {
      "cell_type": "code",
      "execution_count": null,
      "metadata": {
        "id": "aUJ2HJAlHjS-"
      },
      "outputs": [],
      "source": [
        "from sklearn.metrics import confusion_matrix, ConfusionMatrixDisplay\n",
        "import matplotlib.pyplot as plt\n",
        "\n",
        "# Generate matrix\n",
        "cm = confusion_matrix(new['true_label_bool'], new['gpt_pred_bool'])\n",
        "\n",
        "# Plot it\n",
        "disp = ConfusionMatrixDisplay(confusion_matrix=cm, display_labels=[\"False\", \"True\"])\n",
        "disp.plot(cmap='Blues')\n",
        "plt.title(\"GPT Classification Confusion Matrix\")\n",
        "plt.show()"
      ]
    },
    {
      "cell_type": "markdown",
      "metadata": {
        "id": "wf_IK718HTDn"
      },
      "source": [
        "How does this compare to fine-tuning results?\n",
        "\n",
        "I'd like to identify false trues and falses, maybe there was human error\n",
        "\n",
        "*   undersample true values\n",
        "*   or oversample false values like Tracy did\n",
        "\n",
        "just go through examples in coral's dataset and compare specific rows there"
      ]
    },
    {
      "cell_type": "code",
      "execution_count": null,
      "metadata": {
        "id": "vWhbhhaRYsNz"
      },
      "outputs": [],
      "source": [
        "\n",
        "pip install transformers accelerate --quiet"
      ]
    },
    {
      "cell_type": "code",
      "execution_count": null,
      "metadata": {
        "id": "pQ92V2uQa2Na",
        "colab": {
          "base_uri": "https://localhost:8080/",
          "height": 241,
          "referenced_widgets": [
            "198cb4fc28a34214b157dedfecda6283",
            "b846059f32414938b581ae2303781b1b",
            "8b7ddf24aa884cc489930810988c891a",
            "62f9454e557e4632b4e54461ff97da1e",
            "53c9f316dc87474bb9f9bbddb60b0f99",
            "fc13b756afb7434ba0dd51259280c6bf",
            "225cb06fd7f848d09b7b9eb51aef5f92",
            "54433b4cdc1f451d872a19422137f46d",
            "bf84813fcee54b789619ee814f68a65a",
            "b9c4215d4bba4f9cbec806de4496469f",
            "7de4d0c608a74cc0b5c587811e5cbdbc",
            "11d3a5d8c1514330a55fcb7d5355369f",
            "538f0c987f1e445e87f36da6844a4281",
            "c77745d4b1414ba5a24c3363a2a69889",
            "9c5e35af598e4c48b6f07ca08c72de8f",
            "f5a3cb2325a649a0a54a6c56574b4b23",
            "07afbbb5d08143d2873a7d455bdae54b",
            "0755f5fd01ec484eb8e64197a7da03e1",
            "31c25a9255924616aa2c0d51f67c5dac",
            "86c8a88681fe4f96a00e8086263e6d78",
            "eb42850344ba45aa9068e4cd1d87657a",
            "dbf98a9f070145428ce6a6747b9727de",
            "fdc6f22911304caaa2a003cbe8a886bf",
            "64b1f906853d4d6ca71feef4d58db184",
            "3bb725e6a5504da8b71e1c2fbc3dbd56",
            "0361cc2c606c427e9de28ce3151f21d1",
            "c83e064686b8467d9b5048f66f998d1b",
            "0915cc6f0bbc4a798978efad3cbeb4ad",
            "830c140aa41542ed885a8a2f4b433005",
            "62d25fc99165429f84e618172f471dcb",
            "d3fca4de72164de099cfdc9caab83160",
            "8f15ab13f9be4a4f8ed1ee5909572173",
            "99469b1aedf24d388ca16a915ed3a8b3",
            "43f122e5babd480899fa2f18b09e8570",
            "2900e273e3ba4933af798d9254049e70",
            "45eb13142b9742a5bd82b8b7f0911627",
            "df5f69f4dd3a4514a12c504945c08ea8",
            "add6792d66244078a270b1e2f02c5e28",
            "cd36153d9c064c169ecbf83eaf977444",
            "0ae1a298539846a8a88d0717220df187",
            "4dffef527e794f60a8538d67b200a239",
            "ce62b8672ef2401d9a6de97df89d6345",
            "62920ff093f34097b648bba7367a8d98",
            "317f44dcfcfc40e58b0a9cbd1c7d88e7",
            "cc1e01fe82a641fd976bc9d24d417bec",
            "7934d647462e4be0b6081b2be178b3e4",
            "72d9ec0e673646da8ab65a4d5cc911aa",
            "ec2d290e01234593b9676704f758847b",
            "d6fbe7d3b08446bfb6e58c4631e6843a",
            "a5b86751b21147b2936b834957ed58ef",
            "88468a960b0e4a8e967d2881351ede81",
            "6b7a568ccbb54210b771e630fafc491b",
            "4e08b27394eb4ac391d74210a3ba06f3",
            "52a7177bedc240aeb62bc71befbfbb6f",
            "63fac07c08f2463b9e0e85f3cea688d7",
            "752c8eaf7dc046438ff7c72e0aeab5dd",
            "480c897335a7489d8209a85b9afff171",
            "be206a28facb461dbf11db35eca5175d",
            "685c8e0091be4ba9811510bb64d81919",
            "d9c96ddcfd2c4173bf02e9f5e810b929",
            "d8604d06268c40b185ea3a3342f809f8",
            "770f4a7506f044a9930d08ad62d58168",
            "1b3696362bd9458a85dbae0861711423",
            "dfc83fe87eac4536ada78c5fe717837f",
            "e3e6bb12fcec43c7b38de93fa7320125",
            "233a7be23ab1422eac9e1c956d879d8e",
            "f13ea54aacd54e1db89e19dd571ccf23",
            "8f99d924da8b4f9aa19ecb9b57edda17",
            "75acc35938134a64b763c71e93d3b759",
            "4d59fcb044b94c088bced38b528dfe9f",
            "cae0b65f8f204bcf99326afbd7bfdfe2",
            "99a8e71fa15b4952ba67ec6f74a69228",
            "f8c3c5577ecd40b6826beffcdfd889bd",
            "0fe3875a16424c9ca493d37b313f1236",
            "c355deb4179942dd92dd78311236ade4",
            "cce94c4408a640f4a0bc0251d767d2c4",
            "df4cc428dc8b47cbba9c743624f5cb1c"
          ]
        },
        "outputId": "a221159a-2c6d-495a-bfd4-f2a0a16f5d3e"
      },
      "outputs": [
        {
          "output_type": "display_data",
          "data": {
            "text/plain": [
              "tokenizer_config.json: 0.00B [00:00, ?B/s]"
            ],
            "application/vnd.jupyter.widget-view+json": {
              "version_major": 2,
              "version_minor": 0,
              "model_id": "198cb4fc28a34214b157dedfecda6283"
            }
          },
          "metadata": {}
        },
        {
          "output_type": "display_data",
          "data": {
            "text/plain": [
              "spiece.model:   0%|          | 0.00/792k [00:00<?, ?B/s]"
            ],
            "application/vnd.jupyter.widget-view+json": {
              "version_major": 2,
              "version_minor": 0,
              "model_id": "11d3a5d8c1514330a55fcb7d5355369f"
            }
          },
          "metadata": {}
        },
        {
          "output_type": "display_data",
          "data": {
            "text/plain": [
              "tokenizer.json: 0.00B [00:00, ?B/s]"
            ],
            "application/vnd.jupyter.widget-view+json": {
              "version_major": 2,
              "version_minor": 0,
              "model_id": "fdc6f22911304caaa2a003cbe8a886bf"
            }
          },
          "metadata": {}
        },
        {
          "output_type": "display_data",
          "data": {
            "text/plain": [
              "special_tokens_map.json: 0.00B [00:00, ?B/s]"
            ],
            "application/vnd.jupyter.widget-view+json": {
              "version_major": 2,
              "version_minor": 0,
              "model_id": "43f122e5babd480899fa2f18b09e8570"
            }
          },
          "metadata": {}
        },
        {
          "output_type": "display_data",
          "data": {
            "text/plain": [
              "config.json: 0.00B [00:00, ?B/s]"
            ],
            "application/vnd.jupyter.widget-view+json": {
              "version_major": 2,
              "version_minor": 0,
              "model_id": "cc1e01fe82a641fd976bc9d24d417bec"
            }
          },
          "metadata": {}
        },
        {
          "output_type": "display_data",
          "data": {
            "text/plain": [
              "model.safetensors:   0%|          | 0.00/990M [00:00<?, ?B/s]"
            ],
            "application/vnd.jupyter.widget-view+json": {
              "version_major": 2,
              "version_minor": 0,
              "model_id": "752c8eaf7dc046438ff7c72e0aeab5dd"
            }
          },
          "metadata": {}
        },
        {
          "output_type": "display_data",
          "data": {
            "text/plain": [
              "generation_config.json:   0%|          | 0.00/147 [00:00<?, ?B/s]"
            ],
            "application/vnd.jupyter.widget-view+json": {
              "version_major": 2,
              "version_minor": 0,
              "model_id": "f13ea54aacd54e1db89e19dd571ccf23"
            }
          },
          "metadata": {}
        }
      ],
      "source": [
        "from transformers import AutoTokenizer, AutoModelForSeq2SeqLM\n",
        "import torch\n",
        "\n",
        "device = \"cuda\" if torch.cuda.is_available() else \"cpu\"\n",
        "model_name = \"google/flan-t5-base\"  # use X-X-large ONLYYYY if you have a good GPU\n",
        "\n",
        "tokenizer = AutoTokenizer.from_pretrained(model_name)\n",
        "model = AutoModelForSeq2SeqLM.from_pretrained(model_name).to(device)\n"
      ]
    },
    {
      "cell_type": "code",
      "execution_count": null,
      "metadata": {
        "id": "iVka3JfdbFx_"
      },
      "outputs": [],
      "source": [
        "from transformers import AutoTokenizer, AutoModelForSeq2SeqLM\n",
        "import torch\n",
        "\n",
        "def classify_flan_t5_with_examples(texts, batch_size=7):\n",
        "    results = []\n",
        "\n",
        "    few_shot_template = \"\"\"\n",
        "The documents here disclose significant, unscheduled events or corporate changes.\n",
        "Debt financing is when a company borrows money (or is given the right to borrow money) from a collection of lenders. This is primarily done through bonds, notes, loans, credit facilities. Key words include: Term Loan Agreement, Amended and Restated Credit Agreement, Revolving Credit Agreement, Junior Subordinated Notes, Bond, Debt Settlement Agreement.\n",
        "I want you to think like a financial analyst reviewing filings to determine whether the documents contain material information related to commercial debt. Respond “True” or “False” for each user prompt.\n",
        "\n",
        "Example 1:\n",
        "\"Alpha Holding Company, LLC Disposition  On January 19, 2017, Concho Resources Inc. (the  Company ), through its wholly owned subsidiary, COG Operating LLC  ( Seller ), entered into a definitive securities purchase agreement (the  Purchase Agreement ) with Plains Pipeline, L.P. ( Purchaser ) to sell 100% of the issued and  outstanding Class A Units of Alpha Holding Company, LLC ( AHC ) (the  Disposition ), for aggregate consideration of approximately $800 million, subject to customary purchase price  adjustments, after closing of the transactions contemplated by the Class B Purchase Agreement (defined below) and repayment of the outstanding borrowings under the credit facility of Alpha Crude Connector, LLC, a wholly owned subsidiary of AHC.  Contemporaneously with the execution of the Purchase Agreement, Purchaser entered into a definitive purchase agreement with Frontier Midstream Solutions, LLC ( Frontier ) to purchase 100% of the issued and outstanding  Class B Units of AHC (the  Class  B Purchase Agreement ). Closing under the Purchase Agreement and the Class B Purchase Agreement is anticipated to occur contemporaneously during the  first half of 2017, subject to customary closing conditions, as further described below. Seller retains the right under the Limited Liability Company Agreement of AHC, subject to certain conditions, to purchase or cause AHC to purchase all of the  Class B Units of AHC prior to closing under the Purchase Agreement and the Class B Purchase Agreement (an  Option Exercise ). In the event of an Option Exercise, Seller will sell all of the Class A Units and  the Class B Units of AHC to Purchaser for an aggregate purchase price of approximately $1.215 billion. The Company expects the net proceeds to Seller in the event of an Option Exercise and sale to Purchaser of all of the Class A Units and  the Class B Units of AHC to be substantially similar to what Seller would otherwise receive under the Purchase Agreement in the absence of an Option Exercise.  Each partys obligation to consummate the Disposition is conditioned upon, among other things, (i) confirmation of the  counterparties representations and warranties as of the closing, (ii) the counterparties performance, in all material respects, of all covenants, (iii) the receipt of all required approvals (including approval under the  Hart-Scott-Rodino Antitrust Improvements Act of 1976), (iv) the absence of legal matters prohibiting the Disposition, and (v) the satisfaction or waiver by Frontier or Purchaser, as applicable, of certain conditions precedent to the  consummation of the transactions contemplated by the Class B Purchase Agreement.\" -> False\n",
        "\n",
        "Example 2:\n",
        "\"As previously disclosed, between December 14, 2022 and December 16, 2022, IronNet, Inc. (the \"Company\") issued and sold secured promissory notes in an aggregate principal amount of $6.9 million (the \"Initial Notes\") to a total of eight lenders, and on December 30, 2022, the Company issued a secured promissory note in the principal amount of $2.0 million (the \"First C5 Note\") to an entity affiliated with C5 Capital Limited (\"C5\"), a beneficial owner of more than 5% of the Company's outstanding common stock. In connection with the issuance of the First C5 Note, the Company and the holders of the Initial Notes agreed to amend and restate the Initial Notes to be substantially in the form to be issued to C5, which form was attached as an exhibit to the Current Report on Form 8-K filed on January 4, 2023 (the \"Restated Initial Notes\"). This amendment and restatement occurred on January 11, 2023. The Restated Initial Notes continue to bear interest at a rate of 13.8% per annum from the respective dates of the Initial Notes, and the Restated Initial Notes are payable at scheduled maturity on June 30, 2023. Upon entering into the First C5 Note, the Company and C5 also agreed to amend and restate the First C5 Note. Subsequently, the parties agreed that the amended and restated First C5 Note and any future notes to be issued in connection with additional bridge financing by C5 would be convertible into shares of the Company's common stock. On January 11, 2023, the Company issued to C5 an amended and restated convertible promissory note in the principal amount of $2.0 million (the \"Restated C5 Note\"). On January 12, 2023, the Company issued to C5 a new secured convertible promissory note in the principal amount of $3.0 million (the \"Second C5 Note\"). The Restated C5 Note and the Second C5 Note (collectively, the \"C5 Notes\"), in the aggregate principal amount of $5.0 million, are in substantially the form of secured convertible promissory note attached to this report as Exhibit 99.1. The C5 Notes bear interest at a rate of 13.8% per annum from the date of issuance (or in the case of the Restated C5 Note, from the date of the First C5 Note), and all such notes are payable at scheduled maturity on June 30, 2023, subject to acceleration in certain circumstances. The Company's obligations under the Restated Initial Notes and the C5 Notes are secured by substantially all of the assets of the Company, excluding the Company's intellectual property. C5 and each of the holders of the Restated Initial Notes have executed an Amended and Restated Security Agreement in the form attached as an exhibit to the Current Report on Form 8-K filed on January 4, 2023. The C5 Notes provide C5 with the right, at any time on or after the date that is five calendar days prior to maturity, to convert any portion of the principal amount of the C5 Notes, together with any accrued and unpaid interest and any other unpaid amounts, into shares of the Company's common stock, par value $0.0001 per share (the \"Common Stock\"), at a conversion price of $2.00 per share. In the event that any shares of Common Stock are issued upon conversion of the C5 Notes, the Company has agreed to grant specified registration rights to C5. The foregoing description of the C5 Notes does not purport to be complete and is subject to, and is qualified in its entirety by reference to, the form of C5 Note filed herewith as Exhibit 99.1 and incorporated herein by reference.\" -> True\n",
        "\n",
        "Example 3:\n",
        "\"Between December 14, 2022 and December 16, 2022, IronNet, Inc. (the \"Company\") issued and sold secured promissory notes in an aggregate principal amount of $6.9 million (the \"Notes\") to a total of eight lenders. The lenders included GEN Keith B. Alexander (Ret.), the founder, Chief Executive Officer and Chairman of the Board of Directors of the Company. The Notes were also issued to lenders that include VADM John M. McConnell (Ret.), Hon. Michael J. Rogers, Theodore E. Schlein and VADM Jan E. Tighe (Ret.), each of whom is a director of the Company, as well as funds affiliated with Forgepoint Capital (the \"Forgepoint Funds\"). Donald R. Dixon, a member of the Company's board of directors, is an affiliate of ForgePoint Capital, and the Forgepoint Funds are also beneficial owners of greater than 5% of the Company's common stock. Each Note has a scheduled maturity date of one year from the date of issuance, except that the Note issued to one lender that is not, and is not affiliated with, a director of the Company has a scheduled maturity date of six months from the date of issuance. The Notes bear interest at a rate of 13.8% per annum, payable at maturity. The Company may prepay the Notes at any time without premium or penalty, and the Notes do not restrict the incurrence of future indebtedness by the Company. In the event that the Company fails to timely pay amounts due under the Notes or the Company materially defaults in its performance of any other covenant under the Notes or the Security Agreement (as defined below), which default is not cured within 30 days after written notice thereof, then at the option of the lenders, upon the written consent of lenders representing a majority of the outstanding and unpaid principal under the Notes, all unpaid principal, accrued interest and other amounts owing under the Notes shall be immediately due and payable. In the event that the Company files any petition or action for relief under any bankruptcy, reorganization, insolvency or moratorium law or any other law for the relief of or relating to debtors, or makes any assignment for the benefit of creditors or takes any corporate action in furtherance thereof, or if an involuntary petition is filed against the Company (unless such petition is dismissed or discharged within 60 days) under any bankruptcy statute, or a custodian, receiver, trustee, assignee for the benefit of creditors is appointed to take possession, custody or control of any property of the Company, then all unpaid principal, accrued interest and other amounts owing under the Notes will accelerate and automatically become immediately due and payable. The Notes are secured by substantially all of the assets of the Company, excluding the Company's intellectual property. The Company entered into a Security Agreement (the \"Security Agreements\") with each of the lenders. The foregoing descriptions of the Notes and the Security Agreements do not purport to be complete and are subject to, and is qualified in its entirety by reference to, the form of Note and form of Security Agreement filed hereto as Exhibits 4.1 and 10.1, respectively, and incorporated herein by reference.\" -> True\n",
        "\n",
        "Example 4:\n",
        "\"Credit Agreement In connection with the completion of the Merger, on August 4, 2016, Higher One, Inc. ( Higher One ), a Delaware corporation and direct wholly owned subsidiary of the Company, terminated the existing credit agreement, dated as of October 16, 2012 (as amended, the Credit Agreement ), among Higher One, as borrower, the Company, Higher One Machines, Inc., Higher One Real Estate, Inc. and Higher One Real Estate SP, LLC, as guarantors, Bank of America, N.A. as administrative agent, swingline lender and letter of credit issuer, and the other lenders party thereto, and all commitments thereunder. At the time of such termination, there were no outstanding revolving loans or outstanding letters of credit under the Credit Agreement. In connection with such termination, all liens on the assets of Higher One, the Company and Higher One’s subsidiaries securing such facility, together with such subsidiary or Company guarantees, were released and terminated.\" -> True\n",
        "\n",
        "Example 5:\n",
        "\"On December 28, 2022, the Company and C5 entered into an agreement pursuant to which they have agreed to a mutual exclusivity period through January 31, 2023 to seek to negotiate definitive agreements with respect to a potential offer by C5 to acquire all of the outstanding common stock of the Company not presently owned by C5 and certain of its affiliates (the \"Proposed Transaction\"). Commencement of the exclusivity period was subject to C5 providing the $2.0 million of bridge financing described in Item 1.01 above. Continuation of the exclusivity period after January 9, 2023 is subject to C5 entering into additional Restated Notes providing $3.5 million of additional bridge financing by January 9, 2023. The January 31, 2023 expiration date is subject to an automatic extension of an additional seven days if C5 provides additional bridge financing sufficient to fund the Company's operations for such seven-day period (up to a maximum additional amount of $3.5 million).\" → False\n",
        "\n",
        "Example 6:\n",
        "\"On June 28, 2018, Fuse Enterprises Inc. (the 'Company') entered into a Share Purchase Agreement (the 'Purchase Agreement') with Fuse Trading Limited, a wholly-owned subsidiary of the Company ('Trading'), and Landbond Home Limited (the 'Purchaser')... pursuant to which the Company agreed to sell to the Purchaser in a private placement (the 'Private Placement') 19,628,050 shares of the Company's common stock... for an aggregate offering price of $6,869,817.60.\" → False\n",
        "\n",
        "Example 7:\n",
        "\n",
        "\"The Registrant is filing the exhibits listed in Item 9.01(d) below in connection with the public issuance of Class A-1 Asset Backed Notes, Class A-2 Asset Backed Notes, Class A-3 Asset Backed Notes, Class A-4 Asset Backed Notes and Class B Asset Backed Notes (collectively, the Offered Notes) by CNH Equipment Trust 2011-C, described in the Prospectus dated December 1, 2011 and the Prospectus Supplement dated December 7, 2011.\" -> False\n",
        "\n",
        "Example 8:\n",
        "\"On November 14, 2022, IronNet, Inc. (the 'Company') expects to file a registration statement on Form S-3 under the Securities Act of 1933, as amended, to register up to $25,750,000 of the Company's common stock\" → Does not have information regarding commericial debt, False\n",
        "\n",
        "\n",
        "\"\"\"\n",
        "\n",
        "\n",
        "    for i in range(0, len(texts), batch_size):\n",
        "        batch = texts[i:i+batch_size]\n",
        "        prompts = [few_shot_template.format(text=t.strip()) for t in batch]\n",
        "\n",
        "        inputs = tokenizer(prompts, return_tensors=\"pt\", padding=True, truncation=True).to(model.device)\n",
        "\n",
        "        with torch.no_grad():\n",
        "            outputs = model.generate(**inputs, max_new_tokens=5)\n",
        "\n",
        "        decoded = tokenizer.batch_decode(outputs, skip_special_tokens=True)\n",
        "        results.extend([r.strip() for r in decoded])\n",
        "\n",
        "    return results"
      ]
    },
    {
      "cell_type": "code",
      "execution_count": null,
      "metadata": {
        "id": "KYKLQf36bq6k"
      },
      "outputs": [],
      "source": [
        "texts = new['text'].astype(str).tolist()\n",
        "flan_preds = classify_flan_t5_with_examples(texts, batch_size=7)\n"
      ]
    },
    {
      "cell_type": "code",
      "execution_count": null,
      "metadata": {
        "id": "CVPp8OqlbrcB",
        "colab": {
          "base_uri": "https://localhost:8080/",
          "height": 216
        },
        "outputId": "a939b7c1-0d89-4159-a92b-9ab8b8202c0c"
      },
      "outputs": [
        {
          "output_type": "error",
          "ename": "NameError",
          "evalue": "name 'flan_preds' is not defined",
          "traceback": [
            "\u001b[0;31m---------------------------------------------------------------------------\u001b[0m",
            "\u001b[0;31mNameError\u001b[0m                                 Traceback (most recent call last)",
            "\u001b[0;32m/tmp/ipython-input-210-4037485115.py\u001b[0m in \u001b[0;36m<cell line: 0>\u001b[0;34m()\u001b[0m\n\u001b[1;32m      2\u001b[0m \u001b[0;32mfrom\u001b[0m \u001b[0msklearn\u001b[0m\u001b[0;34m.\u001b[0m\u001b[0mmetrics\u001b[0m \u001b[0;32mimport\u001b[0m \u001b[0mf1_score\u001b[0m\u001b[0;34m,\u001b[0m \u001b[0mclassification_report\u001b[0m\u001b[0;34m\u001b[0m\u001b[0;34m\u001b[0m\u001b[0m\n\u001b[1;32m      3\u001b[0m \u001b[0;34m\u001b[0m\u001b[0m\n\u001b[0;32m----> 4\u001b[0;31m \u001b[0mnew\u001b[0m\u001b[0;34m[\u001b[0m\u001b[0;34m'flan_pred_raw'\u001b[0m\u001b[0;34m]\u001b[0m \u001b[0;34m=\u001b[0m \u001b[0mflan_preds\u001b[0m\u001b[0;34m\u001b[0m\u001b[0;34m\u001b[0m\u001b[0m\n\u001b[0m\u001b[1;32m      5\u001b[0m \u001b[0mnew\u001b[0m\u001b[0;34m[\u001b[0m\u001b[0;34m'flan_pred'\u001b[0m\u001b[0;34m]\u001b[0m \u001b[0;34m=\u001b[0m \u001b[0mnew\u001b[0m\u001b[0;34m[\u001b[0m\u001b[0;34m'flan_pred_raw'\u001b[0m\u001b[0;34m]\u001b[0m\u001b[0;34m.\u001b[0m\u001b[0mstr\u001b[0m\u001b[0;34m.\u001b[0m\u001b[0mextract\u001b[0m\u001b[0;34m(\u001b[0m\u001b[0;34mr'\\b(True|False)\\b'\u001b[0m\u001b[0;34m,\u001b[0m \u001b[0mexpand\u001b[0m\u001b[0;34m=\u001b[0m\u001b[0;32mFalse\u001b[0m\u001b[0;34m)\u001b[0m\u001b[0;34m\u001b[0m\u001b[0;34m\u001b[0m\u001b[0m\n\u001b[1;32m      6\u001b[0m \u001b[0mnew\u001b[0m\u001b[0;34m[\u001b[0m\u001b[0;34m'flan_pred_bool'\u001b[0m\u001b[0;34m]\u001b[0m \u001b[0;34m=\u001b[0m \u001b[0mnew\u001b[0m\u001b[0;34m[\u001b[0m\u001b[0;34m'flan_pred'\u001b[0m\u001b[0;34m]\u001b[0m\u001b[0;34m.\u001b[0m\u001b[0mstr\u001b[0m\u001b[0;34m.\u001b[0m\u001b[0mlower\u001b[0m\u001b[0;34m(\u001b[0m\u001b[0;34m)\u001b[0m \u001b[0;34m==\u001b[0m \u001b[0;34m'true'\u001b[0m\u001b[0;34m\u001b[0m\u001b[0;34m\u001b[0m\u001b[0m\n",
            "\u001b[0;31mNameError\u001b[0m: name 'flan_preds' is not defined"
          ]
        }
      ],
      "source": [
        "import pandas as pd\n",
        "from sklearn.metrics import f1_score, classification_report\n",
        "\n",
        "new['flan_pred_raw'] = flan_preds\n",
        "new['flan_pred'] = new['flan_pred_raw'].str.extract(r'\\b(True|False)\\b', expand=False)\n",
        "new['flan_pred_bool'] = new['flan_pred'].str.lower() == 'true'\n",
        "new['true_label_bool'] = new['contains_debt_instrument_information'].astype(str).str.lower() == 'true'\n",
        "\n",
        "# Evaluate\n",
        "valid_rows = new['flan_pred'].notna()\n",
        "y_pred = new.loc[valid_rows, 'flan_pred_bool']\n",
        "y_true = new.loc[valid_rows, 'true_label_bool']\n",
        "\n",
        "print(f\"✅ F1 Score (Flan-T5): {f1_score(y_true, y_pred):.3f}\")\n",
        "print(\"\\n📋 Classification Report:\\n\")\n",
        "print(classification_report(y_true, y_pred))\n"
      ]
    },
    {
      "cell_type": "code",
      "source": [],
      "metadata": {
        "id": "sPfmO18qqUPH"
      },
      "execution_count": null,
      "outputs": []
    },
    {
      "cell_type": "code",
      "source": [
        "## word cloud lolz"
      ],
      "metadata": {
        "id": "8suWt4gukKpd"
      },
      "execution_count": null,
      "outputs": []
    },
    {
      "cell_type": "code",
      "source": [
        "import pandas as pd"
      ],
      "metadata": {
        "id": "JyrojdTx4dsh"
      },
      "execution_count": null,
      "outputs": []
    },
    {
      "cell_type": "code",
      "source": [
        "df = pd.read_csv(\"/content/drive/MyDrive/CDT Documents/cleaned_banktrack_annotated.csv\")"
      ],
      "metadata": {
        "id": "55Y9sAb92SH7"
      },
      "execution_count": null,
      "outputs": []
    },
    {
      "cell_type": "code",
      "source": [
        "# Ensure the column is boolean or convert if it's string\n",
        "df['contains_debt_instrument_information'] = df['contains_debt_instrument_information'].astype(str).str.lower() == 'True'\n",
        "\n",
        "# Filter for True entries\n",
        "# debt_texts = df[df['contains_debt_instrument_information']]['text'].dropna().astype(str)"
      ],
      "metadata": {
        "id": "PsAiORMw2cqJ"
      },
      "execution_count": null,
      "outputs": []
    },
    {
      "cell_type": "code",
      "source": [
        "# Combine into one big string\n",
        "combined_text = \" \".join(debt_texts)\n"
      ],
      "metadata": {
        "id": "TUXTF5aE2--P"
      },
      "execution_count": null,
      "outputs": []
    },
    {
      "cell_type": "code",
      "source": [],
      "metadata": {
        "id": "Pp4igu--4bJR"
      },
      "execution_count": null,
      "outputs": []
    },
    {
      "cell_type": "code",
      "source": [
        "from wordcloud import WordCloud, STOPWORDS\n",
        "import matplotlib.pyplot as plt\n",
        "\n",
        "# Define stopwords — add any financial ones you think are generic\n",
        "stopwords = set(STOPWORDS)\n",
        "stopwords.update([\"company\", \"inc\", \"llc\", \"corporation\", \"agreement\", \"section\"])\n",
        "\n",
        "# Generate word cloud\n",
        "wordcloud = WordCloud(\n",
        "    width=1000,\n",
        "    height=500,\n",
        "    background_color='white',\n",
        "    stopwords=stopwords,\n",
        "    max_words=100,\n",
        "    colormap='viridis'\n",
        ").generate(combined_text)\n",
        "\n",
        "# Plot\n",
        "plt.figure(figsize=(15, 7))\n",
        "plt.imshow(wordcloud, interpolation='bilinear')\n",
        "plt.axis('off')\n",
        "plt.title(\"Keywords in Debt-Related 8-K Filings\", fontsize=20)\n",
        "plt.show()\n"
      ],
      "metadata": {
        "id": "Ko4I1VI13JQa"
      },
      "execution_count": null,
      "outputs": []
    },
    {
      "cell_type": "code",
      "source": [
        "df['contains_debt_instrument_information'] = df['contains_debt_instrument_information'].astype(str).str.lower() == 'False'\n",
        "combined_text = \" \".join(debt_texts)\n"
      ],
      "metadata": {
        "id": "aTby7S3A5dw5"
      },
      "execution_count": null,
      "outputs": []
    },
    {
      "cell_type": "code",
      "source": [
        "from wordcloud import WordCloud, STOPWORDS\n",
        "import matplotlib.pyplot as plt\n",
        "\n",
        "# Define stopwords — add any financial ones you think are generic\n",
        "stopwords = set(STOPWORDS)\n",
        "stopwords.update([\"company\", \"inc\", \"llc\", \"corporation\", \"agreement\", \"section\"])\n",
        "\n",
        "# Generate word cloud\n",
        "wordcloud = WordCloud(\n",
        "    width=1000,\n",
        "    height=500,\n",
        "    background_color='white',\n",
        "    stopwords=stopwords,\n",
        "    max_words=100,\n",
        "    colormap='viridis'\n",
        ").generate(combined_text)\n",
        "\n",
        "# Plot\n",
        "plt.figure(figsize=(15, 7))\n",
        "plt.imshow(wordcloud, interpolation='bilinear')\n",
        "plt.axis('off')\n",
        "plt.title(\"Keywords in Debt-Related 8-K Filings\", fontsize=20)\n",
        "plt.show()\n"
      ],
      "metadata": {
        "id": "0pQkBeg85tds"
      },
      "execution_count": null,
      "outputs": []
    },
    {
      "cell_type": "markdown",
      "source": [
        "## **GPT 4**"
      ],
      "metadata": {
        "id": "0e6eBvNMuXC2"
      }
    },
    {
      "cell_type": "code",
      "source": [
        "pip install transformers accelerate bitsandbytes\n"
      ],
      "metadata": {
        "colab": {
          "base_uri": "https://localhost:8080/"
        },
        "id": "_GjNDg6uy5G6",
        "outputId": "02f40b86-65f0-458a-e88f-e4b666a49034"
      },
      "execution_count": null,
      "outputs": [
        {
          "output_type": "stream",
          "name": "stdout",
          "text": [
            "Requirement already satisfied: transformers in /usr/local/lib/python3.11/dist-packages (4.53.2)\n",
            "Requirement already satisfied: accelerate in /usr/local/lib/python3.11/dist-packages (1.8.1)\n",
            "Collecting bitsandbytes\n",
            "  Downloading bitsandbytes-0.46.1-py3-none-manylinux_2_24_x86_64.whl.metadata (10 kB)\n",
            "Requirement already satisfied: filelock in /usr/local/lib/python3.11/dist-packages (from transformers) (3.18.0)\n",
            "Requirement already satisfied: huggingface-hub<1.0,>=0.30.0 in /usr/local/lib/python3.11/dist-packages (from transformers) (0.33.4)\n",
            "Requirement already satisfied: numpy>=1.17 in /usr/local/lib/python3.11/dist-packages (from transformers) (2.0.2)\n",
            "Requirement already satisfied: packaging>=20.0 in /usr/local/lib/python3.11/dist-packages (from transformers) (25.0)\n",
            "Requirement already satisfied: pyyaml>=5.1 in /usr/local/lib/python3.11/dist-packages (from transformers) (6.0.2)\n",
            "Requirement already satisfied: regex!=2019.12.17 in /usr/local/lib/python3.11/dist-packages (from transformers) (2024.11.6)\n",
            "Requirement already satisfied: requests in /usr/local/lib/python3.11/dist-packages (from transformers) (2.32.3)\n",
            "Requirement already satisfied: tokenizers<0.22,>=0.21 in /usr/local/lib/python3.11/dist-packages (from transformers) (0.21.2)\n",
            "Requirement already satisfied: safetensors>=0.4.3 in /usr/local/lib/python3.11/dist-packages (from transformers) (0.5.3)\n",
            "Requirement already satisfied: tqdm>=4.27 in /usr/local/lib/python3.11/dist-packages (from transformers) (4.67.1)\n",
            "Requirement already satisfied: psutil in /usr/local/lib/python3.11/dist-packages (from accelerate) (5.9.5)\n",
            "Requirement already satisfied: torch>=2.0.0 in /usr/local/lib/python3.11/dist-packages (from accelerate) (2.6.0+cu124)\n",
            "Requirement already satisfied: fsspec>=2023.5.0 in /usr/local/lib/python3.11/dist-packages (from huggingface-hub<1.0,>=0.30.0->transformers) (2025.3.2)\n",
            "Requirement already satisfied: typing-extensions>=3.7.4.3 in /usr/local/lib/python3.11/dist-packages (from huggingface-hub<1.0,>=0.30.0->transformers) (4.14.1)\n",
            "Requirement already satisfied: hf-xet<2.0.0,>=1.1.2 in /usr/local/lib/python3.11/dist-packages (from huggingface-hub<1.0,>=0.30.0->transformers) (1.1.5)\n",
            "Requirement already satisfied: networkx in /usr/local/lib/python3.11/dist-packages (from torch>=2.0.0->accelerate) (3.5)\n",
            "Requirement already satisfied: jinja2 in /usr/local/lib/python3.11/dist-packages (from torch>=2.0.0->accelerate) (3.1.6)\n",
            "Collecting nvidia-cuda-nvrtc-cu12==12.4.127 (from torch>=2.0.0->accelerate)\n",
            "  Downloading nvidia_cuda_nvrtc_cu12-12.4.127-py3-none-manylinux2014_x86_64.whl.metadata (1.5 kB)\n",
            "Collecting nvidia-cuda-runtime-cu12==12.4.127 (from torch>=2.0.0->accelerate)\n",
            "  Downloading nvidia_cuda_runtime_cu12-12.4.127-py3-none-manylinux2014_x86_64.whl.metadata (1.5 kB)\n",
            "Collecting nvidia-cuda-cupti-cu12==12.4.127 (from torch>=2.0.0->accelerate)\n",
            "  Downloading nvidia_cuda_cupti_cu12-12.4.127-py3-none-manylinux2014_x86_64.whl.metadata (1.6 kB)\n",
            "Collecting nvidia-cudnn-cu12==9.1.0.70 (from torch>=2.0.0->accelerate)\n",
            "  Downloading nvidia_cudnn_cu12-9.1.0.70-py3-none-manylinux2014_x86_64.whl.metadata (1.6 kB)\n",
            "Collecting nvidia-cublas-cu12==12.4.5.8 (from torch>=2.0.0->accelerate)\n",
            "  Downloading nvidia_cublas_cu12-12.4.5.8-py3-none-manylinux2014_x86_64.whl.metadata (1.5 kB)\n",
            "Collecting nvidia-cufft-cu12==11.2.1.3 (from torch>=2.0.0->accelerate)\n",
            "  Downloading nvidia_cufft_cu12-11.2.1.3-py3-none-manylinux2014_x86_64.whl.metadata (1.5 kB)\n",
            "Collecting nvidia-curand-cu12==10.3.5.147 (from torch>=2.0.0->accelerate)\n",
            "  Downloading nvidia_curand_cu12-10.3.5.147-py3-none-manylinux2014_x86_64.whl.metadata (1.5 kB)\n",
            "Collecting nvidia-cusolver-cu12==11.6.1.9 (from torch>=2.0.0->accelerate)\n",
            "  Downloading nvidia_cusolver_cu12-11.6.1.9-py3-none-manylinux2014_x86_64.whl.metadata (1.6 kB)\n",
            "Collecting nvidia-cusparse-cu12==12.3.1.170 (from torch>=2.0.0->accelerate)\n",
            "  Downloading nvidia_cusparse_cu12-12.3.1.170-py3-none-manylinux2014_x86_64.whl.metadata (1.6 kB)\n",
            "Requirement already satisfied: nvidia-cusparselt-cu12==0.6.2 in /usr/local/lib/python3.11/dist-packages (from torch>=2.0.0->accelerate) (0.6.2)\n",
            "Requirement already satisfied: nvidia-nccl-cu12==2.21.5 in /usr/local/lib/python3.11/dist-packages (from torch>=2.0.0->accelerate) (2.21.5)\n",
            "Requirement already satisfied: nvidia-nvtx-cu12==12.4.127 in /usr/local/lib/python3.11/dist-packages (from torch>=2.0.0->accelerate) (12.4.127)\n",
            "Collecting nvidia-nvjitlink-cu12==12.4.127 (from torch>=2.0.0->accelerate)\n",
            "  Downloading nvidia_nvjitlink_cu12-12.4.127-py3-none-manylinux2014_x86_64.whl.metadata (1.5 kB)\n",
            "Requirement already satisfied: triton==3.2.0 in /usr/local/lib/python3.11/dist-packages (from torch>=2.0.0->accelerate) (3.2.0)\n",
            "Requirement already satisfied: sympy==1.13.1 in /usr/local/lib/python3.11/dist-packages (from torch>=2.0.0->accelerate) (1.13.1)\n",
            "Requirement already satisfied: mpmath<1.4,>=1.1.0 in /usr/local/lib/python3.11/dist-packages (from sympy==1.13.1->torch>=2.0.0->accelerate) (1.3.0)\n",
            "Requirement already satisfied: charset-normalizer<4,>=2 in /usr/local/lib/python3.11/dist-packages (from requests->transformers) (3.4.2)\n",
            "Requirement already satisfied: idna<4,>=2.5 in /usr/local/lib/python3.11/dist-packages (from requests->transformers) (3.10)\n",
            "Requirement already satisfied: urllib3<3,>=1.21.1 in /usr/local/lib/python3.11/dist-packages (from requests->transformers) (2.4.0)\n",
            "Requirement already satisfied: certifi>=2017.4.17 in /usr/local/lib/python3.11/dist-packages (from requests->transformers) (2025.7.14)\n",
            "Requirement already satisfied: MarkupSafe>=2.0 in /usr/local/lib/python3.11/dist-packages (from jinja2->torch>=2.0.0->accelerate) (3.0.2)\n",
            "Downloading bitsandbytes-0.46.1-py3-none-manylinux_2_24_x86_64.whl (72.9 MB)\n",
            "\u001b[2K   \u001b[90m━━━━━━━━━━━━━━━━━━━━━━━━━━━━━━━━━━━━━━━━\u001b[0m \u001b[32m72.9/72.9 MB\u001b[0m \u001b[31m9.6 MB/s\u001b[0m eta \u001b[36m0:00:00\u001b[0m\n",
            "\u001b[?25hDownloading nvidia_cublas_cu12-12.4.5.8-py3-none-manylinux2014_x86_64.whl (363.4 MB)\n",
            "\u001b[2K   \u001b[90m━━━━━━━━━━━━━━━━━━━━━━━━━━━━━━━━━━━━━━━━\u001b[0m \u001b[32m363.4/363.4 MB\u001b[0m \u001b[31m2.7 MB/s\u001b[0m eta \u001b[36m0:00:00\u001b[0m\n",
            "\u001b[?25hDownloading nvidia_cuda_cupti_cu12-12.4.127-py3-none-manylinux2014_x86_64.whl (13.8 MB)\n",
            "\u001b[2K   \u001b[90m━━━━━━━━━━━━━━━━━━━━━━━━━━━━━━━━━━━━━━━━\u001b[0m \u001b[32m13.8/13.8 MB\u001b[0m \u001b[31m75.9 MB/s\u001b[0m eta \u001b[36m0:00:00\u001b[0m\n",
            "\u001b[?25hDownloading nvidia_cuda_nvrtc_cu12-12.4.127-py3-none-manylinux2014_x86_64.whl (24.6 MB)\n",
            "\u001b[2K   \u001b[90m━━━━━━━━━━━━━━━━━━━━━━━━━━━━━━━━━━━━━━━━\u001b[0m \u001b[32m24.6/24.6 MB\u001b[0m \u001b[31m19.3 MB/s\u001b[0m eta \u001b[36m0:00:00\u001b[0m\n",
            "\u001b[?25hDownloading nvidia_cuda_runtime_cu12-12.4.127-py3-none-manylinux2014_x86_64.whl (883 kB)\n",
            "\u001b[2K   \u001b[90m━━━━━━━━━━━━━━━━━━━━━━━━━━━━━━━━━━━━━━━━\u001b[0m \u001b[32m883.7/883.7 kB\u001b[0m \u001b[31m41.7 MB/s\u001b[0m eta \u001b[36m0:00:00\u001b[0m\n",
            "\u001b[?25hDownloading nvidia_cudnn_cu12-9.1.0.70-py3-none-manylinux2014_x86_64.whl (664.8 MB)\n",
            "\u001b[2K   \u001b[90m━━━━━━━━━━━━━━━━━━━━━━━━━━━━━━━━━━━━━━━\u001b[0m \u001b[32m664.8/664.8 MB\u001b[0m \u001b[31m842.9 kB/s\u001b[0m eta \u001b[36m0:00:00\u001b[0m\n",
            "\u001b[?25hDownloading nvidia_cufft_cu12-11.2.1.3-py3-none-manylinux2014_x86_64.whl (211.5 MB)\n",
            "\u001b[2K   \u001b[90m━━━━━━━━━━━━━━━━━━━━━━━━━━━━━━━━━━━━━━━━\u001b[0m \u001b[32m211.5/211.5 MB\u001b[0m \u001b[31m5.8 MB/s\u001b[0m eta \u001b[36m0:00:00\u001b[0m\n",
            "\u001b[?25hDownloading nvidia_curand_cu12-10.3.5.147-py3-none-manylinux2014_x86_64.whl (56.3 MB)\n",
            "\u001b[2K   \u001b[90m━━━━━━━━━━━━━━━━━━━━━━━━━━━━━━━━━━━━━━━━\u001b[0m \u001b[32m56.3/56.3 MB\u001b[0m \u001b[31m10.6 MB/s\u001b[0m eta \u001b[36m0:00:00\u001b[0m\n",
            "\u001b[?25hDownloading nvidia_cusolver_cu12-11.6.1.9-py3-none-manylinux2014_x86_64.whl (127.9 MB)\n",
            "\u001b[2K   \u001b[90m━━━━━━━━━━━━━━━━━━━━━━━━━━━━━━━━━━━━━━━━\u001b[0m \u001b[32m127.9/127.9 MB\u001b[0m \u001b[31m7.5 MB/s\u001b[0m eta \u001b[36m0:00:00\u001b[0m\n",
            "\u001b[?25hDownloading nvidia_cusparse_cu12-12.3.1.170-py3-none-manylinux2014_x86_64.whl (207.5 MB)\n",
            "\u001b[2K   \u001b[90m━━━━━━━━━━━━━━━━━━━━━━━━━━━━━━━━━━━━━━━━\u001b[0m \u001b[32m207.5/207.5 MB\u001b[0m \u001b[31m5.8 MB/s\u001b[0m eta \u001b[36m0:00:00\u001b[0m\n",
            "\u001b[?25hDownloading nvidia_nvjitlink_cu12-12.4.127-py3-none-manylinux2014_x86_64.whl (21.1 MB)\n",
            "\u001b[2K   \u001b[90m━━━━━━━━━━━━━━━━━━━━━━━━━━━━━━━━━━━━━━━━\u001b[0m \u001b[32m21.1/21.1 MB\u001b[0m \u001b[31m48.0 MB/s\u001b[0m eta \u001b[36m0:00:00\u001b[0m\n",
            "\u001b[?25hInstalling collected packages: nvidia-nvjitlink-cu12, nvidia-curand-cu12, nvidia-cufft-cu12, nvidia-cuda-runtime-cu12, nvidia-cuda-nvrtc-cu12, nvidia-cuda-cupti-cu12, nvidia-cublas-cu12, nvidia-cusparse-cu12, nvidia-cudnn-cu12, nvidia-cusolver-cu12, bitsandbytes\n",
            "  Attempting uninstall: nvidia-nvjitlink-cu12\n",
            "    Found existing installation: nvidia-nvjitlink-cu12 12.5.82\n",
            "    Uninstalling nvidia-nvjitlink-cu12-12.5.82:\n",
            "      Successfully uninstalled nvidia-nvjitlink-cu12-12.5.82\n",
            "  Attempting uninstall: nvidia-curand-cu12\n",
            "    Found existing installation: nvidia-curand-cu12 10.3.6.82\n",
            "    Uninstalling nvidia-curand-cu12-10.3.6.82:\n",
            "      Successfully uninstalled nvidia-curand-cu12-10.3.6.82\n",
            "  Attempting uninstall: nvidia-cufft-cu12\n",
            "    Found existing installation: nvidia-cufft-cu12 11.2.3.61\n",
            "    Uninstalling nvidia-cufft-cu12-11.2.3.61:\n",
            "      Successfully uninstalled nvidia-cufft-cu12-11.2.3.61\n",
            "  Attempting uninstall: nvidia-cuda-runtime-cu12\n",
            "    Found existing installation: nvidia-cuda-runtime-cu12 12.5.82\n",
            "    Uninstalling nvidia-cuda-runtime-cu12-12.5.82:\n",
            "      Successfully uninstalled nvidia-cuda-runtime-cu12-12.5.82\n",
            "  Attempting uninstall: nvidia-cuda-nvrtc-cu12\n",
            "    Found existing installation: nvidia-cuda-nvrtc-cu12 12.5.82\n",
            "    Uninstalling nvidia-cuda-nvrtc-cu12-12.5.82:\n",
            "      Successfully uninstalled nvidia-cuda-nvrtc-cu12-12.5.82\n",
            "  Attempting uninstall: nvidia-cuda-cupti-cu12\n",
            "    Found existing installation: nvidia-cuda-cupti-cu12 12.5.82\n",
            "    Uninstalling nvidia-cuda-cupti-cu12-12.5.82:\n",
            "      Successfully uninstalled nvidia-cuda-cupti-cu12-12.5.82\n",
            "  Attempting uninstall: nvidia-cublas-cu12\n",
            "    Found existing installation: nvidia-cublas-cu12 12.5.3.2\n",
            "    Uninstalling nvidia-cublas-cu12-12.5.3.2:\n",
            "      Successfully uninstalled nvidia-cublas-cu12-12.5.3.2\n",
            "  Attempting uninstall: nvidia-cusparse-cu12\n",
            "    Found existing installation: nvidia-cusparse-cu12 12.5.1.3\n",
            "    Uninstalling nvidia-cusparse-cu12-12.5.1.3:\n",
            "      Successfully uninstalled nvidia-cusparse-cu12-12.5.1.3\n",
            "  Attempting uninstall: nvidia-cudnn-cu12\n",
            "    Found existing installation: nvidia-cudnn-cu12 9.3.0.75\n",
            "    Uninstalling nvidia-cudnn-cu12-9.3.0.75:\n",
            "      Successfully uninstalled nvidia-cudnn-cu12-9.3.0.75\n",
            "  Attempting uninstall: nvidia-cusolver-cu12\n",
            "    Found existing installation: nvidia-cusolver-cu12 11.6.3.83\n",
            "    Uninstalling nvidia-cusolver-cu12-11.6.3.83:\n",
            "      Successfully uninstalled nvidia-cusolver-cu12-11.6.3.83\n",
            "Successfully installed bitsandbytes-0.46.1 nvidia-cublas-cu12-12.4.5.8 nvidia-cuda-cupti-cu12-12.4.127 nvidia-cuda-nvrtc-cu12-12.4.127 nvidia-cuda-runtime-cu12-12.4.127 nvidia-cudnn-cu12-9.1.0.70 nvidia-cufft-cu12-11.2.1.3 nvidia-curand-cu12-10.3.5.147 nvidia-cusolver-cu12-11.6.1.9 nvidia-cusparse-cu12-12.3.1.170 nvidia-nvjitlink-cu12-12.4.127\n"
          ]
        }
      ]
    },
    {
      "cell_type": "code",
      "source": [
        "import pandas as pd\n",
        "\n",
        "df = pd.read_csv(\"/content/drive/MyDrive/CDT Documents/cleaned_banktrack_annotated.csv\") # undersampled\n",
        "batch_size = 7\n",
        "text_batch = df[\"text\"].tolist()[:batch_size]\n",
        "results = classify_batch(text_batch, start_idx=1)\n",
        "print(results)\n"
      ],
      "metadata": {
        "colab": {
          "base_uri": "https://localhost:8080/"
        },
        "id": "QuqRXaJEjmLg",
        "outputId": "d48486fc-9f0e-4746-870a-3ea8732975cd"
      },
      "execution_count": null,
      "outputs": [
        {
          "output_type": "stream",
          "name": "stdout",
          "text": [
            "1. True\n",
            "2. True\n",
            "3. True\n",
            "4. True\n",
            "5. True\n",
            "6. True\n",
            "7. True\n"
          ]
        }
      ]
    },
    {
      "cell_type": "code",
      "source": [
        "batch_size=7\n",
        "texts = new['text'].astype(str).tolist()\n",
        "\n",
        "i = len(texts) - 1\n",
        "batch = texts[i:i+batch_size]\n",
        "print(batch)\n",
        "print()\n",
        "output = classify_batch(batch, start_idx= i + 1)\n",
        "print(output)\n",
        "print(output.strip())\n",
        "print(output.strip().split('\\n'))\n",
        "#output.strip().split('\\n'))"
      ],
      "metadata": {
        "id": "IpK4x_DK-jhO"
      },
      "execution_count": null,
      "outputs": []
    },
    {
      "cell_type": "code",
      "source": [
        "results=[]\n",
        "texts = new['text'].astype(str).tolist()\n",
        "\n",
        "for i in range(0, len(texts), batch_size):\n",
        "    batch = texts[i:i+batch_size]\n",
        "    output = classify_batch(batch, start_idx= i + 1)\n",
        "    results.extend(output.strip().split('\\n'))\n",
        "    #print(output)\n",
        "    #results.extend(output.strip().split('\\n'))\n",
        "#results = [r.strip() for r in results]"
      ],
      "metadata": {
        "id": "AVXrEKrbAC51"
      },
      "execution_count": null,
      "outputs": []
    },
    {
      "cell_type": "code",
      "source": [],
      "metadata": {
        "id": "HnAII7H51AkX"
      },
      "execution_count": null,
      "outputs": []
    },
    {
      "cell_type": "markdown",
      "source": [
        "# **GPT 4 TURBO**"
      ],
      "metadata": {
        "id": "ltxMxRI41NRF"
      }
    },
    {
      "cell_type": "code",
      "source": [
        "import openai\n",
        "def classify_batch(batch_texts, start_idx=1):\n",
        "    few_shot_prompt = \"\"\" I want you to think like a financial analyst\n",
        "\n",
        "Now classify the following:\n",
        "\"\"\"\n",
        "# building a numbered list of sentences to append to prompt so model can process a batch of inputs at once\n",
        "# with clear numbering and formatting for each input example\n",
        "    numbered_batch = \"\"\n",
        "    for i, sentence in enumerate(batch_texts, start=start_idx):\n",
        "        numbered_batch += f\"{i}. \\\"{sentence}\\\" →\\n\"\n",
        "\n",
        "    final_prompt = few_shot_prompt + numbered_batch\n",
        "\n",
        "    response = client.chat.completions.create( # maybe use different function rather than chat completion\n",
        "        model=\"gpt-4-turbo\", # wayyy faster than gpt 4; went from 6-7 minutes (only a third complete) to 1 minute (fully complete)\n",
        "        messages=[{\"role\": \"user\", \"content\": final_prompt}],\n",
        "        temperature=0\n",
        "    )\n",
        "\n",
        "    return response.choices[0].message.content\n",
        "\n",
        "results = []\n",
        "batch_size = 7 # Process 5 rows at a time"
      ],
      "metadata": {
        "id": "U_otPcpX1R3W"
      },
      "execution_count": null,
      "outputs": []
    },
    {
      "cell_type": "markdown",
      "source": [],
      "metadata": {
        "id": "JT0EXoid1Riz"
      }
    },
    {
      "cell_type": "code",
      "source": [
        "texts = new['text'].astype(str).tolist()\n",
        "\n",
        "i = len(texts) - 1\n",
        "batch = texts[i:i+batch_size]\n",
        "print(batch)\n",
        "print()\n",
        "output = classify_batch(batch, start_idx= i + 1)\n",
        "print(output)\n",
        "print(output.strip())\n",
        "print(output.strip().split('\\n'))\n",
        "#output.strip().split('\\n'))"
      ],
      "metadata": {
        "colab": {
          "base_uri": "https://localhost:8080/"
        },
        "id": "PtNBvORV2WiT",
        "outputId": "694ceffc-396e-45e3-f48b-f2da5a232a99"
      },
      "execution_count": null,
      "outputs": [
        {
          "output_type": "stream",
          "name": "stdout",
          "text": [
            "['  Exhibit 99.1 to this Form 8-K is Theravance, Inc.s current  investor presentation and is incorporated by reference herein.  With regard to expense guidance for 2013, we currently anticipate that total 2013 Research and Development expenses plus Selling, General and Administrative expenses will be in the range of $125 million to $135 million.  This guidance does not include stock-based compensation expense or any milestone payments to GlaxoSmithKline plc (GSK) under our long-acting beta 2  agonist (LABA) collaboration with GSK.  Our expectations regarding our expenses for 2013 are forward-looking statements based solely on management estimates utilizing currently available information. As described below under Note Regarding Forward-Looking Statements, investors are cautioned that forward-looking statements are not guarantees of future performance and involve significant risks and uncertainties, and that actual results may differ materially from those projected in the forward-looking statements. Our independent registered public accounting firm has not audited, reviewed or performed any procedures with respect to these expected expenses and, accordingly, does not express an opinion or any other form of assurance with respect to these expectations.  Note Regarding Forward-Looking Statements  This Current Report on Form 8-K and the attached presentation contains certain forward-looking statements as that term is defined in the Private Securities Litigation Reform Act of 1995 regarding, among other things, statements relating to goals, plans, objectives and future events.  We intend such forward-looking statements to be covered by the safe harbor provisions for forward-looking statements contained in Section 21E of the Securities Exchange Act of 1934 and the Private Securities Litigation Reform Act of 1995. The words may, will, should, could, would, plan, anticipate, believe, estimate, intend, goal, project, potential, designed, expect, consistent, support, target and promising and similar expressions are intended to identify such forward-looking statements.  Examples of such statements include statements relating to expense guidance for 2013, the status and timing of clinical studies, data analysis and communication of results, statements regarding the potential benefits and mechanisms of action of drug candidates, statements concerning the timing of seeking regulatory approval of our product candidates (including, with respect to VIBATIV(r), statements regarding any expectation that we will be able to respond fully or adequately to the FDAs requests using currently existing clinical data and any expectation that the FDA will approve the VIBATIV(r) nosocomial pneumonia NDA on the basis of existing preclinical and clinical data or at all), statements concerning the enabling capabilities of our approach to drug discovery and its proprietary insights, statements concerning expectations for the discovery, development and commercialization of product candidates and projections of revenue, expenses and other financial items.  These statements are based on the current estimates and assumptions of our management as of the date of this Current Report on Form 8-K and are subject to risks, uncertainties, changes in circumstances, assumptions and other factors that may cause our actual results to be materially different from those reflected in its forward-looking statements.  Important factors that could cause actual results to differ materially from those indicated by such forward-looking statements include, among others, risks related to delays or difficulties in commencing or completing clinical and non-clinical studies, the potential that results of clinical or non-clinical studies indicate product candidates are unsafe or ineffective, our dependence on third parties in the conduct of our clinical studies, delays or failure to achieve regulatory approvals for product candidates, risks of relying on third-party manufacturers for the supply of our product and product candidates and risks of collaborating with third parties to discover, develop and commercialize products. These and other risks are described in greater detail under the heading Risk Factors contained in our Registration Statement on Form S-3 filed with the Securities and Exchange Commission (SEC) on January 16, 2013, and the risks discussed in our periodic filings with the SEC. Given these uncertainties, you should not place undue reliance on these forward-looking statements. We assume no obligation to update these forward-looking statements.']\n",
            "\n",
            "The passage provided is a **Forward-Looking Statement**. It contains projections and expectations about future financial performance, specifically regarding research and development expenses and administrative expenses for the year 2013. It also includes cautionary language about the risks and uncertainties associated with these projections, which is typical of forward-looking statements used by companies to inform investors of potential future scenarios while acknowledging that actual results may vary.\n",
            "The passage provided is a **Forward-Looking Statement**. It contains projections and expectations about future financial performance, specifically regarding research and development expenses and administrative expenses for the year 2013. It also includes cautionary language about the risks and uncertainties associated with these projections, which is typical of forward-looking statements used by companies to inform investors of potential future scenarios while acknowledging that actual results may vary.\n",
            "['The passage provided is a **Forward-Looking Statement**. It contains projections and expectations about future financial performance, specifically regarding research and development expenses and administrative expenses for the year 2013. It also includes cautionary language about the risks and uncertainties associated with these projections, which is typical of forward-looking statements used by companies to inform investors of potential future scenarios while acknowledging that actual results may vary.']\n"
          ]
        }
      ]
    },
    {
      "cell_type": "code",
      "source": [
        "# converting the text data into a list, looping through it in batches, classifying each batch,\n",
        "# printing the output, and collecting all classification results in one list\n",
        "results=[]\n",
        "texts = new['text'].astype(str).tolist()\n",
        "\n",
        "for i in range(0, len(texts), batch_size):\n",
        "    batch = texts[i:i+batch_size]\n",
        "    output = classify_batch(batch, start_idx= i + 1)\n",
        "    results.extend(output.strip().split('\\n'))\n",
        "    #print(output)\n",
        "    #results.extend(output.strip().split('\\n'))\n",
        "#results = [r.strip() for r in results]"
      ],
      "metadata": {
        "id": "7EAOsZAU2e7Q"
      },
      "execution_count": null,
      "outputs": []
    },
    {
      "cell_type": "code",
      "source": [
        "# Convert both predictions and labels to boolean\n",
        "new['gpt_pred_bool'] = new['gpt_pred'].astype(str).str.lower() == 'true'\n",
        "new['true_label_bool'] = new['contains_debt_instrument_information'].astype(str).str.lower() == 'true'\n",
        "\n",
        "from sklearn.metrics import f1_score, classification_report\n",
        "\n",
        "# Get prediction and true label series\n",
        "y_pred = new['gpt_pred_bool']\n",
        "y_true = new['true_label_bool']\n",
        "\n",
        "# Calculate and print F1 score\n",
        "f1 = f1_score(y_true, y_pred)\n",
        "print(f\"F1 Score: {f1:.3f}\")\n",
        "\n",
        "# (Optional) See full breakdown: precision, recall, etc.\n",
        "print(\"\\nClassification Report:\")\n",
        "print(classification_report(y_true, y_pred))"
      ],
      "metadata": {
        "colab": {
          "base_uri": "https://localhost:8080/"
        },
        "id": "mgsAERUb2rl4",
        "outputId": "e89f7fc3-d95d-46c7-ef8c-8954c2f948e6"
      },
      "execution_count": null,
      "outputs": [
        {
          "output_type": "stream",
          "name": "stdout",
          "text": [
            "F1 Score: 0.818\n",
            "\n",
            "Classification Report:\n",
            "              precision    recall  f1-score   support\n",
            "\n",
            "       False       0.68      0.35      0.46        55\n",
            "        True       0.74      0.92      0.82       110\n",
            "\n",
            "    accuracy                           0.73       165\n",
            "   macro avg       0.71      0.63      0.64       165\n",
            "weighted avg       0.72      0.73      0.70       165\n",
            "\n"
          ]
        }
      ]
    },
    {
      "cell_type": "markdown",
      "source": [
        "# **GPT 4.0** **Summary**"
      ],
      "metadata": {
        "id": "BItkDsBHp7E8"
      }
    },
    {
      "cell_type": "code",
      "source": [
        "new = pd.read_csv('/content/drive/MyDrive/Group 1: DSSI Summer 2025/Data/summary_banktrak.csv')"
      ],
      "metadata": {
        "id": "GNYJfx4up6s7"
      },
      "execution_count": null,
      "outputs": []
    },
    {
      "cell_type": "code",
      "source": [
        "len(new)"
      ],
      "metadata": {
        "colab": {
          "base_uri": "https://localhost:8080/"
        },
        "id": "c_k5636wrb1h",
        "outputId": "4e05fea1-59bd-4bcd-d6fa-dff3c3b266e0"
      },
      "execution_count": null,
      "outputs": [
        {
          "output_type": "execute_result",
          "data": {
            "text/plain": [
              "44"
            ]
          },
          "metadata": {},
          "execution_count": 276
        }
      ]
    },
    {
      "cell_type": "code",
      "source": [
        "from datasets import DatasetDict\n",
        "def undersample_majority_class(dataset_dict, label_column):\n",
        "    # Extract train split\n",
        "    np.random.seed(42)\n",
        "    train_data = dataset_dict[\"train\"]\n",
        "    labels = np.array(train_data[label_column])\n",
        "    # Identify majority and minority classes\n",
        "    class_counts = np.bincount(labels)\n",
        "    minority_class = np.argmin(class_counts)\n",
        "    minority_count = np.min(class_counts)\n",
        "    # Get indices for both classes\n",
        "    minority_indices = np.where(labels == minority_class)[0]\n",
        "    majority_indices = np.where(labels != minority_class)[0] # Q: what does [0] entail in this situation\n",
        "    # Randomly select subset of majority class to match minority count\n",
        "    undersampled_majority_indices = np.random.choice(\n",
        "        majority_indices,\n",
        "        size=minority_count,  # Match minority count\n",
        "        replace=False  # No duplicates\n",
        "    )\n",
        "    # Combine selected majority + all minority samples\n",
        "    new_indices = np.concatenate([undersampled_majority_indices, minority_indices])\n",
        "    # Create new balanced dataset\n",
        "    balanced_train = train_data.select(new_indices)\n",
        "\n",
        "    # Create the output DatasetDict, only including 'validation' if it exists\n",
        "    output_dict = {\"train\": balanced_train}\n",
        "    if \"validation\" in dataset_dict:\n",
        "        output_dict[\"validation\"] = dataset_dict[\"validation\"]\n",
        "\n",
        "    return DatasetDict(output_dict)\n",
        "# Usage\n",
        "# Convert the pandas DataFrame 'new' to a Hugging Face DatasetDict\n",
        "from datasets import Dataset\n",
        "dataset_dict = DatasetDict({\"train\": Dataset.from_pandas(new)})\n",
        "\n",
        "dataset = undersample_majority_class(dataset_dict,\n",
        "    label_column=\"contains_debt_instrument_information\"\n",
        ")\n",
        "# Verify\n",
        "print(\"Original counts:\", np.bincount(dataset_dict[\"train\"][\"contains_debt_instrument_information\"]))\n",
        "print(\"Balanced counts:\", np.bincount(dataset[\"train\"][\"contains_debt_instrument_information\"]))"
      ],
      "metadata": {
        "colab": {
          "base_uri": "https://localhost:8080/"
        },
        "id": "PgOjyUwBrfam",
        "outputId": "f10457e5-4273-4167-f055-3a548ee2bb3f"
      },
      "execution_count": null,
      "outputs": [
        {
          "output_type": "stream",
          "name": "stdout",
          "text": [
            "Original counts: [23 21]\n",
            "Balanced counts: [21 21]\n"
          ]
        }
      ]
    },
    {
      "cell_type": "code",
      "source": [
        "# Step 1: Count words in 'text' column\n",
        "# .astype(str) converts data type of column to string\n",
        "# .str.split() splits the string by whitespace\n",
        "# .apply(len) counts number of words in original string\n",
        "new['word_count'] = new['text'].astype(str).str.split().apply(len)\n",
        "\n",
        "# Step 2: Filter rows with more than 2000 words\n",
        "# .copy() copies original dataframe\n",
        "long_rows = new[new['word_count'] > 2000].copy()\n",
        "\n",
        "# Step 3: Define the summarization function\n",
        "# text is string of text I want to summarize\n",
        "# prompt tells AI model what to do and limits response to 300 words\n",
        "def summarize_text(text, max_words=300):\n",
        "    prompt = f\"\"\"Summarize the following text in no more than {max_words} words.\n",
        "Keep only the most essential details and avoid repetition.\n",
        "\n",
        "Text:\n",
        "{text}\n",
        "\"\"\"\n",
        "# sending request to OpenAI API\n",
        "    response = client.chat.completions.create(\n",
        "        model=\"gpt-4-turbo\",\n",
        "        messages=[{\"role\": \"user\", \"content\": prompt}],\n",
        "        temperature=0.3\n",
        "    )\n",
        "    # cleaned summary string is returned\n",
        "    return response.choices[0].message.content.strip()\n",
        "\n",
        "# Step 4: Apply summarization to the full text\n",
        "# each entry in text column in long_rows df is converted to a string\n",
        "# .apply() runs the summarize_text function on each text entry\n",
        "long_rows['summary'] = long_rows['text'].astype(str).apply(lambda x: summarize_text(x, max_words=300))\n",
        "\n",
        "# Assign summaries back to 'new' by matching index\n",
        "matching_idx = long_rows.index.intersection(new.index)\n",
        "new.loc[matching_idx, 'summary'] = long_rows.loc[matching_idx, 'summary']\n",
        "print(long_rows)"
      ],
      "metadata": {
        "colab": {
          "base_uri": "https://localhost:8080/"
        },
        "id": "OkAIKgzFrn9A",
        "outputId": "3caa1d54-ad27-4919-ed72-793b121dc139"
      },
      "execution_count": null,
      "outputs": [
        {
          "output_type": "stream",
          "name": "stdout",
          "text": [
            "Empty DataFrame\n",
            "Columns: [text, company, cik, item, contains_debt_instrument_information, __index_level_0__, word_count, summary, gpt_pred_bool, true_label_bool]\n",
            "Index: []\n"
          ]
        }
      ]
    },
    {
      "cell_type": "code",
      "source": [
        "import openai\n",
        "def classify_batch(batch_texts, start_idx=1):\n",
        "    few_shot_prompt = \"\"\"A Form 8-K is a public document that publicly traded companies must file with the Securities and Exchange Commission (SEC) to disclose significant, unscheduled events or corporate changes. These events are considered material, meaning they could impact the company's financial performance or investor decisions.\n",
        "        Debt financing is when a company borrows money (or is given the right to borrow money) from a collection of lenders. This is primarily done through bonds, notes, loans, credit facilities. Key words include: Term Loan Agreement, Amended and Restated Credit Agreement, Revolving Credit Agreement, Junior Subordinated Notes, Bond, Debt Settlement Agreement.\n",
        "        Classification is 'True' if the item contains details about a debt instrument. If the item just references a debt instrument, this column should still be false. There must be some details outside of the name (such as the start date, the amount, the lenders, etc.).\n",
        "        I want you to think like a financial analyst reviewing SEC Form 8-K filings to determine whether they contain information related to commercial debt. Your response should classify each text with a “True” or “False” label. Do not explain.\n",
        "Examples:\n",
        "\n",
        "1. \"    Alpha Holding Company, LLC Disposition  On January 19, 2017, Concho Resources Inc. (the  Company ), through its wholly owned subsidiary, COG Operating LLC  ( Seller ), entered into a definitive securities purchase agreement (the  Purchase Agreement ) with Plains Pipeline, L.P. ( Purchaser ) to sell 100% of the issued and  outstanding Class A Units of Alpha Holding Company, LLC ( AHC ) (the  Disposition ), for aggregate consideration of approximately $800 million, subject to customary purchase price  adjustments, after closing of the transactions contemplated by the Class B Purchase Agreement (defined below) and repayment of the outstanding borrowings under the credit facility of Alpha Crude Connector, LLC, a wholly owned subsidiary of AHC.  Contemporaneously with the execution of the Purchase Agreement, Purchaser entered into a definitive purchase agreement with Frontier Midstream Solutions, LLC ( Frontier ) to purchase 100% of the issued and outstanding  Class B Units of AHC (the  Class  B Purchase Agreement ). Closing under the Purchase Agreement and the Class B Purchase Agreement is anticipated to occur contemporaneously during the  first half of 2017, subject to customary closing conditions, as further described below. Seller retains the right under the Limited Liability Company Agreement of AHC, subject to certain conditions, to purchase or cause AHC to purchase all of the  Class B Units of AHC prior to closing under the Purchase Agreement and the Class B Purchase Agreement (an  Option Exercise ). In the event of an Option Exercise, Seller will sell all of the Class A Units and  the Class B Units of AHC to Purchaser for an aggregate purchase price of approximately $1.215 billion. The Company expects the net proceeds to Seller in the event of an Option Exercise and sale to Purchaser of all of the Class A Units and  the Class B Units of AHC to be substantially similar to what Seller would otherwise receive under the Purchase Agreement in the absence of an Option Exercise.  Each partys obligation to consummate the Disposition is conditioned upon, among other things, (i) confirmation of the  counterparties representations and warranties as of the closing, (ii) the counterparties performance, in all material respects, of all covenants, (iii) the receipt of all required approvals (including approval under the  Hart-Scott-Rodino Antitrust Improvements Act of 1976), (iv) the absence of legal matters prohibiting the Disposition, and (v) the satisfaction or waiver by Frontier or Purchaser, as applicable, of certain conditions precedent to the  consummation of the transactions contemplated by the Class B Purchase Agreement.  \" → False\n",
        "2. \"    As previously disclosed, between December 14, 2022 and December 16, 2022, IronNet, Inc. (the \" Company \") issued and sold secured promissory notes in an aggregate principal amount of $6.9 million (the \" Initial Notes \") to a total of eight lenders, and on December 30, 2022, the Company issued a secured promissory note in the principal amount of $2.0 million (the \" First   C5 Note \") to an entity affiliated with C5 Capital Limited (\" C5 \"), a beneficial owner of more than 5% of the Company's outstanding common stock.    In connection with the issuance of the First C5 Note, the Company and the holders of the Initial Notes agreed to amend and restate the Initial Notes to be substantially in the form to be issued to C5, which form was attached as an exhibit to the Current Report on Form  8-K  filed on January 4, 2023 (the \" Restated Initial Notes \"). This amendment and restatement occurred on January 11, 2023. The Restated Initial Notes continue to bear interest at a rate of 13.8% per annum from the respective dates of the Initial Notes, and the Restated Initial Notes are payable at scheduled maturity on June 30, 2023.    Upon entering into the First C5 Note, the Company and C5 also agreed to amend and restate the First C5 Note. Subsequently, the parties agreed that the amended and restated First C5 Note and any future notes to be issued in connection with additional bridge financing by C5 would be convertible into shares of the Company's common stock. On January 11, 2023, the Company issued to C5 an amended and restated convertible promissory note in the principal amount of $2.0 million (the \" Restated C5 Note \"). On January 12, 2023, the Company issued to C5 a new secured convertible promissory note in the principal amount of $3.0 million (the \" Second C5 Note \"). The Restated C5 Note and the Second C5 Note (collectively, the \" C5 Notes \"), in the aggregate principal amount of $5.0 million, are in substantially the form of secured convertible promissory note attached to this report as Exhibit 99.1.    The C5 Notes bear interest at a rate of 13.8% per annum from the date of issuance (or in the case of the Restated C5 Note, from the date of the First C5 Note), and all such notes are payable at scheduled maturity on June 30, 2023, subject to acceleration in certain circumstances.    The Company's obligations under the Restated Initial Notes and the C5 Notes are secured by substantially all of the assets of the Company, excluding the Company's intellectual property. C5 and each of the holders of the Restated Initial Notes have executed an Amended and Restated Security Agreement in the form attached as an exhibit to the Current Report on Form  8-K  filed on January 4, 2023.    The C5 Notes provide C5 with the right, at any time on or after the date that is five calendar days prior to maturity, to convert any portion of the principal amount of the C5 Notes, together with any accrued and unpaid interest and any other unpaid amounts, into shares of the Company's common stock, par value $0.0001 per share (the \" Common Stock \"), at a conversion price of $2.00 per share. In the event that any shares of Common Stock are issued upon conversion of the C5 Notes, the Company has agreed to grant specified registration rights to C5.    The foregoing description of the C5 Notes does not purport to be complete and is subject to, and is qualified in its entirety by reference to, the form of C5 Note filed herewith as Exhibit 99.1 and incorporated herein by reference.  \" → True\n",
        "3. \"    Between December 14, 2022 and December 16, 2022, IronNet, Inc. (the \" Company \") issued and sold secured promissory notes in an aggregate principal amount of $6.9 million (the \" Notes \") to a total of eight lenders. The lenders included GEN Keith B. Alexander (Ret.), the founder, Chief Executive Officer and Chairman of the Board of Directors of the Company. The Notes were also issued to lenders that include VADM John M. McConnell (Ret.), Hon. Michael J. Rogers, Theodore E. Schlein and VADM Jan E. Tighe (Ret.), each of whom is a director of the Company, as well as funds affiliated with Forgepoint Capital (the \" Forgepoint Funds \"). Donald R. Dixon, a member of the Company's board of directors, is an affiliate of ForgePoint Capital, and the ForgePoint Funds are also beneficial owners of greater than 5% of the Company's common stock.    Each Note has a scheduled maturity date of one year from the date of issuance, except that the Note issued to one lender that is not, and is not affiliated with, a director of the Company has a scheduled maturity date of six months from the date of issuance. The Notes bear interest at a rate of 13.8% per annum, payable at maturity. The Company may prepay the Notes at any time without premium or penalty, and the Notes do not restrict the incurrence of future indebtedness by the Company.    In the event that the Company fails to timely pay amounts due under the Notes or the Company materially defaults in its performance of any other covenant under the Notes or the Security Agreement (as defined below), which default is not cured within 30 days after written notice thereof, then at the option of the lenders, upon the written consent of lenders representing a majority of the outstanding and unpaid principal under the Notes, all unpaid principal, accrued interest and other amounts owing under the Notes shall be immediately due and payable.    In the event that the Company files any petition or action for relief under any bankruptcy, reorganization, insolvency or moratorium law or any other law for the relief of or relating to debtors, or makes any assignment for the benefit of creditors or takes any corporate action in furtherance thereof, or if an involuntary petition is filed against the Company (unless such petition is dismissed or discharged within 60 days) under any bankruptcy statute, or a custodian, receiver, trustee, assignee for the benefit of creditors is appointed to take possession, custody or control of any property of the Company, then all unpaid principal, accrued interest and other amounts owing under the Notes will accelerate and automatically become immediately due and payable.    The Notes are secured by substantially all of the assets of the Company, excluding the Company's intellectual property. The Company entered into a Security Agreement (the \" Security Agreements \") with each of the lenders.    The forgoing descriptions of the Notes and the Security Agreements do not purport to be complete and are subject to, and are qualified in their entirety by reference to, the form of Note and form of Security Agreement filed hereto as Exhibits 4.1 and 10.1, respectively, and incorporated herein by reference.  \" → True\n",
        "4. \"    Credit Agreement  In connection with the completion of the Merger, on August 4, 2016, Higher One, Inc. ( Higher One ), a Delaware corporation and direct  wholly owned subsidiary of the Company, terminated the existing credit agreement, dated as of October 16, 2012 (as amended, the  Credit Agreement ), among Higher One, as borrower, the Company, Higher One Machines, Inc.,  Higher One Real Estate, Inc. and Higher One Real Estate SP, LLC, as guarantors, Bank of America, N.A. as administrative agent, swingline lender and letter of credit issuer, and the other lenders party thereto, and all commitments thereunder. At the  time of such termination, there were no outstanding revolving loans or outstanding letters of credit under the Credit Agreement. In connection with such termination, all liens on the assets of Higher One, the Company and Higher Ones  subsidiaries securing such facility, together with such subsidiary or Company guarantees, were released and terminated.\" → True\n",
        "\n",
        "Now classify the following:\n",
        "\"\"\"\n",
        "    # building a numbered list of sentences to append to prompt so model can process a batch of inputs at once\n",
        "    # with clear numbering and formatting for each input example\n",
        "    numbered_batch = \"\"\n",
        "    for i, sentence in enumerate(batch_texts, start=start_idx):\n",
        "        numbered_batch += f\"{i}. \\\"{sentence}\\\" →\\n\"\n",
        "\n",
        "    final_prompt = few_shot_prompt + numbered_batch\n",
        "\n",
        "    response = client.chat.completions.create( # maybe use different function rather than chat completion\n",
        "        model=\"gpt-4-turbo\", # wayyy faster than gpt 4; went from 6-7 minutes (only a third complete) to 1 minute (fully complete)\n",
        "        messages=[{\"role\": \"user\", \"content\": final_prompt}],\n",
        "        temperature=0\n",
        "    )\n",
        "\n",
        "    return response.choices[0].message.content\n",
        "\n",
        "results = []\n",
        "batch_size = 5 # Process 5 rows at a time"
      ],
      "metadata": {
        "id": "I6yAvF3xr5vz"
      },
      "execution_count": null,
      "outputs": []
    },
    {
      "cell_type": "code",
      "source": [
        "batch_size"
      ],
      "metadata": {
        "colab": {
          "base_uri": "https://localhost:8080/"
        },
        "id": "OLjjyM0Ir_bc",
        "outputId": "7b2044a4-34fa-48cf-e1a9-da4097965ecf"
      },
      "execution_count": null,
      "outputs": [
        {
          "output_type": "execute_result",
          "data": {
            "text/plain": [
              "5"
            ]
          },
          "metadata": {},
          "execution_count": 268
        }
      ]
    },
    {
      "cell_type": "code",
      "source": [
        "texts = new['text'].astype(str).tolist()\n",
        "\n",
        "i = len(texts) - 1\n",
        "batch = texts[i:i+batch_size]\n",
        "print(batch)\n",
        "print()\n",
        "output = classify_batch(batch, start_idx= i + 1)\n",
        "print(output)\n",
        "print(output.strip())\n",
        "print(output.strip().split('\\n'))\n",
        "#output.strip().split('\\n'))"
      ],
      "metadata": {
        "colab": {
          "base_uri": "https://localhost:8080/"
        },
        "id": "jrWu3ClXsI-u",
        "outputId": "37ea6fa4-d34a-4da8-bdbc-01d8857081c1"
      },
      "execution_count": null,
      "outputs": [
        {
          "output_type": "stream",
          "name": "stdout",
          "text": [
            "[\"In anticipation of consummating the transactions described in Item 1.01 of this Current Report on Form 8-K, on July 15, 2021, Enstar borrowed $300 million under the Revolving Credit Facility, the proceeds of which will be used to fund in part the purchase under the EGL Agreement and pay costs and expenses associated therewith. Following the draw down, Enstar has approximately $125 million of undrawn borrowing capacity under the Revolving Credit Facility. A summary of the material terms of the Revolving Credit Facility is included in Enstar's Annual Report on  Form 10-K  for the year ended December 31, 2020 filed with the SEC on March 1, 2021 and is incorporated herein by reference\"]\n",
            "\n",
            "True\n",
            "True\n",
            "['True']\n"
          ]
        }
      ]
    },
    {
      "cell_type": "code",
      "source": [
        "# converting the text data into a list, looping through it in batches, classifying each batch,\n",
        "# printing the output, and collecting all classification results in one list\n",
        "results=[]\n",
        "texts = new['text'].astype(str).tolist() # from new df and it is a column\n",
        "\n",
        "for i in range(0, len(texts), batch_size):\n",
        "    batch = texts[i:i+batch_size]\n",
        "    output = classify_batch(batch, start_idx= i + 1)\n",
        "    print(f\"--- Raw Output for Batch starting at index {i} ---\") # Added print statement\n",
        "    print(output) # Added print statement\n",
        "    print(\"--------------------------------------------------\") # Added print statement\n",
        "    results.extend(output.strip().split('\\n'))\n",
        "\n",
        "# Optionally, you can uncomment the line below to see the collected results after the loop\n",
        "# results = [r.strip() for r in results]"
      ],
      "metadata": {
        "colab": {
          "base_uri": "https://localhost:8080/"
        },
        "id": "4BEphQRZsQ8e",
        "outputId": "91b21fe9-20dc-4e52-e705-b7f063930859"
      },
      "execution_count": null,
      "outputs": [
        {
          "output_type": "stream",
          "name": "stdout",
          "text": [
            "--- Raw Output for Batch starting at index 0 ---\n",
            "1. False\n",
            "2. False\n",
            "3. True\n",
            "4. False\n",
            "5. True\n",
            "--------------------------------------------------\n",
            "--- Raw Output for Batch starting at index 5 ---\n",
            "6. True\n",
            "7. False\n",
            "8. False\n",
            "9. True\n",
            "10. False\n",
            "--------------------------------------------------\n",
            "--- Raw Output for Batch starting at index 10 ---\n",
            "11. True\n",
            "12. True\n",
            "13. False\n",
            "14. False\n",
            "15. False\n",
            "--------------------------------------------------\n",
            "--- Raw Output for Batch starting at index 15 ---\n",
            "16. False\n",
            "17. False\n",
            "18. True\n",
            "19. True\n",
            "20. False\n",
            "--------------------------------------------------\n",
            "--- Raw Output for Batch starting at index 20 ---\n",
            "21. False\n",
            "22. False\n",
            "23. True\n",
            "24. True\n",
            "25. True\n",
            "--------------------------------------------------\n",
            "--- Raw Output for Batch starting at index 25 ---\n",
            "26. False\n",
            "27. True\n",
            "28. False\n",
            "29. False\n",
            "30. True\n",
            "--------------------------------------------------\n",
            "--- Raw Output for Batch starting at index 30 ---\n",
            "31. True\n",
            "32. True\n",
            "33. False\n",
            "34. False\n",
            "35. True\n",
            "--------------------------------------------------\n",
            "--- Raw Output for Batch starting at index 35 ---\n",
            "36. False\n",
            "37. True\n",
            "38. True\n",
            "39. False\n",
            "40. True\n",
            "--------------------------------------------------\n",
            "--- Raw Output for Batch starting at index 40 ---\n",
            "41. True\n",
            "42. False\n",
            "43. True\n",
            "44. True\n",
            "--------------------------------------------------\n"
          ]
        }
      ]
    },
    {
      "cell_type": "code",
      "source": [
        "results"
      ],
      "metadata": {
        "colab": {
          "base_uri": "https://localhost:8080/"
        },
        "id": "A__WMaXysWuN",
        "outputId": "0f85b297-6abc-4a9d-ef0b-db48e54f0048"
      },
      "execution_count": null,
      "outputs": [
        {
          "output_type": "execute_result",
          "data": {
            "text/plain": [
              "['1. False',\n",
              " '2. False',\n",
              " '3. True',\n",
              " '4. False',\n",
              " '5. True',\n",
              " '6. True',\n",
              " '7. False',\n",
              " '8. False',\n",
              " '9. True',\n",
              " '10. False',\n",
              " '11. True',\n",
              " '12. True',\n",
              " '13. False',\n",
              " '14. False',\n",
              " '15. False',\n",
              " '16. False',\n",
              " '17. False',\n",
              " '18. True',\n",
              " '19. True',\n",
              " '20. False',\n",
              " '21. False',\n",
              " '22. False',\n",
              " '23. True',\n",
              " '24. True',\n",
              " '25. True',\n",
              " '26. False',\n",
              " '27. True',\n",
              " '28. False',\n",
              " '29. False',\n",
              " '30. True',\n",
              " '31. True',\n",
              " '32. True',\n",
              " '33. False',\n",
              " '34. False',\n",
              " '35. True',\n",
              " '36. False',\n",
              " '37. True',\n",
              " '38. True',\n",
              " '39. False',\n",
              " '40. True',\n",
              " '41. True',\n",
              " '42. False',\n",
              " '43. True',\n",
              " '44. True']"
            ]
          },
          "metadata": {},
          "execution_count": 271
        }
      ]
    },
    {
      "cell_type": "code",
      "source": [
        "print(len(set(results)))\n",
        "print(len(results))"
      ],
      "metadata": {
        "colab": {
          "base_uri": "https://localhost:8080/"
        },
        "id": "KX-ZKK7kwHGC",
        "outputId": "7862f31d-fd2c-4113-a93a-e0471d2785b9"
      },
      "execution_count": null,
      "outputs": [
        {
          "output_type": "stream",
          "name": "stdout",
          "text": [
            "44\n",
            "44\n"
          ]
        }
      ]
    },
    {
      "cell_type": "code",
      "execution_count": null,
      "metadata": {
        "id": "oBCnsYAbsb7t"
      },
      "outputs": [],
      "source": [
        "\n",
        "# converting the text data into a list, looping through it in batches, classifying each batch,\n",
        "# printing the output, and collecting all classification results in one list\n",
        "results=[]\n",
        "texts = new['text'].astype(str).tolist()\n",
        "\n",
        "for i in range(0, len(texts), batch_size):\n",
        "    batch = texts[i:i+batch_size]\n",
        "    output = classify_batch(batch, start_idx= i + 1)\n",
        "    results.extend(output.strip().split('\\n'))\n",
        "    #print(output)\n",
        "    #results.extend(output.strip().split('\\n'))\n",
        "#results = [r.strip() for r in results]\n",
        "\n",
        "\n"
      ]
    },
    {
      "cell_type": "code",
      "source": [
        "\n",
        "# Calculate and print F1 score\n",
        "f1 = f1_score(y_true, y_pred)\n",
        "print(f\"F1 Score: {f1:.3f}\")\n",
        "\n",
        "# (Optional) See full breakdown: precision, recall, etc.\n",
        "print(\"\\nClassification Report:\")\n",
        "print(classification_report(y_true, y_pred))\n"
      ],
      "metadata": {
        "colab": {
          "base_uri": "https://localhost:8080/"
        },
        "id": "vYkU-XPHfLbM",
        "outputId": "cfc1f1fe-2460-4737-ecca-d4322196bebf"
      },
      "execution_count": null,
      "outputs": [
        {
          "output_type": "stream",
          "name": "stdout",
          "text": [
            "F1 Score: 0.712\n",
            "\n",
            "Classification Report:\n",
            "              precision    recall  f1-score   support\n",
            "\n",
            "       False       1.00      0.26      0.41        23\n",
            "        True       0.55      1.00      0.71        21\n",
            "\n",
            "    accuracy                           0.61        44\n",
            "   macro avg       0.78      0.63      0.56        44\n",
            "weighted avg       0.79      0.61      0.56        44\n",
            "\n"
          ]
        }
      ]
    },
    {
      "cell_type": "markdown",
      "source": [],
      "metadata": {
        "id": "Skhhb2rTfLJ3"
      }
    }
  ],
  "metadata": {
    "colab": {
      "provenance": []
    },
    "kernelspec": {
      "display_name": "Python 3",
      "name": "python3"
    },
    "language_info": {
      "name": "python"
    },
    "widgets": {
      "application/vnd.jupyter.widget-state+json": {
        "198cb4fc28a34214b157dedfecda6283": {
          "model_module": "@jupyter-widgets/controls",
          "model_name": "HBoxModel",
          "model_module_version": "1.5.0",
          "state": {
            "_dom_classes": [],
            "_model_module": "@jupyter-widgets/controls",
            "_model_module_version": "1.5.0",
            "_model_name": "HBoxModel",
            "_view_count": null,
            "_view_module": "@jupyter-widgets/controls",
            "_view_module_version": "1.5.0",
            "_view_name": "HBoxView",
            "box_style": "",
            "children": [
              "IPY_MODEL_b846059f32414938b581ae2303781b1b",
              "IPY_MODEL_8b7ddf24aa884cc489930810988c891a",
              "IPY_MODEL_62f9454e557e4632b4e54461ff97da1e"
            ],
            "layout": "IPY_MODEL_53c9f316dc87474bb9f9bbddb60b0f99"
          }
        },
        "b846059f32414938b581ae2303781b1b": {
          "model_module": "@jupyter-widgets/controls",
          "model_name": "HTMLModel",
          "model_module_version": "1.5.0",
          "state": {
            "_dom_classes": [],
            "_model_module": "@jupyter-widgets/controls",
            "_model_module_version": "1.5.0",
            "_model_name": "HTMLModel",
            "_view_count": null,
            "_view_module": "@jupyter-widgets/controls",
            "_view_module_version": "1.5.0",
            "_view_name": "HTMLView",
            "description": "",
            "description_tooltip": null,
            "layout": "IPY_MODEL_fc13b756afb7434ba0dd51259280c6bf",
            "placeholder": "​",
            "style": "IPY_MODEL_225cb06fd7f848d09b7b9eb51aef5f92",
            "value": "tokenizer_config.json: "
          }
        },
        "8b7ddf24aa884cc489930810988c891a": {
          "model_module": "@jupyter-widgets/controls",
          "model_name": "FloatProgressModel",
          "model_module_version": "1.5.0",
          "state": {
            "_dom_classes": [],
            "_model_module": "@jupyter-widgets/controls",
            "_model_module_version": "1.5.0",
            "_model_name": "FloatProgressModel",
            "_view_count": null,
            "_view_module": "@jupyter-widgets/controls",
            "_view_module_version": "1.5.0",
            "_view_name": "ProgressView",
            "bar_style": "success",
            "description": "",
            "description_tooltip": null,
            "layout": "IPY_MODEL_54433b4cdc1f451d872a19422137f46d",
            "max": 1,
            "min": 0,
            "orientation": "horizontal",
            "style": "IPY_MODEL_bf84813fcee54b789619ee814f68a65a",
            "value": 1
          }
        },
        "62f9454e557e4632b4e54461ff97da1e": {
          "model_module": "@jupyter-widgets/controls",
          "model_name": "HTMLModel",
          "model_module_version": "1.5.0",
          "state": {
            "_dom_classes": [],
            "_model_module": "@jupyter-widgets/controls",
            "_model_module_version": "1.5.0",
            "_model_name": "HTMLModel",
            "_view_count": null,
            "_view_module": "@jupyter-widgets/controls",
            "_view_module_version": "1.5.0",
            "_view_name": "HTMLView",
            "description": "",
            "description_tooltip": null,
            "layout": "IPY_MODEL_b9c4215d4bba4f9cbec806de4496469f",
            "placeholder": "​",
            "style": "IPY_MODEL_7de4d0c608a74cc0b5c587811e5cbdbc",
            "value": " 2.54k/? [00:00&lt;00:00, 48.9kB/s]"
          }
        },
        "53c9f316dc87474bb9f9bbddb60b0f99": {
          "model_module": "@jupyter-widgets/base",
          "model_name": "LayoutModel",
          "model_module_version": "1.2.0",
          "state": {
            "_model_module": "@jupyter-widgets/base",
            "_model_module_version": "1.2.0",
            "_model_name": "LayoutModel",
            "_view_count": null,
            "_view_module": "@jupyter-widgets/base",
            "_view_module_version": "1.2.0",
            "_view_name": "LayoutView",
            "align_content": null,
            "align_items": null,
            "align_self": null,
            "border": null,
            "bottom": null,
            "display": null,
            "flex": null,
            "flex_flow": null,
            "grid_area": null,
            "grid_auto_columns": null,
            "grid_auto_flow": null,
            "grid_auto_rows": null,
            "grid_column": null,
            "grid_gap": null,
            "grid_row": null,
            "grid_template_areas": null,
            "grid_template_columns": null,
            "grid_template_rows": null,
            "height": null,
            "justify_content": null,
            "justify_items": null,
            "left": null,
            "margin": null,
            "max_height": null,
            "max_width": null,
            "min_height": null,
            "min_width": null,
            "object_fit": null,
            "object_position": null,
            "order": null,
            "overflow": null,
            "overflow_x": null,
            "overflow_y": null,
            "padding": null,
            "right": null,
            "top": null,
            "visibility": null,
            "width": null
          }
        },
        "fc13b756afb7434ba0dd51259280c6bf": {
          "model_module": "@jupyter-widgets/base",
          "model_name": "LayoutModel",
          "model_module_version": "1.2.0",
          "state": {
            "_model_module": "@jupyter-widgets/base",
            "_model_module_version": "1.2.0",
            "_model_name": "LayoutModel",
            "_view_count": null,
            "_view_module": "@jupyter-widgets/base",
            "_view_module_version": "1.2.0",
            "_view_name": "LayoutView",
            "align_content": null,
            "align_items": null,
            "align_self": null,
            "border": null,
            "bottom": null,
            "display": null,
            "flex": null,
            "flex_flow": null,
            "grid_area": null,
            "grid_auto_columns": null,
            "grid_auto_flow": null,
            "grid_auto_rows": null,
            "grid_column": null,
            "grid_gap": null,
            "grid_row": null,
            "grid_template_areas": null,
            "grid_template_columns": null,
            "grid_template_rows": null,
            "height": null,
            "justify_content": null,
            "justify_items": null,
            "left": null,
            "margin": null,
            "max_height": null,
            "max_width": null,
            "min_height": null,
            "min_width": null,
            "object_fit": null,
            "object_position": null,
            "order": null,
            "overflow": null,
            "overflow_x": null,
            "overflow_y": null,
            "padding": null,
            "right": null,
            "top": null,
            "visibility": null,
            "width": null
          }
        },
        "225cb06fd7f848d09b7b9eb51aef5f92": {
          "model_module": "@jupyter-widgets/controls",
          "model_name": "DescriptionStyleModel",
          "model_module_version": "1.5.0",
          "state": {
            "_model_module": "@jupyter-widgets/controls",
            "_model_module_version": "1.5.0",
            "_model_name": "DescriptionStyleModel",
            "_view_count": null,
            "_view_module": "@jupyter-widgets/base",
            "_view_module_version": "1.2.0",
            "_view_name": "StyleView",
            "description_width": ""
          }
        },
        "54433b4cdc1f451d872a19422137f46d": {
          "model_module": "@jupyter-widgets/base",
          "model_name": "LayoutModel",
          "model_module_version": "1.2.0",
          "state": {
            "_model_module": "@jupyter-widgets/base",
            "_model_module_version": "1.2.0",
            "_model_name": "LayoutModel",
            "_view_count": null,
            "_view_module": "@jupyter-widgets/base",
            "_view_module_version": "1.2.0",
            "_view_name": "LayoutView",
            "align_content": null,
            "align_items": null,
            "align_self": null,
            "border": null,
            "bottom": null,
            "display": null,
            "flex": null,
            "flex_flow": null,
            "grid_area": null,
            "grid_auto_columns": null,
            "grid_auto_flow": null,
            "grid_auto_rows": null,
            "grid_column": null,
            "grid_gap": null,
            "grid_row": null,
            "grid_template_areas": null,
            "grid_template_columns": null,
            "grid_template_rows": null,
            "height": null,
            "justify_content": null,
            "justify_items": null,
            "left": null,
            "margin": null,
            "max_height": null,
            "max_width": null,
            "min_height": null,
            "min_width": null,
            "object_fit": null,
            "object_position": null,
            "order": null,
            "overflow": null,
            "overflow_x": null,
            "overflow_y": null,
            "padding": null,
            "right": null,
            "top": null,
            "visibility": null,
            "width": "20px"
          }
        },
        "bf84813fcee54b789619ee814f68a65a": {
          "model_module": "@jupyter-widgets/controls",
          "model_name": "ProgressStyleModel",
          "model_module_version": "1.5.0",
          "state": {
            "_model_module": "@jupyter-widgets/controls",
            "_model_module_version": "1.5.0",
            "_model_name": "ProgressStyleModel",
            "_view_count": null,
            "_view_module": "@jupyter-widgets/base",
            "_view_module_version": "1.2.0",
            "_view_name": "StyleView",
            "bar_color": null,
            "description_width": ""
          }
        },
        "b9c4215d4bba4f9cbec806de4496469f": {
          "model_module": "@jupyter-widgets/base",
          "model_name": "LayoutModel",
          "model_module_version": "1.2.0",
          "state": {
            "_model_module": "@jupyter-widgets/base",
            "_model_module_version": "1.2.0",
            "_model_name": "LayoutModel",
            "_view_count": null,
            "_view_module": "@jupyter-widgets/base",
            "_view_module_version": "1.2.0",
            "_view_name": "LayoutView",
            "align_content": null,
            "align_items": null,
            "align_self": null,
            "border": null,
            "bottom": null,
            "display": null,
            "flex": null,
            "flex_flow": null,
            "grid_area": null,
            "grid_auto_columns": null,
            "grid_auto_flow": null,
            "grid_auto_rows": null,
            "grid_column": null,
            "grid_gap": null,
            "grid_row": null,
            "grid_template_areas": null,
            "grid_template_columns": null,
            "grid_template_rows": null,
            "height": null,
            "justify_content": null,
            "justify_items": null,
            "left": null,
            "margin": null,
            "max_height": null,
            "max_width": null,
            "min_height": null,
            "min_width": null,
            "object_fit": null,
            "object_position": null,
            "order": null,
            "overflow": null,
            "overflow_x": null,
            "overflow_y": null,
            "padding": null,
            "right": null,
            "top": null,
            "visibility": null,
            "width": null
          }
        },
        "7de4d0c608a74cc0b5c587811e5cbdbc": {
          "model_module": "@jupyter-widgets/controls",
          "model_name": "DescriptionStyleModel",
          "model_module_version": "1.5.0",
          "state": {
            "_model_module": "@jupyter-widgets/controls",
            "_model_module_version": "1.5.0",
            "_model_name": "DescriptionStyleModel",
            "_view_count": null,
            "_view_module": "@jupyter-widgets/base",
            "_view_module_version": "1.2.0",
            "_view_name": "StyleView",
            "description_width": ""
          }
        },
        "11d3a5d8c1514330a55fcb7d5355369f": {
          "model_module": "@jupyter-widgets/controls",
          "model_name": "HBoxModel",
          "model_module_version": "1.5.0",
          "state": {
            "_dom_classes": [],
            "_model_module": "@jupyter-widgets/controls",
            "_model_module_version": "1.5.0",
            "_model_name": "HBoxModel",
            "_view_count": null,
            "_view_module": "@jupyter-widgets/controls",
            "_view_module_version": "1.5.0",
            "_view_name": "HBoxView",
            "box_style": "",
            "children": [
              "IPY_MODEL_538f0c987f1e445e87f36da6844a4281",
              "IPY_MODEL_c77745d4b1414ba5a24c3363a2a69889",
              "IPY_MODEL_9c5e35af598e4c48b6f07ca08c72de8f"
            ],
            "layout": "IPY_MODEL_f5a3cb2325a649a0a54a6c56574b4b23"
          }
        },
        "538f0c987f1e445e87f36da6844a4281": {
          "model_module": "@jupyter-widgets/controls",
          "model_name": "HTMLModel",
          "model_module_version": "1.5.0",
          "state": {
            "_dom_classes": [],
            "_model_module": "@jupyter-widgets/controls",
            "_model_module_version": "1.5.0",
            "_model_name": "HTMLModel",
            "_view_count": null,
            "_view_module": "@jupyter-widgets/controls",
            "_view_module_version": "1.5.0",
            "_view_name": "HTMLView",
            "description": "",
            "description_tooltip": null,
            "layout": "IPY_MODEL_07afbbb5d08143d2873a7d455bdae54b",
            "placeholder": "​",
            "style": "IPY_MODEL_0755f5fd01ec484eb8e64197a7da03e1",
            "value": "spiece.model: 100%"
          }
        },
        "c77745d4b1414ba5a24c3363a2a69889": {
          "model_module": "@jupyter-widgets/controls",
          "model_name": "FloatProgressModel",
          "model_module_version": "1.5.0",
          "state": {
            "_dom_classes": [],
            "_model_module": "@jupyter-widgets/controls",
            "_model_module_version": "1.5.0",
            "_model_name": "FloatProgressModel",
            "_view_count": null,
            "_view_module": "@jupyter-widgets/controls",
            "_view_module_version": "1.5.0",
            "_view_name": "ProgressView",
            "bar_style": "success",
            "description": "",
            "description_tooltip": null,
            "layout": "IPY_MODEL_31c25a9255924616aa2c0d51f67c5dac",
            "max": 791656,
            "min": 0,
            "orientation": "horizontal",
            "style": "IPY_MODEL_86c8a88681fe4f96a00e8086263e6d78",
            "value": 791656
          }
        },
        "9c5e35af598e4c48b6f07ca08c72de8f": {
          "model_module": "@jupyter-widgets/controls",
          "model_name": "HTMLModel",
          "model_module_version": "1.5.0",
          "state": {
            "_dom_classes": [],
            "_model_module": "@jupyter-widgets/controls",
            "_model_module_version": "1.5.0",
            "_model_name": "HTMLModel",
            "_view_count": null,
            "_view_module": "@jupyter-widgets/controls",
            "_view_module_version": "1.5.0",
            "_view_name": "HTMLView",
            "description": "",
            "description_tooltip": null,
            "layout": "IPY_MODEL_eb42850344ba45aa9068e4cd1d87657a",
            "placeholder": "​",
            "style": "IPY_MODEL_dbf98a9f070145428ce6a6747b9727de",
            "value": " 792k/792k [00:00&lt;00:00, 1.13MB/s]"
          }
        },
        "f5a3cb2325a649a0a54a6c56574b4b23": {
          "model_module": "@jupyter-widgets/base",
          "model_name": "LayoutModel",
          "model_module_version": "1.2.0",
          "state": {
            "_model_module": "@jupyter-widgets/base",
            "_model_module_version": "1.2.0",
            "_model_name": "LayoutModel",
            "_view_count": null,
            "_view_module": "@jupyter-widgets/base",
            "_view_module_version": "1.2.0",
            "_view_name": "LayoutView",
            "align_content": null,
            "align_items": null,
            "align_self": null,
            "border": null,
            "bottom": null,
            "display": null,
            "flex": null,
            "flex_flow": null,
            "grid_area": null,
            "grid_auto_columns": null,
            "grid_auto_flow": null,
            "grid_auto_rows": null,
            "grid_column": null,
            "grid_gap": null,
            "grid_row": null,
            "grid_template_areas": null,
            "grid_template_columns": null,
            "grid_template_rows": null,
            "height": null,
            "justify_content": null,
            "justify_items": null,
            "left": null,
            "margin": null,
            "max_height": null,
            "max_width": null,
            "min_height": null,
            "min_width": null,
            "object_fit": null,
            "object_position": null,
            "order": null,
            "overflow": null,
            "overflow_x": null,
            "overflow_y": null,
            "padding": null,
            "right": null,
            "top": null,
            "visibility": null,
            "width": null
          }
        },
        "07afbbb5d08143d2873a7d455bdae54b": {
          "model_module": "@jupyter-widgets/base",
          "model_name": "LayoutModel",
          "model_module_version": "1.2.0",
          "state": {
            "_model_module": "@jupyter-widgets/base",
            "_model_module_version": "1.2.0",
            "_model_name": "LayoutModel",
            "_view_count": null,
            "_view_module": "@jupyter-widgets/base",
            "_view_module_version": "1.2.0",
            "_view_name": "LayoutView",
            "align_content": null,
            "align_items": null,
            "align_self": null,
            "border": null,
            "bottom": null,
            "display": null,
            "flex": null,
            "flex_flow": null,
            "grid_area": null,
            "grid_auto_columns": null,
            "grid_auto_flow": null,
            "grid_auto_rows": null,
            "grid_column": null,
            "grid_gap": null,
            "grid_row": null,
            "grid_template_areas": null,
            "grid_template_columns": null,
            "grid_template_rows": null,
            "height": null,
            "justify_content": null,
            "justify_items": null,
            "left": null,
            "margin": null,
            "max_height": null,
            "max_width": null,
            "min_height": null,
            "min_width": null,
            "object_fit": null,
            "object_position": null,
            "order": null,
            "overflow": null,
            "overflow_x": null,
            "overflow_y": null,
            "padding": null,
            "right": null,
            "top": null,
            "visibility": null,
            "width": null
          }
        },
        "0755f5fd01ec484eb8e64197a7da03e1": {
          "model_module": "@jupyter-widgets/controls",
          "model_name": "DescriptionStyleModel",
          "model_module_version": "1.5.0",
          "state": {
            "_model_module": "@jupyter-widgets/controls",
            "_model_module_version": "1.5.0",
            "_model_name": "DescriptionStyleModel",
            "_view_count": null,
            "_view_module": "@jupyter-widgets/base",
            "_view_module_version": "1.2.0",
            "_view_name": "StyleView",
            "description_width": ""
          }
        },
        "31c25a9255924616aa2c0d51f67c5dac": {
          "model_module": "@jupyter-widgets/base",
          "model_name": "LayoutModel",
          "model_module_version": "1.2.0",
          "state": {
            "_model_module": "@jupyter-widgets/base",
            "_model_module_version": "1.2.0",
            "_model_name": "LayoutModel",
            "_view_count": null,
            "_view_module": "@jupyter-widgets/base",
            "_view_module_version": "1.2.0",
            "_view_name": "LayoutView",
            "align_content": null,
            "align_items": null,
            "align_self": null,
            "border": null,
            "bottom": null,
            "display": null,
            "flex": null,
            "flex_flow": null,
            "grid_area": null,
            "grid_auto_columns": null,
            "grid_auto_flow": null,
            "grid_auto_rows": null,
            "grid_column": null,
            "grid_gap": null,
            "grid_row": null,
            "grid_template_areas": null,
            "grid_template_columns": null,
            "grid_template_rows": null,
            "height": null,
            "justify_content": null,
            "justify_items": null,
            "left": null,
            "margin": null,
            "max_height": null,
            "max_width": null,
            "min_height": null,
            "min_width": null,
            "object_fit": null,
            "object_position": null,
            "order": null,
            "overflow": null,
            "overflow_x": null,
            "overflow_y": null,
            "padding": null,
            "right": null,
            "top": null,
            "visibility": null,
            "width": null
          }
        },
        "86c8a88681fe4f96a00e8086263e6d78": {
          "model_module": "@jupyter-widgets/controls",
          "model_name": "ProgressStyleModel",
          "model_module_version": "1.5.0",
          "state": {
            "_model_module": "@jupyter-widgets/controls",
            "_model_module_version": "1.5.0",
            "_model_name": "ProgressStyleModel",
            "_view_count": null,
            "_view_module": "@jupyter-widgets/base",
            "_view_module_version": "1.2.0",
            "_view_name": "StyleView",
            "bar_color": null,
            "description_width": ""
          }
        },
        "eb42850344ba45aa9068e4cd1d87657a": {
          "model_module": "@jupyter-widgets/base",
          "model_name": "LayoutModel",
          "model_module_version": "1.2.0",
          "state": {
            "_model_module": "@jupyter-widgets/base",
            "_model_module_version": "1.2.0",
            "_model_name": "LayoutModel",
            "_view_count": null,
            "_view_module": "@jupyter-widgets/base",
            "_view_module_version": "1.2.0",
            "_view_name": "LayoutView",
            "align_content": null,
            "align_items": null,
            "align_self": null,
            "border": null,
            "bottom": null,
            "display": null,
            "flex": null,
            "flex_flow": null,
            "grid_area": null,
            "grid_auto_columns": null,
            "grid_auto_flow": null,
            "grid_auto_rows": null,
            "grid_column": null,
            "grid_gap": null,
            "grid_row": null,
            "grid_template_areas": null,
            "grid_template_columns": null,
            "grid_template_rows": null,
            "height": null,
            "justify_content": null,
            "justify_items": null,
            "left": null,
            "margin": null,
            "max_height": null,
            "max_width": null,
            "min_height": null,
            "min_width": null,
            "object_fit": null,
            "object_position": null,
            "order": null,
            "overflow": null,
            "overflow_x": null,
            "overflow_y": null,
            "padding": null,
            "right": null,
            "top": null,
            "visibility": null,
            "width": null
          }
        },
        "dbf98a9f070145428ce6a6747b9727de": {
          "model_module": "@jupyter-widgets/controls",
          "model_name": "DescriptionStyleModel",
          "model_module_version": "1.5.0",
          "state": {
            "_model_module": "@jupyter-widgets/controls",
            "_model_module_version": "1.5.0",
            "_model_name": "DescriptionStyleModel",
            "_view_count": null,
            "_view_module": "@jupyter-widgets/base",
            "_view_module_version": "1.2.0",
            "_view_name": "StyleView",
            "description_width": ""
          }
        },
        "fdc6f22911304caaa2a003cbe8a886bf": {
          "model_module": "@jupyter-widgets/controls",
          "model_name": "HBoxModel",
          "model_module_version": "1.5.0",
          "state": {
            "_dom_classes": [],
            "_model_module": "@jupyter-widgets/controls",
            "_model_module_version": "1.5.0",
            "_model_name": "HBoxModel",
            "_view_count": null,
            "_view_module": "@jupyter-widgets/controls",
            "_view_module_version": "1.5.0",
            "_view_name": "HBoxView",
            "box_style": "",
            "children": [
              "IPY_MODEL_64b1f906853d4d6ca71feef4d58db184",
              "IPY_MODEL_3bb725e6a5504da8b71e1c2fbc3dbd56",
              "IPY_MODEL_0361cc2c606c427e9de28ce3151f21d1"
            ],
            "layout": "IPY_MODEL_c83e064686b8467d9b5048f66f998d1b"
          }
        },
        "64b1f906853d4d6ca71feef4d58db184": {
          "model_module": "@jupyter-widgets/controls",
          "model_name": "HTMLModel",
          "model_module_version": "1.5.0",
          "state": {
            "_dom_classes": [],
            "_model_module": "@jupyter-widgets/controls",
            "_model_module_version": "1.5.0",
            "_model_name": "HTMLModel",
            "_view_count": null,
            "_view_module": "@jupyter-widgets/controls",
            "_view_module_version": "1.5.0",
            "_view_name": "HTMLView",
            "description": "",
            "description_tooltip": null,
            "layout": "IPY_MODEL_0915cc6f0bbc4a798978efad3cbeb4ad",
            "placeholder": "​",
            "style": "IPY_MODEL_830c140aa41542ed885a8a2f4b433005",
            "value": "tokenizer.json: "
          }
        },
        "3bb725e6a5504da8b71e1c2fbc3dbd56": {
          "model_module": "@jupyter-widgets/controls",
          "model_name": "FloatProgressModel",
          "model_module_version": "1.5.0",
          "state": {
            "_dom_classes": [],
            "_model_module": "@jupyter-widgets/controls",
            "_model_module_version": "1.5.0",
            "_model_name": "FloatProgressModel",
            "_view_count": null,
            "_view_module": "@jupyter-widgets/controls",
            "_view_module_version": "1.5.0",
            "_view_name": "ProgressView",
            "bar_style": "success",
            "description": "",
            "description_tooltip": null,
            "layout": "IPY_MODEL_62d25fc99165429f84e618172f471dcb",
            "max": 1,
            "min": 0,
            "orientation": "horizontal",
            "style": "IPY_MODEL_d3fca4de72164de099cfdc9caab83160",
            "value": 1
          }
        },
        "0361cc2c606c427e9de28ce3151f21d1": {
          "model_module": "@jupyter-widgets/controls",
          "model_name": "HTMLModel",
          "model_module_version": "1.5.0",
          "state": {
            "_dom_classes": [],
            "_model_module": "@jupyter-widgets/controls",
            "_model_module_version": "1.5.0",
            "_model_name": "HTMLModel",
            "_view_count": null,
            "_view_module": "@jupyter-widgets/controls",
            "_view_module_version": "1.5.0",
            "_view_name": "HTMLView",
            "description": "",
            "description_tooltip": null,
            "layout": "IPY_MODEL_8f15ab13f9be4a4f8ed1ee5909572173",
            "placeholder": "​",
            "style": "IPY_MODEL_99469b1aedf24d388ca16a915ed3a8b3",
            "value": " 2.42M/? [00:00&lt;00:00, 23.9MB/s]"
          }
        },
        "c83e064686b8467d9b5048f66f998d1b": {
          "model_module": "@jupyter-widgets/base",
          "model_name": "LayoutModel",
          "model_module_version": "1.2.0",
          "state": {
            "_model_module": "@jupyter-widgets/base",
            "_model_module_version": "1.2.0",
            "_model_name": "LayoutModel",
            "_view_count": null,
            "_view_module": "@jupyter-widgets/base",
            "_view_module_version": "1.2.0",
            "_view_name": "LayoutView",
            "align_content": null,
            "align_items": null,
            "align_self": null,
            "border": null,
            "bottom": null,
            "display": null,
            "flex": null,
            "flex_flow": null,
            "grid_area": null,
            "grid_auto_columns": null,
            "grid_auto_flow": null,
            "grid_auto_rows": null,
            "grid_column": null,
            "grid_gap": null,
            "grid_row": null,
            "grid_template_areas": null,
            "grid_template_columns": null,
            "grid_template_rows": null,
            "height": null,
            "justify_content": null,
            "justify_items": null,
            "left": null,
            "margin": null,
            "max_height": null,
            "max_width": null,
            "min_height": null,
            "min_width": null,
            "object_fit": null,
            "object_position": null,
            "order": null,
            "overflow": null,
            "overflow_x": null,
            "overflow_y": null,
            "padding": null,
            "right": null,
            "top": null,
            "visibility": null,
            "width": null
          }
        },
        "0915cc6f0bbc4a798978efad3cbeb4ad": {
          "model_module": "@jupyter-widgets/base",
          "model_name": "LayoutModel",
          "model_module_version": "1.2.0",
          "state": {
            "_model_module": "@jupyter-widgets/base",
            "_model_module_version": "1.2.0",
            "_model_name": "LayoutModel",
            "_view_count": null,
            "_view_module": "@jupyter-widgets/base",
            "_view_module_version": "1.2.0",
            "_view_name": "LayoutView",
            "align_content": null,
            "align_items": null,
            "align_self": null,
            "border": null,
            "bottom": null,
            "display": null,
            "flex": null,
            "flex_flow": null,
            "grid_area": null,
            "grid_auto_columns": null,
            "grid_auto_flow": null,
            "grid_auto_rows": null,
            "grid_column": null,
            "grid_gap": null,
            "grid_row": null,
            "grid_template_areas": null,
            "grid_template_columns": null,
            "grid_template_rows": null,
            "height": null,
            "justify_content": null,
            "justify_items": null,
            "left": null,
            "margin": null,
            "max_height": null,
            "max_width": null,
            "min_height": null,
            "min_width": null,
            "object_fit": null,
            "object_position": null,
            "order": null,
            "overflow": null,
            "overflow_x": null,
            "overflow_y": null,
            "padding": null,
            "right": null,
            "top": null,
            "visibility": null,
            "width": null
          }
        },
        "830c140aa41542ed885a8a2f4b433005": {
          "model_module": "@jupyter-widgets/controls",
          "model_name": "DescriptionStyleModel",
          "model_module_version": "1.5.0",
          "state": {
            "_model_module": "@jupyter-widgets/controls",
            "_model_module_version": "1.5.0",
            "_model_name": "DescriptionStyleModel",
            "_view_count": null,
            "_view_module": "@jupyter-widgets/base",
            "_view_module_version": "1.2.0",
            "_view_name": "StyleView",
            "description_width": ""
          }
        },
        "62d25fc99165429f84e618172f471dcb": {
          "model_module": "@jupyter-widgets/base",
          "model_name": "LayoutModel",
          "model_module_version": "1.2.0",
          "state": {
            "_model_module": "@jupyter-widgets/base",
            "_model_module_version": "1.2.0",
            "_model_name": "LayoutModel",
            "_view_count": null,
            "_view_module": "@jupyter-widgets/base",
            "_view_module_version": "1.2.0",
            "_view_name": "LayoutView",
            "align_content": null,
            "align_items": null,
            "align_self": null,
            "border": null,
            "bottom": null,
            "display": null,
            "flex": null,
            "flex_flow": null,
            "grid_area": null,
            "grid_auto_columns": null,
            "grid_auto_flow": null,
            "grid_auto_rows": null,
            "grid_column": null,
            "grid_gap": null,
            "grid_row": null,
            "grid_template_areas": null,
            "grid_template_columns": null,
            "grid_template_rows": null,
            "height": null,
            "justify_content": null,
            "justify_items": null,
            "left": null,
            "margin": null,
            "max_height": null,
            "max_width": null,
            "min_height": null,
            "min_width": null,
            "object_fit": null,
            "object_position": null,
            "order": null,
            "overflow": null,
            "overflow_x": null,
            "overflow_y": null,
            "padding": null,
            "right": null,
            "top": null,
            "visibility": null,
            "width": "20px"
          }
        },
        "d3fca4de72164de099cfdc9caab83160": {
          "model_module": "@jupyter-widgets/controls",
          "model_name": "ProgressStyleModel",
          "model_module_version": "1.5.0",
          "state": {
            "_model_module": "@jupyter-widgets/controls",
            "_model_module_version": "1.5.0",
            "_model_name": "ProgressStyleModel",
            "_view_count": null,
            "_view_module": "@jupyter-widgets/base",
            "_view_module_version": "1.2.0",
            "_view_name": "StyleView",
            "bar_color": null,
            "description_width": ""
          }
        },
        "8f15ab13f9be4a4f8ed1ee5909572173": {
          "model_module": "@jupyter-widgets/base",
          "model_name": "LayoutModel",
          "model_module_version": "1.2.0",
          "state": {
            "_model_module": "@jupyter-widgets/base",
            "_model_module_version": "1.2.0",
            "_model_name": "LayoutModel",
            "_view_count": null,
            "_view_module": "@jupyter-widgets/base",
            "_view_module_version": "1.2.0",
            "_view_name": "LayoutView",
            "align_content": null,
            "align_items": null,
            "align_self": null,
            "border": null,
            "bottom": null,
            "display": null,
            "flex": null,
            "flex_flow": null,
            "grid_area": null,
            "grid_auto_columns": null,
            "grid_auto_flow": null,
            "grid_auto_rows": null,
            "grid_column": null,
            "grid_gap": null,
            "grid_row": null,
            "grid_template_areas": null,
            "grid_template_columns": null,
            "grid_template_rows": null,
            "height": null,
            "justify_content": null,
            "justify_items": null,
            "left": null,
            "margin": null,
            "max_height": null,
            "max_width": null,
            "min_height": null,
            "min_width": null,
            "object_fit": null,
            "object_position": null,
            "order": null,
            "overflow": null,
            "overflow_x": null,
            "overflow_y": null,
            "padding": null,
            "right": null,
            "top": null,
            "visibility": null,
            "width": null
          }
        },
        "99469b1aedf24d388ca16a915ed3a8b3": {
          "model_module": "@jupyter-widgets/controls",
          "model_name": "DescriptionStyleModel",
          "model_module_version": "1.5.0",
          "state": {
            "_model_module": "@jupyter-widgets/controls",
            "_model_module_version": "1.5.0",
            "_model_name": "DescriptionStyleModel",
            "_view_count": null,
            "_view_module": "@jupyter-widgets/base",
            "_view_module_version": "1.2.0",
            "_view_name": "StyleView",
            "description_width": ""
          }
        },
        "43f122e5babd480899fa2f18b09e8570": {
          "model_module": "@jupyter-widgets/controls",
          "model_name": "HBoxModel",
          "model_module_version": "1.5.0",
          "state": {
            "_dom_classes": [],
            "_model_module": "@jupyter-widgets/controls",
            "_model_module_version": "1.5.0",
            "_model_name": "HBoxModel",
            "_view_count": null,
            "_view_module": "@jupyter-widgets/controls",
            "_view_module_version": "1.5.0",
            "_view_name": "HBoxView",
            "box_style": "",
            "children": [
              "IPY_MODEL_2900e273e3ba4933af798d9254049e70",
              "IPY_MODEL_45eb13142b9742a5bd82b8b7f0911627",
              "IPY_MODEL_df5f69f4dd3a4514a12c504945c08ea8"
            ],
            "layout": "IPY_MODEL_add6792d66244078a270b1e2f02c5e28"
          }
        },
        "2900e273e3ba4933af798d9254049e70": {
          "model_module": "@jupyter-widgets/controls",
          "model_name": "HTMLModel",
          "model_module_version": "1.5.0",
          "state": {
            "_dom_classes": [],
            "_model_module": "@jupyter-widgets/controls",
            "_model_module_version": "1.5.0",
            "_model_name": "HTMLModel",
            "_view_count": null,
            "_view_module": "@jupyter-widgets/controls",
            "_view_module_version": "1.5.0",
            "_view_name": "HTMLView",
            "description": "",
            "description_tooltip": null,
            "layout": "IPY_MODEL_cd36153d9c064c169ecbf83eaf977444",
            "placeholder": "​",
            "style": "IPY_MODEL_0ae1a298539846a8a88d0717220df187",
            "value": "special_tokens_map.json: "
          }
        },
        "45eb13142b9742a5bd82b8b7f0911627": {
          "model_module": "@jupyter-widgets/controls",
          "model_name": "FloatProgressModel",
          "model_module_version": "1.5.0",
          "state": {
            "_dom_classes": [],
            "_model_module": "@jupyter-widgets/controls",
            "_model_module_version": "1.5.0",
            "_model_name": "FloatProgressModel",
            "_view_count": null,
            "_view_module": "@jupyter-widgets/controls",
            "_view_module_version": "1.5.0",
            "_view_name": "ProgressView",
            "bar_style": "success",
            "description": "",
            "description_tooltip": null,
            "layout": "IPY_MODEL_4dffef527e794f60a8538d67b200a239",
            "max": 1,
            "min": 0,
            "orientation": "horizontal",
            "style": "IPY_MODEL_ce62b8672ef2401d9a6de97df89d6345",
            "value": 1
          }
        },
        "df5f69f4dd3a4514a12c504945c08ea8": {
          "model_module": "@jupyter-widgets/controls",
          "model_name": "HTMLModel",
          "model_module_version": "1.5.0",
          "state": {
            "_dom_classes": [],
            "_model_module": "@jupyter-widgets/controls",
            "_model_module_version": "1.5.0",
            "_model_name": "HTMLModel",
            "_view_count": null,
            "_view_module": "@jupyter-widgets/controls",
            "_view_module_version": "1.5.0",
            "_view_name": "HTMLView",
            "description": "",
            "description_tooltip": null,
            "layout": "IPY_MODEL_62920ff093f34097b648bba7367a8d98",
            "placeholder": "​",
            "style": "IPY_MODEL_317f44dcfcfc40e58b0a9cbd1c7d88e7",
            "value": " 2.20k/? [00:00&lt;00:00, 48.4kB/s]"
          }
        },
        "add6792d66244078a270b1e2f02c5e28": {
          "model_module": "@jupyter-widgets/base",
          "model_name": "LayoutModel",
          "model_module_version": "1.2.0",
          "state": {
            "_model_module": "@jupyter-widgets/base",
            "_model_module_version": "1.2.0",
            "_model_name": "LayoutModel",
            "_view_count": null,
            "_view_module": "@jupyter-widgets/base",
            "_view_module_version": "1.2.0",
            "_view_name": "LayoutView",
            "align_content": null,
            "align_items": null,
            "align_self": null,
            "border": null,
            "bottom": null,
            "display": null,
            "flex": null,
            "flex_flow": null,
            "grid_area": null,
            "grid_auto_columns": null,
            "grid_auto_flow": null,
            "grid_auto_rows": null,
            "grid_column": null,
            "grid_gap": null,
            "grid_row": null,
            "grid_template_areas": null,
            "grid_template_columns": null,
            "grid_template_rows": null,
            "height": null,
            "justify_content": null,
            "justify_items": null,
            "left": null,
            "margin": null,
            "max_height": null,
            "max_width": null,
            "min_height": null,
            "min_width": null,
            "object_fit": null,
            "object_position": null,
            "order": null,
            "overflow": null,
            "overflow_x": null,
            "overflow_y": null,
            "padding": null,
            "right": null,
            "top": null,
            "visibility": null,
            "width": null
          }
        },
        "cd36153d9c064c169ecbf83eaf977444": {
          "model_module": "@jupyter-widgets/base",
          "model_name": "LayoutModel",
          "model_module_version": "1.2.0",
          "state": {
            "_model_module": "@jupyter-widgets/base",
            "_model_module_version": "1.2.0",
            "_model_name": "LayoutModel",
            "_view_count": null,
            "_view_module": "@jupyter-widgets/base",
            "_view_module_version": "1.2.0",
            "_view_name": "LayoutView",
            "align_content": null,
            "align_items": null,
            "align_self": null,
            "border": null,
            "bottom": null,
            "display": null,
            "flex": null,
            "flex_flow": null,
            "grid_area": null,
            "grid_auto_columns": null,
            "grid_auto_flow": null,
            "grid_auto_rows": null,
            "grid_column": null,
            "grid_gap": null,
            "grid_row": null,
            "grid_template_areas": null,
            "grid_template_columns": null,
            "grid_template_rows": null,
            "height": null,
            "justify_content": null,
            "justify_items": null,
            "left": null,
            "margin": null,
            "max_height": null,
            "max_width": null,
            "min_height": null,
            "min_width": null,
            "object_fit": null,
            "object_position": null,
            "order": null,
            "overflow": null,
            "overflow_x": null,
            "overflow_y": null,
            "padding": null,
            "right": null,
            "top": null,
            "visibility": null,
            "width": null
          }
        },
        "0ae1a298539846a8a88d0717220df187": {
          "model_module": "@jupyter-widgets/controls",
          "model_name": "DescriptionStyleModel",
          "model_module_version": "1.5.0",
          "state": {
            "_model_module": "@jupyter-widgets/controls",
            "_model_module_version": "1.5.0",
            "_model_name": "DescriptionStyleModel",
            "_view_count": null,
            "_view_module": "@jupyter-widgets/base",
            "_view_module_version": "1.2.0",
            "_view_name": "StyleView",
            "description_width": ""
          }
        },
        "4dffef527e794f60a8538d67b200a239": {
          "model_module": "@jupyter-widgets/base",
          "model_name": "LayoutModel",
          "model_module_version": "1.2.0",
          "state": {
            "_model_module": "@jupyter-widgets/base",
            "_model_module_version": "1.2.0",
            "_model_name": "LayoutModel",
            "_view_count": null,
            "_view_module": "@jupyter-widgets/base",
            "_view_module_version": "1.2.0",
            "_view_name": "LayoutView",
            "align_content": null,
            "align_items": null,
            "align_self": null,
            "border": null,
            "bottom": null,
            "display": null,
            "flex": null,
            "flex_flow": null,
            "grid_area": null,
            "grid_auto_columns": null,
            "grid_auto_flow": null,
            "grid_auto_rows": null,
            "grid_column": null,
            "grid_gap": null,
            "grid_row": null,
            "grid_template_areas": null,
            "grid_template_columns": null,
            "grid_template_rows": null,
            "height": null,
            "justify_content": null,
            "justify_items": null,
            "left": null,
            "margin": null,
            "max_height": null,
            "max_width": null,
            "min_height": null,
            "min_width": null,
            "object_fit": null,
            "object_position": null,
            "order": null,
            "overflow": null,
            "overflow_x": null,
            "overflow_y": null,
            "padding": null,
            "right": null,
            "top": null,
            "visibility": null,
            "width": "20px"
          }
        },
        "ce62b8672ef2401d9a6de97df89d6345": {
          "model_module": "@jupyter-widgets/controls",
          "model_name": "ProgressStyleModel",
          "model_module_version": "1.5.0",
          "state": {
            "_model_module": "@jupyter-widgets/controls",
            "_model_module_version": "1.5.0",
            "_model_name": "ProgressStyleModel",
            "_view_count": null,
            "_view_module": "@jupyter-widgets/base",
            "_view_module_version": "1.2.0",
            "_view_name": "StyleView",
            "bar_color": null,
            "description_width": ""
          }
        },
        "62920ff093f34097b648bba7367a8d98": {
          "model_module": "@jupyter-widgets/base",
          "model_name": "LayoutModel",
          "model_module_version": "1.2.0",
          "state": {
            "_model_module": "@jupyter-widgets/base",
            "_model_module_version": "1.2.0",
            "_model_name": "LayoutModel",
            "_view_count": null,
            "_view_module": "@jupyter-widgets/base",
            "_view_module_version": "1.2.0",
            "_view_name": "LayoutView",
            "align_content": null,
            "align_items": null,
            "align_self": null,
            "border": null,
            "bottom": null,
            "display": null,
            "flex": null,
            "flex_flow": null,
            "grid_area": null,
            "grid_auto_columns": null,
            "grid_auto_flow": null,
            "grid_auto_rows": null,
            "grid_column": null,
            "grid_gap": null,
            "grid_row": null,
            "grid_template_areas": null,
            "grid_template_columns": null,
            "grid_template_rows": null,
            "height": null,
            "justify_content": null,
            "justify_items": null,
            "left": null,
            "margin": null,
            "max_height": null,
            "max_width": null,
            "min_height": null,
            "min_width": null,
            "object_fit": null,
            "object_position": null,
            "order": null,
            "overflow": null,
            "overflow_x": null,
            "overflow_y": null,
            "padding": null,
            "right": null,
            "top": null,
            "visibility": null,
            "width": null
          }
        },
        "317f44dcfcfc40e58b0a9cbd1c7d88e7": {
          "model_module": "@jupyter-widgets/controls",
          "model_name": "DescriptionStyleModel",
          "model_module_version": "1.5.0",
          "state": {
            "_model_module": "@jupyter-widgets/controls",
            "_model_module_version": "1.5.0",
            "_model_name": "DescriptionStyleModel",
            "_view_count": null,
            "_view_module": "@jupyter-widgets/base",
            "_view_module_version": "1.2.0",
            "_view_name": "StyleView",
            "description_width": ""
          }
        },
        "cc1e01fe82a641fd976bc9d24d417bec": {
          "model_module": "@jupyter-widgets/controls",
          "model_name": "HBoxModel",
          "model_module_version": "1.5.0",
          "state": {
            "_dom_classes": [],
            "_model_module": "@jupyter-widgets/controls",
            "_model_module_version": "1.5.0",
            "_model_name": "HBoxModel",
            "_view_count": null,
            "_view_module": "@jupyter-widgets/controls",
            "_view_module_version": "1.5.0",
            "_view_name": "HBoxView",
            "box_style": "",
            "children": [
              "IPY_MODEL_7934d647462e4be0b6081b2be178b3e4",
              "IPY_MODEL_72d9ec0e673646da8ab65a4d5cc911aa",
              "IPY_MODEL_ec2d290e01234593b9676704f758847b"
            ],
            "layout": "IPY_MODEL_d6fbe7d3b08446bfb6e58c4631e6843a"
          }
        },
        "7934d647462e4be0b6081b2be178b3e4": {
          "model_module": "@jupyter-widgets/controls",
          "model_name": "HTMLModel",
          "model_module_version": "1.5.0",
          "state": {
            "_dom_classes": [],
            "_model_module": "@jupyter-widgets/controls",
            "_model_module_version": "1.5.0",
            "_model_name": "HTMLModel",
            "_view_count": null,
            "_view_module": "@jupyter-widgets/controls",
            "_view_module_version": "1.5.0",
            "_view_name": "HTMLView",
            "description": "",
            "description_tooltip": null,
            "layout": "IPY_MODEL_a5b86751b21147b2936b834957ed58ef",
            "placeholder": "​",
            "style": "IPY_MODEL_88468a960b0e4a8e967d2881351ede81",
            "value": "config.json: "
          }
        },
        "72d9ec0e673646da8ab65a4d5cc911aa": {
          "model_module": "@jupyter-widgets/controls",
          "model_name": "FloatProgressModel",
          "model_module_version": "1.5.0",
          "state": {
            "_dom_classes": [],
            "_model_module": "@jupyter-widgets/controls",
            "_model_module_version": "1.5.0",
            "_model_name": "FloatProgressModel",
            "_view_count": null,
            "_view_module": "@jupyter-widgets/controls",
            "_view_module_version": "1.5.0",
            "_view_name": "ProgressView",
            "bar_style": "success",
            "description": "",
            "description_tooltip": null,
            "layout": "IPY_MODEL_6b7a568ccbb54210b771e630fafc491b",
            "max": 1,
            "min": 0,
            "orientation": "horizontal",
            "style": "IPY_MODEL_4e08b27394eb4ac391d74210a3ba06f3",
            "value": 1
          }
        },
        "ec2d290e01234593b9676704f758847b": {
          "model_module": "@jupyter-widgets/controls",
          "model_name": "HTMLModel",
          "model_module_version": "1.5.0",
          "state": {
            "_dom_classes": [],
            "_model_module": "@jupyter-widgets/controls",
            "_model_module_version": "1.5.0",
            "_model_name": "HTMLModel",
            "_view_count": null,
            "_view_module": "@jupyter-widgets/controls",
            "_view_module_version": "1.5.0",
            "_view_name": "HTMLView",
            "description": "",
            "description_tooltip": null,
            "layout": "IPY_MODEL_52a7177bedc240aeb62bc71befbfbb6f",
            "placeholder": "​",
            "style": "IPY_MODEL_63fac07c08f2463b9e0e85f3cea688d7",
            "value": " 1.40k/? [00:00&lt;00:00, 29.6kB/s]"
          }
        },
        "d6fbe7d3b08446bfb6e58c4631e6843a": {
          "model_module": "@jupyter-widgets/base",
          "model_name": "LayoutModel",
          "model_module_version": "1.2.0",
          "state": {
            "_model_module": "@jupyter-widgets/base",
            "_model_module_version": "1.2.0",
            "_model_name": "LayoutModel",
            "_view_count": null,
            "_view_module": "@jupyter-widgets/base",
            "_view_module_version": "1.2.0",
            "_view_name": "LayoutView",
            "align_content": null,
            "align_items": null,
            "align_self": null,
            "border": null,
            "bottom": null,
            "display": null,
            "flex": null,
            "flex_flow": null,
            "grid_area": null,
            "grid_auto_columns": null,
            "grid_auto_flow": null,
            "grid_auto_rows": null,
            "grid_column": null,
            "grid_gap": null,
            "grid_row": null,
            "grid_template_areas": null,
            "grid_template_columns": null,
            "grid_template_rows": null,
            "height": null,
            "justify_content": null,
            "justify_items": null,
            "left": null,
            "margin": null,
            "max_height": null,
            "max_width": null,
            "min_height": null,
            "min_width": null,
            "object_fit": null,
            "object_position": null,
            "order": null,
            "overflow": null,
            "overflow_x": null,
            "overflow_y": null,
            "padding": null,
            "right": null,
            "top": null,
            "visibility": null,
            "width": null
          }
        },
        "a5b86751b21147b2936b834957ed58ef": {
          "model_module": "@jupyter-widgets/base",
          "model_name": "LayoutModel",
          "model_module_version": "1.2.0",
          "state": {
            "_model_module": "@jupyter-widgets/base",
            "_model_module_version": "1.2.0",
            "_model_name": "LayoutModel",
            "_view_count": null,
            "_view_module": "@jupyter-widgets/base",
            "_view_module_version": "1.2.0",
            "_view_name": "LayoutView",
            "align_content": null,
            "align_items": null,
            "align_self": null,
            "border": null,
            "bottom": null,
            "display": null,
            "flex": null,
            "flex_flow": null,
            "grid_area": null,
            "grid_auto_columns": null,
            "grid_auto_flow": null,
            "grid_auto_rows": null,
            "grid_column": null,
            "grid_gap": null,
            "grid_row": null,
            "grid_template_areas": null,
            "grid_template_columns": null,
            "grid_template_rows": null,
            "height": null,
            "justify_content": null,
            "justify_items": null,
            "left": null,
            "margin": null,
            "max_height": null,
            "max_width": null,
            "min_height": null,
            "min_width": null,
            "object_fit": null,
            "object_position": null,
            "order": null,
            "overflow": null,
            "overflow_x": null,
            "overflow_y": null,
            "padding": null,
            "right": null,
            "top": null,
            "visibility": null,
            "width": null
          }
        },
        "88468a960b0e4a8e967d2881351ede81": {
          "model_module": "@jupyter-widgets/controls",
          "model_name": "DescriptionStyleModel",
          "model_module_version": "1.5.0",
          "state": {
            "_model_module": "@jupyter-widgets/controls",
            "_model_module_version": "1.5.0",
            "_model_name": "DescriptionStyleModel",
            "_view_count": null,
            "_view_module": "@jupyter-widgets/base",
            "_view_module_version": "1.2.0",
            "_view_name": "StyleView",
            "description_width": ""
          }
        },
        "6b7a568ccbb54210b771e630fafc491b": {
          "model_module": "@jupyter-widgets/base",
          "model_name": "LayoutModel",
          "model_module_version": "1.2.0",
          "state": {
            "_model_module": "@jupyter-widgets/base",
            "_model_module_version": "1.2.0",
            "_model_name": "LayoutModel",
            "_view_count": null,
            "_view_module": "@jupyter-widgets/base",
            "_view_module_version": "1.2.0",
            "_view_name": "LayoutView",
            "align_content": null,
            "align_items": null,
            "align_self": null,
            "border": null,
            "bottom": null,
            "display": null,
            "flex": null,
            "flex_flow": null,
            "grid_area": null,
            "grid_auto_columns": null,
            "grid_auto_flow": null,
            "grid_auto_rows": null,
            "grid_column": null,
            "grid_gap": null,
            "grid_row": null,
            "grid_template_areas": null,
            "grid_template_columns": null,
            "grid_template_rows": null,
            "height": null,
            "justify_content": null,
            "justify_items": null,
            "left": null,
            "margin": null,
            "max_height": null,
            "max_width": null,
            "min_height": null,
            "min_width": null,
            "object_fit": null,
            "object_position": null,
            "order": null,
            "overflow": null,
            "overflow_x": null,
            "overflow_y": null,
            "padding": null,
            "right": null,
            "top": null,
            "visibility": null,
            "width": "20px"
          }
        },
        "4e08b27394eb4ac391d74210a3ba06f3": {
          "model_module": "@jupyter-widgets/controls",
          "model_name": "ProgressStyleModel",
          "model_module_version": "1.5.0",
          "state": {
            "_model_module": "@jupyter-widgets/controls",
            "_model_module_version": "1.5.0",
            "_model_name": "ProgressStyleModel",
            "_view_count": null,
            "_view_module": "@jupyter-widgets/base",
            "_view_module_version": "1.2.0",
            "_view_name": "StyleView",
            "bar_color": null,
            "description_width": ""
          }
        },
        "52a7177bedc240aeb62bc71befbfbb6f": {
          "model_module": "@jupyter-widgets/base",
          "model_name": "LayoutModel",
          "model_module_version": "1.2.0",
          "state": {
            "_model_module": "@jupyter-widgets/base",
            "_model_module_version": "1.2.0",
            "_model_name": "LayoutModel",
            "_view_count": null,
            "_view_module": "@jupyter-widgets/base",
            "_view_module_version": "1.2.0",
            "_view_name": "LayoutView",
            "align_content": null,
            "align_items": null,
            "align_self": null,
            "border": null,
            "bottom": null,
            "display": null,
            "flex": null,
            "flex_flow": null,
            "grid_area": null,
            "grid_auto_columns": null,
            "grid_auto_flow": null,
            "grid_auto_rows": null,
            "grid_column": null,
            "grid_gap": null,
            "grid_row": null,
            "grid_template_areas": null,
            "grid_template_columns": null,
            "grid_template_rows": null,
            "height": null,
            "justify_content": null,
            "justify_items": null,
            "left": null,
            "margin": null,
            "max_height": null,
            "max_width": null,
            "min_height": null,
            "min_width": null,
            "object_fit": null,
            "object_position": null,
            "order": null,
            "overflow": null,
            "overflow_x": null,
            "overflow_y": null,
            "padding": null,
            "right": null,
            "top": null,
            "visibility": null,
            "width": null
          }
        },
        "63fac07c08f2463b9e0e85f3cea688d7": {
          "model_module": "@jupyter-widgets/controls",
          "model_name": "DescriptionStyleModel",
          "model_module_version": "1.5.0",
          "state": {
            "_model_module": "@jupyter-widgets/controls",
            "_model_module_version": "1.5.0",
            "_model_name": "DescriptionStyleModel",
            "_view_count": null,
            "_view_module": "@jupyter-widgets/base",
            "_view_module_version": "1.2.0",
            "_view_name": "StyleView",
            "description_width": ""
          }
        },
        "752c8eaf7dc046438ff7c72e0aeab5dd": {
          "model_module": "@jupyter-widgets/controls",
          "model_name": "HBoxModel",
          "model_module_version": "1.5.0",
          "state": {
            "_dom_classes": [],
            "_model_module": "@jupyter-widgets/controls",
            "_model_module_version": "1.5.0",
            "_model_name": "HBoxModel",
            "_view_count": null,
            "_view_module": "@jupyter-widgets/controls",
            "_view_module_version": "1.5.0",
            "_view_name": "HBoxView",
            "box_style": "",
            "children": [
              "IPY_MODEL_480c897335a7489d8209a85b9afff171",
              "IPY_MODEL_be206a28facb461dbf11db35eca5175d",
              "IPY_MODEL_685c8e0091be4ba9811510bb64d81919"
            ],
            "layout": "IPY_MODEL_d9c96ddcfd2c4173bf02e9f5e810b929"
          }
        },
        "480c897335a7489d8209a85b9afff171": {
          "model_module": "@jupyter-widgets/controls",
          "model_name": "HTMLModel",
          "model_module_version": "1.5.0",
          "state": {
            "_dom_classes": [],
            "_model_module": "@jupyter-widgets/controls",
            "_model_module_version": "1.5.0",
            "_model_name": "HTMLModel",
            "_view_count": null,
            "_view_module": "@jupyter-widgets/controls",
            "_view_module_version": "1.5.0",
            "_view_name": "HTMLView",
            "description": "",
            "description_tooltip": null,
            "layout": "IPY_MODEL_d8604d06268c40b185ea3a3342f809f8",
            "placeholder": "​",
            "style": "IPY_MODEL_770f4a7506f044a9930d08ad62d58168",
            "value": "model.safetensors: 100%"
          }
        },
        "be206a28facb461dbf11db35eca5175d": {
          "model_module": "@jupyter-widgets/controls",
          "model_name": "FloatProgressModel",
          "model_module_version": "1.5.0",
          "state": {
            "_dom_classes": [],
            "_model_module": "@jupyter-widgets/controls",
            "_model_module_version": "1.5.0",
            "_model_name": "FloatProgressModel",
            "_view_count": null,
            "_view_module": "@jupyter-widgets/controls",
            "_view_module_version": "1.5.0",
            "_view_name": "ProgressView",
            "bar_style": "success",
            "description": "",
            "description_tooltip": null,
            "layout": "IPY_MODEL_1b3696362bd9458a85dbae0861711423",
            "max": 990345061,
            "min": 0,
            "orientation": "horizontal",
            "style": "IPY_MODEL_dfc83fe87eac4536ada78c5fe717837f",
            "value": 990345061
          }
        },
        "685c8e0091be4ba9811510bb64d81919": {
          "model_module": "@jupyter-widgets/controls",
          "model_name": "HTMLModel",
          "model_module_version": "1.5.0",
          "state": {
            "_dom_classes": [],
            "_model_module": "@jupyter-widgets/controls",
            "_model_module_version": "1.5.0",
            "_model_name": "HTMLModel",
            "_view_count": null,
            "_view_module": "@jupyter-widgets/controls",
            "_view_module_version": "1.5.0",
            "_view_name": "HTMLView",
            "description": "",
            "description_tooltip": null,
            "layout": "IPY_MODEL_e3e6bb12fcec43c7b38de93fa7320125",
            "placeholder": "​",
            "style": "IPY_MODEL_233a7be23ab1422eac9e1c956d879d8e",
            "value": " 990M/990M [00:39&lt;00:00, 24.0MB/s]"
          }
        },
        "d9c96ddcfd2c4173bf02e9f5e810b929": {
          "model_module": "@jupyter-widgets/base",
          "model_name": "LayoutModel",
          "model_module_version": "1.2.0",
          "state": {
            "_model_module": "@jupyter-widgets/base",
            "_model_module_version": "1.2.0",
            "_model_name": "LayoutModel",
            "_view_count": null,
            "_view_module": "@jupyter-widgets/base",
            "_view_module_version": "1.2.0",
            "_view_name": "LayoutView",
            "align_content": null,
            "align_items": null,
            "align_self": null,
            "border": null,
            "bottom": null,
            "display": null,
            "flex": null,
            "flex_flow": null,
            "grid_area": null,
            "grid_auto_columns": null,
            "grid_auto_flow": null,
            "grid_auto_rows": null,
            "grid_column": null,
            "grid_gap": null,
            "grid_row": null,
            "grid_template_areas": null,
            "grid_template_columns": null,
            "grid_template_rows": null,
            "height": null,
            "justify_content": null,
            "justify_items": null,
            "left": null,
            "margin": null,
            "max_height": null,
            "max_width": null,
            "min_height": null,
            "min_width": null,
            "object_fit": null,
            "object_position": null,
            "order": null,
            "overflow": null,
            "overflow_x": null,
            "overflow_y": null,
            "padding": null,
            "right": null,
            "top": null,
            "visibility": null,
            "width": null
          }
        },
        "d8604d06268c40b185ea3a3342f809f8": {
          "model_module": "@jupyter-widgets/base",
          "model_name": "LayoutModel",
          "model_module_version": "1.2.0",
          "state": {
            "_model_module": "@jupyter-widgets/base",
            "_model_module_version": "1.2.0",
            "_model_name": "LayoutModel",
            "_view_count": null,
            "_view_module": "@jupyter-widgets/base",
            "_view_module_version": "1.2.0",
            "_view_name": "LayoutView",
            "align_content": null,
            "align_items": null,
            "align_self": null,
            "border": null,
            "bottom": null,
            "display": null,
            "flex": null,
            "flex_flow": null,
            "grid_area": null,
            "grid_auto_columns": null,
            "grid_auto_flow": null,
            "grid_auto_rows": null,
            "grid_column": null,
            "grid_gap": null,
            "grid_row": null,
            "grid_template_areas": null,
            "grid_template_columns": null,
            "grid_template_rows": null,
            "height": null,
            "justify_content": null,
            "justify_items": null,
            "left": null,
            "margin": null,
            "max_height": null,
            "max_width": null,
            "min_height": null,
            "min_width": null,
            "object_fit": null,
            "object_position": null,
            "order": null,
            "overflow": null,
            "overflow_x": null,
            "overflow_y": null,
            "padding": null,
            "right": null,
            "top": null,
            "visibility": null,
            "width": null
          }
        },
        "770f4a7506f044a9930d08ad62d58168": {
          "model_module": "@jupyter-widgets/controls",
          "model_name": "DescriptionStyleModel",
          "model_module_version": "1.5.0",
          "state": {
            "_model_module": "@jupyter-widgets/controls",
            "_model_module_version": "1.5.0",
            "_model_name": "DescriptionStyleModel",
            "_view_count": null,
            "_view_module": "@jupyter-widgets/base",
            "_view_module_version": "1.2.0",
            "_view_name": "StyleView",
            "description_width": ""
          }
        },
        "1b3696362bd9458a85dbae0861711423": {
          "model_module": "@jupyter-widgets/base",
          "model_name": "LayoutModel",
          "model_module_version": "1.2.0",
          "state": {
            "_model_module": "@jupyter-widgets/base",
            "_model_module_version": "1.2.0",
            "_model_name": "LayoutModel",
            "_view_count": null,
            "_view_module": "@jupyter-widgets/base",
            "_view_module_version": "1.2.0",
            "_view_name": "LayoutView",
            "align_content": null,
            "align_items": null,
            "align_self": null,
            "border": null,
            "bottom": null,
            "display": null,
            "flex": null,
            "flex_flow": null,
            "grid_area": null,
            "grid_auto_columns": null,
            "grid_auto_flow": null,
            "grid_auto_rows": null,
            "grid_column": null,
            "grid_gap": null,
            "grid_row": null,
            "grid_template_areas": null,
            "grid_template_columns": null,
            "grid_template_rows": null,
            "height": null,
            "justify_content": null,
            "justify_items": null,
            "left": null,
            "margin": null,
            "max_height": null,
            "max_width": null,
            "min_height": null,
            "min_width": null,
            "object_fit": null,
            "object_position": null,
            "order": null,
            "overflow": null,
            "overflow_x": null,
            "overflow_y": null,
            "padding": null,
            "right": null,
            "top": null,
            "visibility": null,
            "width": null
          }
        },
        "dfc83fe87eac4536ada78c5fe717837f": {
          "model_module": "@jupyter-widgets/controls",
          "model_name": "ProgressStyleModel",
          "model_module_version": "1.5.0",
          "state": {
            "_model_module": "@jupyter-widgets/controls",
            "_model_module_version": "1.5.0",
            "_model_name": "ProgressStyleModel",
            "_view_count": null,
            "_view_module": "@jupyter-widgets/base",
            "_view_module_version": "1.2.0",
            "_view_name": "StyleView",
            "bar_color": null,
            "description_width": ""
          }
        },
        "e3e6bb12fcec43c7b38de93fa7320125": {
          "model_module": "@jupyter-widgets/base",
          "model_name": "LayoutModel",
          "model_module_version": "1.2.0",
          "state": {
            "_model_module": "@jupyter-widgets/base",
            "_model_module_version": "1.2.0",
            "_model_name": "LayoutModel",
            "_view_count": null,
            "_view_module": "@jupyter-widgets/base",
            "_view_module_version": "1.2.0",
            "_view_name": "LayoutView",
            "align_content": null,
            "align_items": null,
            "align_self": null,
            "border": null,
            "bottom": null,
            "display": null,
            "flex": null,
            "flex_flow": null,
            "grid_area": null,
            "grid_auto_columns": null,
            "grid_auto_flow": null,
            "grid_auto_rows": null,
            "grid_column": null,
            "grid_gap": null,
            "grid_row": null,
            "grid_template_areas": null,
            "grid_template_columns": null,
            "grid_template_rows": null,
            "height": null,
            "justify_content": null,
            "justify_items": null,
            "left": null,
            "margin": null,
            "max_height": null,
            "max_width": null,
            "min_height": null,
            "min_width": null,
            "object_fit": null,
            "object_position": null,
            "order": null,
            "overflow": null,
            "overflow_x": null,
            "overflow_y": null,
            "padding": null,
            "right": null,
            "top": null,
            "visibility": null,
            "width": null
          }
        },
        "233a7be23ab1422eac9e1c956d879d8e": {
          "model_module": "@jupyter-widgets/controls",
          "model_name": "DescriptionStyleModel",
          "model_module_version": "1.5.0",
          "state": {
            "_model_module": "@jupyter-widgets/controls",
            "_model_module_version": "1.5.0",
            "_model_name": "DescriptionStyleModel",
            "_view_count": null,
            "_view_module": "@jupyter-widgets/base",
            "_view_module_version": "1.2.0",
            "_view_name": "StyleView",
            "description_width": ""
          }
        },
        "f13ea54aacd54e1db89e19dd571ccf23": {
          "model_module": "@jupyter-widgets/controls",
          "model_name": "HBoxModel",
          "model_module_version": "1.5.0",
          "state": {
            "_dom_classes": [],
            "_model_module": "@jupyter-widgets/controls",
            "_model_module_version": "1.5.0",
            "_model_name": "HBoxModel",
            "_view_count": null,
            "_view_module": "@jupyter-widgets/controls",
            "_view_module_version": "1.5.0",
            "_view_name": "HBoxView",
            "box_style": "",
            "children": [
              "IPY_MODEL_8f99d924da8b4f9aa19ecb9b57edda17",
              "IPY_MODEL_75acc35938134a64b763c71e93d3b759",
              "IPY_MODEL_4d59fcb044b94c088bced38b528dfe9f"
            ],
            "layout": "IPY_MODEL_cae0b65f8f204bcf99326afbd7bfdfe2"
          }
        },
        "8f99d924da8b4f9aa19ecb9b57edda17": {
          "model_module": "@jupyter-widgets/controls",
          "model_name": "HTMLModel",
          "model_module_version": "1.5.0",
          "state": {
            "_dom_classes": [],
            "_model_module": "@jupyter-widgets/controls",
            "_model_module_version": "1.5.0",
            "_model_name": "HTMLModel",
            "_view_count": null,
            "_view_module": "@jupyter-widgets/controls",
            "_view_module_version": "1.5.0",
            "_view_name": "HTMLView",
            "description": "",
            "description_tooltip": null,
            "layout": "IPY_MODEL_99a8e71fa15b4952ba67ec6f74a69228",
            "placeholder": "​",
            "style": "IPY_MODEL_f8c3c5577ecd40b6826beffcdfd889bd",
            "value": "generation_config.json: 100%"
          }
        },
        "75acc35938134a64b763c71e93d3b759": {
          "model_module": "@jupyter-widgets/controls",
          "model_name": "FloatProgressModel",
          "model_module_version": "1.5.0",
          "state": {
            "_dom_classes": [],
            "_model_module": "@jupyter-widgets/controls",
            "_model_module_version": "1.5.0",
            "_model_name": "FloatProgressModel",
            "_view_count": null,
            "_view_module": "@jupyter-widgets/controls",
            "_view_module_version": "1.5.0",
            "_view_name": "ProgressView",
            "bar_style": "success",
            "description": "",
            "description_tooltip": null,
            "layout": "IPY_MODEL_0fe3875a16424c9ca493d37b313f1236",
            "max": 147,
            "min": 0,
            "orientation": "horizontal",
            "style": "IPY_MODEL_c355deb4179942dd92dd78311236ade4",
            "value": 147
          }
        },
        "4d59fcb044b94c088bced38b528dfe9f": {
          "model_module": "@jupyter-widgets/controls",
          "model_name": "HTMLModel",
          "model_module_version": "1.5.0",
          "state": {
            "_dom_classes": [],
            "_model_module": "@jupyter-widgets/controls",
            "_model_module_version": "1.5.0",
            "_model_name": "HTMLModel",
            "_view_count": null,
            "_view_module": "@jupyter-widgets/controls",
            "_view_module_version": "1.5.0",
            "_view_name": "HTMLView",
            "description": "",
            "description_tooltip": null,
            "layout": "IPY_MODEL_cce94c4408a640f4a0bc0251d767d2c4",
            "placeholder": "​",
            "style": "IPY_MODEL_df4cc428dc8b47cbba9c743624f5cb1c",
            "value": " 147/147 [00:00&lt;00:00, 1.95kB/s]"
          }
        },
        "cae0b65f8f204bcf99326afbd7bfdfe2": {
          "model_module": "@jupyter-widgets/base",
          "model_name": "LayoutModel",
          "model_module_version": "1.2.0",
          "state": {
            "_model_module": "@jupyter-widgets/base",
            "_model_module_version": "1.2.0",
            "_model_name": "LayoutModel",
            "_view_count": null,
            "_view_module": "@jupyter-widgets/base",
            "_view_module_version": "1.2.0",
            "_view_name": "LayoutView",
            "align_content": null,
            "align_items": null,
            "align_self": null,
            "border": null,
            "bottom": null,
            "display": null,
            "flex": null,
            "flex_flow": null,
            "grid_area": null,
            "grid_auto_columns": null,
            "grid_auto_flow": null,
            "grid_auto_rows": null,
            "grid_column": null,
            "grid_gap": null,
            "grid_row": null,
            "grid_template_areas": null,
            "grid_template_columns": null,
            "grid_template_rows": null,
            "height": null,
            "justify_content": null,
            "justify_items": null,
            "left": null,
            "margin": null,
            "max_height": null,
            "max_width": null,
            "min_height": null,
            "min_width": null,
            "object_fit": null,
            "object_position": null,
            "order": null,
            "overflow": null,
            "overflow_x": null,
            "overflow_y": null,
            "padding": null,
            "right": null,
            "top": null,
            "visibility": null,
            "width": null
          }
        },
        "99a8e71fa15b4952ba67ec6f74a69228": {
          "model_module": "@jupyter-widgets/base",
          "model_name": "LayoutModel",
          "model_module_version": "1.2.0",
          "state": {
            "_model_module": "@jupyter-widgets/base",
            "_model_module_version": "1.2.0",
            "_model_name": "LayoutModel",
            "_view_count": null,
            "_view_module": "@jupyter-widgets/base",
            "_view_module_version": "1.2.0",
            "_view_name": "LayoutView",
            "align_content": null,
            "align_items": null,
            "align_self": null,
            "border": null,
            "bottom": null,
            "display": null,
            "flex": null,
            "flex_flow": null,
            "grid_area": null,
            "grid_auto_columns": null,
            "grid_auto_flow": null,
            "grid_auto_rows": null,
            "grid_column": null,
            "grid_gap": null,
            "grid_row": null,
            "grid_template_areas": null,
            "grid_template_columns": null,
            "grid_template_rows": null,
            "height": null,
            "justify_content": null,
            "justify_items": null,
            "left": null,
            "margin": null,
            "max_height": null,
            "max_width": null,
            "min_height": null,
            "min_width": null,
            "object_fit": null,
            "object_position": null,
            "order": null,
            "overflow": null,
            "overflow_x": null,
            "overflow_y": null,
            "padding": null,
            "right": null,
            "top": null,
            "visibility": null,
            "width": null
          }
        },
        "f8c3c5577ecd40b6826beffcdfd889bd": {
          "model_module": "@jupyter-widgets/controls",
          "model_name": "DescriptionStyleModel",
          "model_module_version": "1.5.0",
          "state": {
            "_model_module": "@jupyter-widgets/controls",
            "_model_module_version": "1.5.0",
            "_model_name": "DescriptionStyleModel",
            "_view_count": null,
            "_view_module": "@jupyter-widgets/base",
            "_view_module_version": "1.2.0",
            "_view_name": "StyleView",
            "description_width": ""
          }
        },
        "0fe3875a16424c9ca493d37b313f1236": {
          "model_module": "@jupyter-widgets/base",
          "model_name": "LayoutModel",
          "model_module_version": "1.2.0",
          "state": {
            "_model_module": "@jupyter-widgets/base",
            "_model_module_version": "1.2.0",
            "_model_name": "LayoutModel",
            "_view_count": null,
            "_view_module": "@jupyter-widgets/base",
            "_view_module_version": "1.2.0",
            "_view_name": "LayoutView",
            "align_content": null,
            "align_items": null,
            "align_self": null,
            "border": null,
            "bottom": null,
            "display": null,
            "flex": null,
            "flex_flow": null,
            "grid_area": null,
            "grid_auto_columns": null,
            "grid_auto_flow": null,
            "grid_auto_rows": null,
            "grid_column": null,
            "grid_gap": null,
            "grid_row": null,
            "grid_template_areas": null,
            "grid_template_columns": null,
            "grid_template_rows": null,
            "height": null,
            "justify_content": null,
            "justify_items": null,
            "left": null,
            "margin": null,
            "max_height": null,
            "max_width": null,
            "min_height": null,
            "min_width": null,
            "object_fit": null,
            "object_position": null,
            "order": null,
            "overflow": null,
            "overflow_x": null,
            "overflow_y": null,
            "padding": null,
            "right": null,
            "top": null,
            "visibility": null,
            "width": null
          }
        },
        "c355deb4179942dd92dd78311236ade4": {
          "model_module": "@jupyter-widgets/controls",
          "model_name": "ProgressStyleModel",
          "model_module_version": "1.5.0",
          "state": {
            "_model_module": "@jupyter-widgets/controls",
            "_model_module_version": "1.5.0",
            "_model_name": "ProgressStyleModel",
            "_view_count": null,
            "_view_module": "@jupyter-widgets/base",
            "_view_module_version": "1.2.0",
            "_view_name": "StyleView",
            "bar_color": null,
            "description_width": ""
          }
        },
        "cce94c4408a640f4a0bc0251d767d2c4": {
          "model_module": "@jupyter-widgets/base",
          "model_name": "LayoutModel",
          "model_module_version": "1.2.0",
          "state": {
            "_model_module": "@jupyter-widgets/base",
            "_model_module_version": "1.2.0",
            "_model_name": "LayoutModel",
            "_view_count": null,
            "_view_module": "@jupyter-widgets/base",
            "_view_module_version": "1.2.0",
            "_view_name": "LayoutView",
            "align_content": null,
            "align_items": null,
            "align_self": null,
            "border": null,
            "bottom": null,
            "display": null,
            "flex": null,
            "flex_flow": null,
            "grid_area": null,
            "grid_auto_columns": null,
            "grid_auto_flow": null,
            "grid_auto_rows": null,
            "grid_column": null,
            "grid_gap": null,
            "grid_row": null,
            "grid_template_areas": null,
            "grid_template_columns": null,
            "grid_template_rows": null,
            "height": null,
            "justify_content": null,
            "justify_items": null,
            "left": null,
            "margin": null,
            "max_height": null,
            "max_width": null,
            "min_height": null,
            "min_width": null,
            "object_fit": null,
            "object_position": null,
            "order": null,
            "overflow": null,
            "overflow_x": null,
            "overflow_y": null,
            "padding": null,
            "right": null,
            "top": null,
            "visibility": null,
            "width": null
          }
        },
        "df4cc428dc8b47cbba9c743624f5cb1c": {
          "model_module": "@jupyter-widgets/controls",
          "model_name": "DescriptionStyleModel",
          "model_module_version": "1.5.0",
          "state": {
            "_model_module": "@jupyter-widgets/controls",
            "_model_module_version": "1.5.0",
            "_model_name": "DescriptionStyleModel",
            "_view_count": null,
            "_view_module": "@jupyter-widgets/base",
            "_view_module_version": "1.2.0",
            "_view_name": "StyleView",
            "description_width": ""
          }
        }
      }
    }
  },
  "nbformat": 4,
  "nbformat_minor": 0
}