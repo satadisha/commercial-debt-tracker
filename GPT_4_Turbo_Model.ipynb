{
  "nbformat": 4,
  "nbformat_minor": 0,
  "metadata": {
    "colab": {
      "provenance": []
    },
    "kernelspec": {
      "name": "python3",
      "display_name": "Python 3"
    },
    "language_info": {
      "name": "python"
    }
  },
  "cells": [
    {
      "cell_type": "code",
      "execution_count": null,
      "metadata": {
        "colab": {
          "base_uri": "https://localhost:8080/"
        },
        "id": "0wwL_QI329fZ",
        "outputId": "dd1a60c7-e777-4dc0-d567-7ab12718a888"
      },
      "outputs": [
        {
          "output_type": "stream",
          "name": "stdout",
          "text": [
            "Requirement already satisfied: openai in /usr/local/lib/python3.11/dist-packages (1.97.0)\n",
            "Requirement already satisfied: anyio<5,>=3.5.0 in /usr/local/lib/python3.11/dist-packages (from openai) (4.9.0)\n",
            "Requirement already satisfied: distro<2,>=1.7.0 in /usr/local/lib/python3.11/dist-packages (from openai) (1.9.0)\n",
            "Requirement already satisfied: httpx<1,>=0.23.0 in /usr/local/lib/python3.11/dist-packages (from openai) (0.28.1)\n",
            "Requirement already satisfied: jiter<1,>=0.4.0 in /usr/local/lib/python3.11/dist-packages (from openai) (0.10.0)\n",
            "Requirement already satisfied: pydantic<3,>=1.9.0 in /usr/local/lib/python3.11/dist-packages (from openai) (2.11.7)\n",
            "Requirement already satisfied: sniffio in /usr/local/lib/python3.11/dist-packages (from openai) (1.3.1)\n",
            "Requirement already satisfied: tqdm>4 in /usr/local/lib/python3.11/dist-packages (from openai) (4.67.1)\n",
            "Requirement already satisfied: typing-extensions<5,>=4.11 in /usr/local/lib/python3.11/dist-packages (from openai) (4.14.1)\n",
            "Requirement already satisfied: idna>=2.8 in /usr/local/lib/python3.11/dist-packages (from anyio<5,>=3.5.0->openai) (3.10)\n",
            "Requirement already satisfied: certifi in /usr/local/lib/python3.11/dist-packages (from httpx<1,>=0.23.0->openai) (2025.7.14)\n",
            "Requirement already satisfied: httpcore==1.* in /usr/local/lib/python3.11/dist-packages (from httpx<1,>=0.23.0->openai) (1.0.9)\n",
            "Requirement already satisfied: h11>=0.16 in /usr/local/lib/python3.11/dist-packages (from httpcore==1.*->httpx<1,>=0.23.0->openai) (0.16.0)\n",
            "Requirement already satisfied: annotated-types>=0.6.0 in /usr/local/lib/python3.11/dist-packages (from pydantic<3,>=1.9.0->openai) (0.7.0)\n",
            "Requirement already satisfied: pydantic-core==2.33.2 in /usr/local/lib/python3.11/dist-packages (from pydantic<3,>=1.9.0->openai) (2.33.2)\n",
            "Requirement already satisfied: typing-inspection>=0.4.0 in /usr/local/lib/python3.11/dist-packages (from pydantic<3,>=1.9.0->openai) (0.4.1)\n",
            "Mounted at /content/gdrive\n"
          ]
        }
      ],
      "source": [
        "!pip install openai\n",
        "\n",
        "import pandas as pd\n",
        "import numpy as np\n",
        "from google.colab import drive\n",
        "drive.mount('/content/gdrive')\n",
        "from openai import OpenAI\n",
        "from google.colab import userdata\n",
        "import os"
      ]
    },
    {
      "cell_type": "code",
      "source": [
        "# Set the API key from Colab's user data secrets\n",
        "os.environ[\"OPENAI_API_KEY\"] = userdata.get('OPENAI_API_KEY')\n",
        "\n",
        "client = OpenAI()\n",
        "\n",
        "client.batches.create(\n",
        "  input_file_id=\"file-abc123\",\n",
        "  endpoint=\"/v1/chat/completions\",\n",
        "  completion_window=\"24h\"\n",
        ")"
      ],
      "metadata": {
        "colab": {
          "base_uri": "https://localhost:8080/"
        },
        "id": "upUIVjcd3GX8",
        "outputId": "30693be6-4188-48b7-b5a3-96cdf4076e3d"
      },
      "execution_count": null,
      "outputs": [
        {
          "output_type": "execute_result",
          "data": {
            "text/plain": [
              "Batch(id='batch_687fb091873c81908e7564086d37261b', completion_window='24h', created_at=1753198737, endpoint='/v1/chat/completions', input_file_id='file-abc123', object='batch', status='validating', cancelled_at=None, cancelling_at=None, completed_at=None, error_file_id=None, errors=None, expired_at=None, expires_at=1753285137, failed_at=None, finalizing_at=None, in_progress_at=None, metadata=None, output_file_id=None, request_counts=BatchRequestCounts(completed=0, failed=0, total=0))"
            ]
          },
          "metadata": {},
          "execution_count": 3
        }
      ]
    },
    {
      "cell_type": "markdown",
      "source": [
        "## **undersampled** **data**"
      ],
      "metadata": {
        "id": "p7mZdj8eIV7x"
      }
    },
    {
      "cell_type": "code",
      "source": [
        "# this data is UNDERSAMPLED\n",
        "\n",
        "new = pd.read_csv('/content/gdrive/MyDrive/Group 1: DSSI Summer 2025/Data/cleaned_banktrack_annotated.csv')\n",
        "# Use Coral's balanced dataset\n",
        "from datasets import Dataset, DatasetDict\n",
        "\n",
        "# Convert pandas DataFrame to Hugging Face DatasetDict\n",
        "dataset = DatasetDict({\n",
        "    'train': Dataset.from_pandas(new)\n",
        "})\n",
        "\n",
        "def undersample_majority_class(dataset_dict, label_column):\n",
        "    # Extract train split\n",
        "    np.random.seed(42)\n",
        "    train_data = dataset_dict[\"train\"]\n",
        "    labels = np.array(train_data[label_column])\n",
        "    # Identify majority and minority classes\n",
        "    class_counts = np.bincount(labels)\n",
        "    minority_class = np.argmin(class_counts)\n",
        "    minority_count = np.min(class_counts)\n",
        "    # Get indices for both classes\n",
        "    minority_indices = np.where(labels == minority_class)[0]\n",
        "    majority_indices = np.where(labels != minority_class)[0]\n",
        "    # Randomly select subset of majority class to match minority count\n",
        "    undersampled_majority_indices = np.random.choice(\n",
        "        majority_indices,\n",
        "        size=minority_count,  # Match minority count\n",
        "        replace=False  # No duplicates\n",
        "    )\n",
        "    # Combine selected majority + all minority samples\n",
        "    new_indices = np.concatenate([undersampled_majority_indices, minority_indices])\n",
        "    # Create new balanced dataset\n",
        "    balanced_train = train_data.select(new_indices)\n",
        "    return DatasetDict({\n",
        "        \"train\": balanced_train,\n",
        "        # \"validation\": dataset_dict[\"validation\"]  # Validation remains unchanged\n",
        "    })\n",
        "# Usage\n",
        "dataset = undersample_majority_class(\n",
        "    dataset,\n",
        "    label_column=\"contains_debt_instrument_information\"\n",
        ")\n",
        "\n",
        "# Verify\n",
        "print(\"Original counts:\", np.bincount(dataset[\"train\"][\"contains_debt_instrument_information\"]))\n",
        "print(\"Balanced counts:\", np.bincount(dataset[\"train\"][\"contains_debt_instrument_information\"]))\n",
        "new_undersampled = dataset[\"train\"].to_pandas()"
      ],
      "metadata": {
        "colab": {
          "base_uri": "https://localhost:8080/"
        },
        "id": "DW_04FeK37Q6",
        "outputId": "76e8ca09-ef32-4bf8-8863-bb2b4dae7a85"
      },
      "execution_count": null,
      "outputs": [
        {
          "output_type": "stream",
          "name": "stdout",
          "text": [
            "Original counts: [55 55]\n",
            "Balanced counts: [55 55]\n"
          ]
        }
      ]
    },
    {
      "cell_type": "code",
      "source": [
        "#split dataset to training and validation\n",
        "split_dataset = dataset[\"train\"].train_test_split(\n",
        "    test_size=0.2,      # 20% for validation\n",
        "    seed=42,            # For reproducibility\n",
        "    shuffle=True        # Shuffle before splitting\n",
        ")\n",
        "\n",
        "# Create the final DatasetDict with both splits\n",
        "dataset = DatasetDict({\n",
        "    \"train\": split_dataset[\"train\"],          # 80% (133 rows)\n",
        "    \"validation\": split_dataset[\"test\"]       # 20% (33 rows)\n",
        "})\n",
        "dataset"
      ],
      "metadata": {
        "colab": {
          "base_uri": "https://localhost:8080/"
        },
        "id": "u3EmQlXg7UCm",
        "outputId": "fcc48b7c-8278-48db-daa9-455324d1b400"
      },
      "execution_count": null,
      "outputs": [
        {
          "output_type": "execute_result",
          "data": {
            "text/plain": [
              "DatasetDict({\n",
              "    train: Dataset({\n",
              "        features: ['index', 'text', 'company', 'cik', 'item', 'contains_debt_instrument_information'],\n",
              "        num_rows: 140\n",
              "    })\n",
              "    validation: Dataset({\n",
              "        features: ['index', 'text', 'company', 'cik', 'item', 'contains_debt_instrument_information'],\n",
              "        num_rows: 36\n",
              "    })\n",
              "})"
            ]
          },
          "metadata": {},
          "execution_count": 9
        }
      ]
    },
    {
      "cell_type": "code",
      "source": [
        "import openai\n",
        "def classify_batch(batch_texts, start_idx=1):\n",
        "    few_shot_prompt = \"\"\"A Form 8-K is a public document that publicly traded companies must file with the Securities and Exchange Commission (SEC) to disclose significant, unscheduled events or corporate changes. These events are considered material, meaning they could impact the company's financial performance or investor decisions.\n",
        "        Debt financing is when a company borrows money (or is given the right to borrow money) from a collection of lenders. This is primarily done through bonds, notes, loans, credit facilities. Key words include: Term Loan Agreement, Amended and Restated Credit Agreement, Revolving Credit Agreement, Junior Subordinated Notes, Bond, Debt Settlement Agreement.\n",
        "        Classification is 'True' if the item contains details about a debt instrument. If the item just references a debt instrument, this column should still be false. There must be some details outside of the name (such as the start date, the amount, the lenders, etc.).\n",
        "        I want you to think like a financial analyst reviewing SEC Form 8-K filings to determine whether they contain information related to commercial debt. Your response should classify each text with a “True” or “False” label. Do not explain.\n",
        "\n",
        "\n",
        "Examples:\n",
        "1. \"    Alpha Holding Company, LLC Disposition  On January 19, 2017, Concho Resources Inc. (the  Company ), through its wholly owned subsidiary, COG Operating LLC  ( Seller ), entered into a definitive securities purchase agreement (the  Purchase Agreement ) with Plains Pipeline, L.P. ( Purchaser ) to sell 100% of the issued and  outstanding Class A Units of Alpha Holding Company, LLC ( AHC ) (the  Disposition ), for aggregate consideration of approximately $800 million, subject to customary purchase price  adjustments, after closing of the transactions contemplated by the Class B Purchase Agreement (defined below) and repayment of the outstanding borrowings under the credit facility of Alpha Crude Connector, LLC, a wholly owned subsidiary of AHC.  Contemporaneously with the execution of the Purchase Agreement, Purchaser entered into a definitive purchase agreement with Frontier Midstream Solutions, LLC ( Frontier ) to purchase 100% of the issued and outstanding  Class B Units of AHC (the  Class  B Purchase Agreement ). Closing under the Purchase Agreement and the Class B Purchase Agreement is anticipated to occur contemporaneously during the  first half of 2017, subject to customary closing conditions, as further described below. Seller retains the right under the Limited Liability Company Agreement of AHC, subject to certain conditions, to purchase or cause AHC to purchase all of the  Class B Units of AHC prior to closing under the Purchase Agreement and the Class B Purchase Agreement (an  Option Exercise ). In the event of an Option Exercise, Seller will sell all of the Class A Units and  the Class B Units of AHC to Purchaser for an aggregate purchase price of approximately $1.215 billion. The Company expects the net proceeds to Seller in the event of an Option Exercise and sale to Purchaser of all of the Class A Units and  the Class B Units of AHC to be substantially similar to what Seller would otherwise receive under the Purchase Agreement in the absence of an Option Exercise.  Each partys obligation to consummate the Disposition is conditioned upon, among other things, (i) confirmation of the  counterparties representations and warranties as of the closing, (ii) the counterparties performance, in all material respects, of all covenants, (iii) the receipt of all required approvals (including approval under the  Hart-Scott-Rodino Antitrust Improvements Act of 1976), (iv) the absence of legal matters prohibiting the Disposition, and (v) the satisfaction or waiver by Frontier or Purchaser, as applicable, of certain conditions precedent to the  consummation of the transactions contemplated by the Class B Purchase Agreement.  \" → False\n",
        "2. \"    As previously disclosed, between December 14, 2022 and December 16, 2022, IronNet, Inc. (the \" Company \") issued and sold secured promissory notes in an aggregate principal amount of $6.9 million (the \" Initial Notes \") to a total of eight lenders, and on December 30, 2022, the Company issued a secured promissory note in the principal amount of $2.0 million (the \" First   C5 Note \") to an entity affiliated with C5 Capital Limited (\" C5 \"), a beneficial owner of more than 5% of the Company's outstanding common stock.    In connection with the issuance of the First C5 Note, the Company and the holders of the Initial Notes agreed to amend and restate the Initial Notes to be substantially in the form to be issued to C5, which form was attached as an exhibit to the Current Report on Form  8-K  filed on January 4, 2023 (the \" Restated Initial Notes \"). This amendment and restatement occurred on January 11, 2023. The Restated Initial Notes continue to bear interest at a rate of 13.8% per annum from the respective dates of the Initial Notes, and the Restated Initial Notes are payable at scheduled maturity on June 30, 2023.    Upon entering into the First C5 Note, the Company and C5 also agreed to amend and restate the First C5 Note. Subsequently, the parties agreed that the amended and restated First C5 Note and any future notes to be issued in connection with additional bridge financing by C5 would be convertible into shares of the Company's common stock. On January 11, 2023, the Company issued to C5 an amended and restated convertible promissory note in the principal amount of $2.0 million (the \" Restated C5 Note \"). On January 12, 2023, the Company issued to C5 a new secured convertible promissory note in the principal amount of $3.0 million (the \" Second C5 Note \"). The Restated C5 Note and the Second C5 Note (collectively, the \" C5 Notes \"), in the aggregate principal amount of $5.0 million, are in substantially the form of secured convertible promissory note attached to this report as Exhibit 99.1.    The C5 Notes bear interest at a rate of 13.8% per annum from the date of issuance (or in the case of the Restated C5 Note, from the date of the First C5 Note), and all such notes are payable at scheduled maturity on June 30, 2023, subject to acceleration in certain circumstances.    The Company's obligations under the Restated Initial Notes and the C5 Notes are secured by substantially all of the assets of the Company, excluding the Company's intellectual property. C5 and each of the holders of the Restated Initial Notes have executed an Amended and Restated Security Agreement in the form attached as an exhibit to the Current Report on Form  8-K  filed on January 4, 2023.    The C5 Notes provide C5 with the right, at any time on or after the date that is five calendar days prior to maturity, to convert any portion of the principal amount of the C5 Notes, together with any accrued and unpaid interest and any other unpaid amounts, into shares of the Company's common stock, par value $0.0001 per share (the \" Common Stock \"), at a conversion price of $2.00 per share. In the event that any shares of Common Stock are issued upon conversion of the C5 Notes, the Company has agreed to grant specified registration rights to C5.    The foregoing description of the C5 Notes does not purport to be complete and is subject to, and is qualified in its entirety by reference to, the form of C5 Note filed herewith as Exhibit 99.1 and incorporated herein by reference.  \" → True\n",
        "3. \"    Between December 14, 2022 and December 16, 2022, IronNet, Inc. (the \" Company \") issued and sold secured promissory notes in an aggregate principal amount of $6.9 million (the \" Notes \") to a total of eight lenders. The lenders included GEN Keith B. Alexander (Ret.), the founder, Chief Executive Officer and Chairman of the Board of Directors of the Company. The Notes were also issued to lenders that include VADM John M. McConnell (Ret.), Hon. Michael J. Rogers, Theodore E. Schlein and VADM Jan E. Tighe (Ret.), each of whom is a director of the Company, as well as funds affiliated with Forgepoint Capital (the \" Forgepoint Funds \"). Donald R. Dixon, a member of the Company's board of directors, is an affiliate of ForgePoint Capital, and the ForgePoint Funds are also beneficial owners of greater than 5% of the Company's common stock.    Each Note has a scheduled maturity date of one year from the date of issuance, except that the Note issued to one lender that is not, and is not affiliated with, a director of the Company has a scheduled maturity date of six months from the date of issuance. The Notes bear interest at a rate of 13.8% per annum, payable at maturity. The Company may prepay the Notes at any time without premium or penalty, and the Notes do not restrict the incurrence of future indebtedness by the Company.    In the event that the Company fails to timely pay amounts due under the Notes or the Company materially defaults in its performance of any other covenant under the Notes or the Security Agreement (as defined below), which default is not cured within 30 days after written notice thereof, then at the option of the lenders, upon the written consent of lenders representing a majority of the outstanding and unpaid principal under the Notes, all unpaid principal, accrued interest and other amounts owing under the Notes shall be immediately due and payable.    In the event that the Company files any petition or action for relief under any bankruptcy, reorganization, insolvency or moratorium law or any other law for the relief of or relating to debtors, or makes any assignment for the benefit of creditors or takes any corporate action in furtherance thereof, or if an involuntary petition is filed against the Company (unless such petition is dismissed or discharged within 60 days) under any bankruptcy statute, or a custodian, receiver, trustee, assignee for the benefit of creditors is appointed to take possession, custody or control of any property of the Company, then all unpaid principal, accrued interest and other amounts owing under the Notes will accelerate and automatically become immediately due and payable.    The Notes are secured by substantially all of the assets of the Company, excluding the Company's intellectual property. The Company entered into a Security Agreement (the \" Security Agreements \") with each of the lenders.    The forgoing descriptions of the Notes and the Security Agreements do not purport to be complete and are subject to, and are qualified in their entirety by reference to, the form of Note and form of Security Agreement filed hereto as Exhibits 4.1 and 10.1, respectively, and incorporated herein by reference.  \" → True\n",
        "4. \"    Credit Agreement  In connection with the completion of the Merger, on August 4, 2016, Higher One, Inc. ( Higher One ), a Delaware corporation and direct  wholly owned subsidiary of the Company, terminated the existing credit agreement, dated as of October 16, 2012 (as amended, the  Credit Agreement ), among Higher One, as borrower, the Company, Higher One Machines, Inc.,  Higher One Real Estate, Inc. and Higher One Real Estate SP, LLC, as guarantors, Bank of America, N.A. as administrative agent, swingline lender and letter of credit issuer, and the other lenders party thereto, and all commitments thereunder. At the  time of such termination, there were no outstanding revolving loans or outstanding letters of credit under the Credit Agreement. In connection with such termination, all liens on the assets of Higher One, the Company and Higher Ones  subsidiaries securing such facility, together with such subsidiary or Company guarantees, were released and terminated.\" → True\n",
        "\n",
        "Now classify the following:\n",
        "   \"\"\"\n",
        "# building a numbered list of sentences to append to prompt so model can process a batch of inputs at once\n",
        "# with clear numbering and formatting for each input example\n",
        "    numbered_batch = \"\"\n",
        "    for i, sentence in enumerate(batch_texts, start=start_idx):\n",
        "        numbered_batch += f\"{i}. \\\"{sentence}\\\" →\\n\"\n",
        "\n",
        "    final_prompt = few_shot_prompt + numbered_batch\n",
        "\n",
        "    response = client.chat.completions.create( # maybe use different function rather than chat completion\n",
        "        model=\"gpt-4-turbo\",\n",
        "        messages=[{\"role\": \"user\", \"content\": final_prompt}],\n",
        "        temperature=0\n",
        "    )\n",
        "\n",
        "    return response.choices[0].message.content\n",
        "\n",
        "results = []\n",
        "batch_size = 15 # Process 5 rows at a time"
      ],
      "metadata": {
        "id": "SgBXZEvMIqgZ"
      },
      "execution_count": null,
      "outputs": []
    },
    {
      "cell_type": "code",
      "source": [
        "# converting the text data into a list, looping through it in batches, classifying each batch,\n",
        "# printing the output, and collecting all classification results in one list\n",
        "texts = new_undersampled['text'].astype(str).tolist()\n",
        "\n",
        "results = [] # Initialize the results list before the loop\n",
        "\n",
        "for i in range(0, len(texts), batch_size):\n",
        "    batch = texts[i:i+batch_size]\n",
        "    output = classify_batch(batch, start_idx=i+1)\n",
        "    #print(f\"Batch {i//batch_size + 1} output:\")\n",
        "    print(output)\n",
        "    # Extract just the True/False from each line of the output\n",
        "    batch_results = [r.split('. ')[1] for r in output.strip().split('\\n')]\n",
        "    results.extend(batch_results)\n",
        "\n",
        "print(f\"Total results collected: {len(results)}\")"
      ],
      "metadata": {
        "id": "f_IBFdj2I3Xu"
      },
      "execution_count": null,
      "outputs": []
    },
    {
      "cell_type": "code",
      "source": [
        "print(new_undersampled.columns)"
      ],
      "metadata": {
        "id": "nQXV2hXII7O5"
      },
      "execution_count": null,
      "outputs": []
    },
    {
      "cell_type": "code",
      "source": [
        "from sklearn.metrics import accuracy_score, precision_score, recall_score, f1_score\n",
        "\n",
        "# Convert predictions (from model output strings) to booleans\n",
        "preds = [r.strip().lower() == 'true' for r in results]\n",
        "\n",
        "# Get true labels and convert to booleans if needed\n",
        "true = [str(label).strip().lower() == 'true' for label in new_undersampled['contains_debt_instrument_information']]\n",
        "\n",
        "# Compute classification metrics\n",
        "accuracy = accuracy_score(true, preds)\n",
        "precision = precision_score(true, preds)\n",
        "recall = recall_score(true, preds)\n",
        "f1 = f1_score(true, preds)\n",
        "\n",
        "print(\"Accuracy:\", round(accuracy, 4))\n",
        "print(\"Precision:\", round(precision, 4))\n",
        "print(\"Recall:\", round(recall, 4))\n",
        "print(\"F1 Score:\", round(f1, 4))"
      ],
      "metadata": {
        "id": "M_qGwx7hJnnx"
      },
      "execution_count": null,
      "outputs": []
    },
    {
      "cell_type": "code",
      "source": [
        "from sklearn.metrics import f1_score,classification_report\n",
        "\n",
        "# Convert predictions (from model output strings) to booleans\n",
        "preds = [r.strip().lower() == 'true' for r in results]\n",
        "\n",
        "# Get true labels and convert to booleans if needed\n",
        "true = [str(label).strip().lower() == 'true' for label in new_undersampled['contains_debt_instrument_information']]\n",
        "\n",
        "# Compute classification metrics\n",
        "accuracy = accuracy_score(true, preds)\n",
        "precision = precision_score(true, preds)\n",
        "recall = recall_score(true, preds)\n",
        "f1 = f1_score(true, preds)\n",
        "\n",
        "\n",
        "\n",
        "f1 = f1_score(true, preds)\n",
        "print(f\"F1 Score: {f1:.3f}\")\n",
        "\n",
        "# (Optional) See full breakdown: precision, recall, etc.\n",
        "print(\"\\nClassification Report:\")\n",
        "print(classification_report(true, preds))\n",
        "\n"
      ],
      "metadata": {
        "id": "ucLTiVIAJy_U"
      },
      "execution_count": null,
      "outputs": []
    },
    {
      "cell_type": "code",
      "source": [
        "import openai\n",
        "def classify_batch(batch_texts, start_idx=1):\n",
        "    few_shot_prompt = \"\"\"You are a financial document classifier. Your task is to determine whether a given filing text contains **commercial debt-related information**. Respond with: \\\"True\\\" if the text includes any mention of **debt issuance, credit facilities, loans, promissory notes, or other financing agreements** (e.g., secured/unsecured notes, debt restructuring, bridge financing, convertible debt, etc.) and \\\"False\\\" if the text **does not** discuss any such debt-related topics. Be on the lookout for financial terms and phrases such as: \\\"credit agreement,\\\" \\\"debt,\\\" \\\"principal amount,\\\" \\\"secured note,\\\" \\\"loan facility,\\\" \\\"bridge financing,\\\" \\\"convertible promissory note,\\\" \\\"interest rate,\\\" \\\"maturity,\\\" \\\"collateral,\\\" \\\"security agreement,\\\" etc.\n",
        "\n",
        "\n",
        "Examples:\n",
        "\"Text: Concho Resources agreed to sell Alpha Holding Company for ~$800M, contingent on the sale of Class B units and repayment of Alpha Crude Connector’s credit facility. A clause allows purchase of Class B units prior to sale, increasing total price to ~$1.215B. Conditions include regulatory and legal approvals.\"\n",
        "\"Classification: False\"\n",
        "\n",
        "\"Text: IronNet issued secured promissory notes totaling $6.9M and $2.0M in December 2022, later amended and restated into convertible notes. Further $3.0M in secured convertible notes were issued in January 2023. All notes bear 13.8% interest, are secured (excluding IP), and are convertible into common stock.\"\n",
        "\"Classification: True\"\n",
        "\n",
        "\"Text: IronNet issued $6.9M in secured promissory notes to board members and investors. Notes mature in 6–12 months with 13.8% interest. They are secured by company assets (excluding IP) and subject to acceleration upon default or bankruptcy.\"\n",
        "\"Classification: True\"\n",
        "\n",
        "\"Text: Higher One, a subsidiary of the Company, terminated its credit agreement with Bank of America upon completion of a merger. There were no outstanding loans or credit lines at termination. All related liens and guarantees were released.\"\n",
        "\"Classification: True\"\n",
        "\n",
        "\"Text: Company and C5 agreed to an exclusivity period for a potential acquisition, contingent on C5 providing bridge financing of $2M, with extensions tied to additional financing up to $3.5M.\"\n",
        "\"Classification: False\"\n",
        "\n",
        "\"Text: Fuse Enterprises agreed to a private placement sale of ~19.6M shares for ~$6.87M to Landbond Home Limited.\"\n",
        "\"Classification: False\"\n",
        "\n",
        "\"Text: Registrant filed exhibits related to the public issuance of various asset-backed notes by CNH Equipment Trust, as described in official prospectus documents.\"\n",
        "\"Classification: False\"\n",
        "\n",
        "Now classify the following:\n",
        "   \"\"\"\n",
        "# building a numbered list of sentences to append to prompt so model can process a batch of inputs at once\n",
        "# with clear numbering and formatting for each input example\n",
        "    numbered_batch = \"\"\n",
        "    for i, sentence in enumerate(batch_texts, start=start_idx):\n",
        "        numbered_batch += f\"{i}. \\\"{sentence}\\\" →\\n\"\n",
        "\n",
        "    final_prompt = few_shot_prompt + numbered_batch\n",
        "\n",
        "    response = client.chat.completions.create( # maybe use different function rather than chat completion\n",
        "        model=\"gpt-4-turbo\",\n",
        "        messages=[{\"role\": \"user\", \"content\": final_prompt}],\n",
        "        temperature=0\n",
        "    )\n",
        "\n",
        "    return response.choices[0].message.content\n",
        "\n",
        "results = []\n",
        "batch_size = 5 #Process 5 rows at a time\n"
      ],
      "metadata": {
        "id": "XlwaV79kOXMK"
      },
      "execution_count": null,
      "outputs": []
    },
    {
      "cell_type": "markdown",
      "source": [
        "**This is also undersampled but dif prompt**"
      ],
      "metadata": {
        "id": "96lqorbMVQ2r"
      }
    },
    {
      "cell_type": "code",
      "source": [
        "import openai\n",
        "\n",
        "def classify_batch(batch_texts, start_idx=1):\n",
        "    few_shot_prompt = \"\"\"You are a financial document classifier. Your task is to determine whether a given filing text contains **commercial debt-related information**. Respond with: \\\"True\\\" if the text includes any mention of **debt issuance, credit facilities, loans, promissory notes, or other financing agreements** (e.g., secured/unsecured notes, debt restructuring, bridge financing, convertible debt, etc.) and \\\"False\\\" if the text **does not** discuss any such debt-related topics. Be on the lookout for financial terms and phrases such as: \\\"credit agreement,\\\" \\\"debt,\\\" \\\"principal amount,\\\" \\\"secured note,\\\" \\\"loan facility,\\\" \\\"bridge financing,\\\" \\\"convertible promissory note,\\\" \\\"interest rate,\\\" \\\"maturity,\\\" \\\"collateral,\\\" \\\"security agreement,\\\" etc.\n",
        "\n",
        "Examples:\n",
        "\"Text: Concho Resources agreed to sell Alpha Holding Company for ~$800M, contingent on the sale of Class B units and repayment of Alpha Crude Connector's credit facility. A clause allows purchase of Class B units prior to sale, increasing total price to ~$1.215B. Conditions include regulatory and legal approvals.\"\n",
        "\"Classification: False\"\n",
        "\n",
        "\"Text: IronNet issued secured promissory notes totaling $6.9M and $2.0M in December 2022, later amended and restated into convertible notes. Further $3.0M in secured convertible notes were issued in January 2023. All notes bear 13.8% interest, are secured (excluding IP), and are convertible into common stock.\"\n",
        "\"Classification: True\"\n",
        "\n",
        "\"Text: IronNet issued $6.9M in secured promissory notes to board members and investors. Notes mature in 6–12 months with 13.8% interest. They are secured by company assets (excluding IP) and subject to acceleration upon default or bankruptcy.\"\n",
        "\"Classification: True\"\n",
        "\n",
        "\"Text: Company and C5 agreed to an exclusivity period for a potential acquisition, contingent on C5 providing bridge financing of $2M, with extensions tied to additional financing up to $3.5M.\"\n",
        "\"Classification: False\"\n",
        "\n",
        "\n",
        "Now classify each text with just 'True' or 'False':\n",
        "\n",
        "\"\"\"\n",
        "\n",
        "    # Simpler formatting without complex numbering\n",
        "    numbered_batch = \"\"\n",
        "    for sentence in batch_texts:\n",
        "        numbered_batch += f\"Text: \\\"{sentence}\\\"\\nClassification: \\n\\n\"\n",
        "\n",
        "    final_prompt = few_shot_prompt + numbered_batch\n",
        "\n",
        "    response = client.chat.completions.create(\n",
        "        model=\"gpt-4-turbo\",\n",
        "        messages=[{\"role\": \"user\", \"content\": final_prompt}],\n",
        "        temperature=0\n",
        "    )\n",
        "\n",
        "    return response.choices[0].message.content\n",
        "\n",
        "# Main processing code\n",
        "results = []\n",
        "batch_size = 1  # Process 5 rows at a time\n",
        "\n",
        "# Converting the text data into a list, looping through it in batches\n",
        "texts = new_undersampled['text'].astype(str).tolist()\n",
        "\n",
        "results = []  # Initialize the results list before the loop\n",
        "\n",
        "for i in range(0, len(texts), batch_size):\n",
        "    batch = texts[i:i+batch_size]\n",
        "    output = classify_batch(batch, start_idx=i+1)\n",
        "    print(output)\n",
        "\n",
        "    # Simple parsing that handles messy output\n",
        "    batch_results = []\n",
        "    lines = [line.strip() for line in output.strip().split('\\n') if line.strip()]\n",
        "\n",
        "    for line in lines:\n",
        "        if 'True' in line:\n",
        "            batch_results.append('True')\n",
        "        elif 'False' in line:\n",
        "            batch_results.append('False')\n",
        "    results.extend(batch_results)\n",
        "\n",
        "print(f\"Total results collected: {len(results)}\")"
      ],
      "metadata": {
        "colab": {
          "base_uri": "https://localhost:8080/",
          "height": 436
        },
        "id": "_40X-CrtRznY",
        "outputId": "c7565473-0b00-4c45-e105-53a3a359dad0"
      },
      "execution_count": null,
      "outputs": [
        {
          "output_type": "error",
          "ename": "RateLimitError",
          "evalue": "Error code: 429 - {'error': {'message': 'You exceeded your current quota, please check your plan and billing details. For more information on this error, read the docs: https://platform.openai.com/docs/guides/error-codes/api-errors.', 'type': 'insufficient_quota', 'param': None, 'code': 'insufficient_quota'}}",
          "traceback": [
            "\u001b[0;31m---------------------------------------------------------------------------\u001b[0m",
            "\u001b[0;31mRateLimitError\u001b[0m                            Traceback (most recent call last)",
            "\u001b[0;32m/tmp/ipython-input-12-1911207573.py\u001b[0m in \u001b[0;36m<cell line: 0>\u001b[0;34m()\u001b[0m\n\u001b[1;32m     48\u001b[0m \u001b[0;32mfor\u001b[0m \u001b[0mi\u001b[0m \u001b[0;32min\u001b[0m \u001b[0mrange\u001b[0m\u001b[0;34m(\u001b[0m\u001b[0;36m0\u001b[0m\u001b[0;34m,\u001b[0m \u001b[0mlen\u001b[0m\u001b[0;34m(\u001b[0m\u001b[0mtexts\u001b[0m\u001b[0;34m)\u001b[0m\u001b[0;34m,\u001b[0m \u001b[0mbatch_size\u001b[0m\u001b[0;34m)\u001b[0m\u001b[0;34m:\u001b[0m\u001b[0;34m\u001b[0m\u001b[0;34m\u001b[0m\u001b[0m\n\u001b[1;32m     49\u001b[0m     \u001b[0mbatch\u001b[0m \u001b[0;34m=\u001b[0m \u001b[0mtexts\u001b[0m\u001b[0;34m[\u001b[0m\u001b[0mi\u001b[0m\u001b[0;34m:\u001b[0m\u001b[0mi\u001b[0m\u001b[0;34m+\u001b[0m\u001b[0mbatch_size\u001b[0m\u001b[0;34m]\u001b[0m\u001b[0;34m\u001b[0m\u001b[0;34m\u001b[0m\u001b[0m\n\u001b[0;32m---> 50\u001b[0;31m     \u001b[0moutput\u001b[0m \u001b[0;34m=\u001b[0m \u001b[0mclassify_batch\u001b[0m\u001b[0;34m(\u001b[0m\u001b[0mbatch\u001b[0m\u001b[0;34m,\u001b[0m \u001b[0mstart_idx\u001b[0m\u001b[0;34m=\u001b[0m\u001b[0mi\u001b[0m\u001b[0;34m+\u001b[0m\u001b[0;36m1\u001b[0m\u001b[0;34m)\u001b[0m\u001b[0;34m\u001b[0m\u001b[0;34m\u001b[0m\u001b[0m\n\u001b[0m\u001b[1;32m     51\u001b[0m     \u001b[0mprint\u001b[0m\u001b[0;34m(\u001b[0m\u001b[0moutput\u001b[0m\u001b[0;34m)\u001b[0m\u001b[0;34m\u001b[0m\u001b[0;34m\u001b[0m\u001b[0m\n\u001b[1;32m     52\u001b[0m \u001b[0;34m\u001b[0m\u001b[0m\n",
            "\u001b[0;32m/tmp/ipython-input-12-1911207573.py\u001b[0m in \u001b[0;36mclassify_batch\u001b[0;34m(batch_texts, start_idx)\u001b[0m\n\u001b[1;32m     29\u001b[0m     \u001b[0mfinal_prompt\u001b[0m \u001b[0;34m=\u001b[0m \u001b[0mfew_shot_prompt\u001b[0m \u001b[0;34m+\u001b[0m \u001b[0mnumbered_batch\u001b[0m\u001b[0;34m\u001b[0m\u001b[0;34m\u001b[0m\u001b[0m\n\u001b[1;32m     30\u001b[0m \u001b[0;34m\u001b[0m\u001b[0m\n\u001b[0;32m---> 31\u001b[0;31m     response = client.chat.completions.create(\n\u001b[0m\u001b[1;32m     32\u001b[0m         \u001b[0mmodel\u001b[0m\u001b[0;34m=\u001b[0m\u001b[0;34m\"gpt-4-turbo\"\u001b[0m\u001b[0;34m,\u001b[0m\u001b[0;34m\u001b[0m\u001b[0;34m\u001b[0m\u001b[0m\n\u001b[1;32m     33\u001b[0m         \u001b[0mmessages\u001b[0m\u001b[0;34m=\u001b[0m\u001b[0;34m[\u001b[0m\u001b[0;34m{\u001b[0m\u001b[0;34m\"role\"\u001b[0m\u001b[0;34m:\u001b[0m \u001b[0;34m\"user\"\u001b[0m\u001b[0;34m,\u001b[0m \u001b[0;34m\"content\"\u001b[0m\u001b[0;34m:\u001b[0m \u001b[0mfinal_prompt\u001b[0m\u001b[0;34m}\u001b[0m\u001b[0;34m]\u001b[0m\u001b[0;34m,\u001b[0m\u001b[0;34m\u001b[0m\u001b[0;34m\u001b[0m\u001b[0m\n",
            "\u001b[0;32m/usr/local/lib/python3.11/dist-packages/openai/_utils/_utils.py\u001b[0m in \u001b[0;36mwrapper\u001b[0;34m(*args, **kwargs)\u001b[0m\n\u001b[1;32m    285\u001b[0m                         \u001b[0mmsg\u001b[0m \u001b[0;34m=\u001b[0m \u001b[0;34mf\"Missing required argument: {quote(missing[0])}\"\u001b[0m\u001b[0;34m\u001b[0m\u001b[0;34m\u001b[0m\u001b[0m\n\u001b[1;32m    286\u001b[0m                 \u001b[0;32mraise\u001b[0m \u001b[0mTypeError\u001b[0m\u001b[0;34m(\u001b[0m\u001b[0mmsg\u001b[0m\u001b[0;34m)\u001b[0m\u001b[0;34m\u001b[0m\u001b[0;34m\u001b[0m\u001b[0m\n\u001b[0;32m--> 287\u001b[0;31m             \u001b[0;32mreturn\u001b[0m \u001b[0mfunc\u001b[0m\u001b[0;34m(\u001b[0m\u001b[0;34m*\u001b[0m\u001b[0margs\u001b[0m\u001b[0;34m,\u001b[0m \u001b[0;34m**\u001b[0m\u001b[0mkwargs\u001b[0m\u001b[0;34m)\u001b[0m\u001b[0;34m\u001b[0m\u001b[0;34m\u001b[0m\u001b[0m\n\u001b[0m\u001b[1;32m    288\u001b[0m \u001b[0;34m\u001b[0m\u001b[0m\n\u001b[1;32m    289\u001b[0m         \u001b[0;32mreturn\u001b[0m \u001b[0mwrapper\u001b[0m  \u001b[0;31m# type: ignore\u001b[0m\u001b[0;34m\u001b[0m\u001b[0;34m\u001b[0m\u001b[0m\n",
            "\u001b[0;32m/usr/local/lib/python3.11/dist-packages/openai/resources/chat/completions/completions.py\u001b[0m in \u001b[0;36mcreate\u001b[0;34m(self, messages, model, audio, frequency_penalty, function_call, functions, logit_bias, logprobs, max_completion_tokens, max_tokens, metadata, modalities, n, parallel_tool_calls, prediction, presence_penalty, reasoning_effort, response_format, seed, service_tier, stop, store, stream, stream_options, temperature, tool_choice, tools, top_logprobs, top_p, user, web_search_options, extra_headers, extra_query, extra_body, timeout)\u001b[0m\n\u001b[1;32m   1085\u001b[0m     ) -> ChatCompletion | Stream[ChatCompletionChunk]:\n\u001b[1;32m   1086\u001b[0m         \u001b[0mvalidate_response_format\u001b[0m\u001b[0;34m(\u001b[0m\u001b[0mresponse_format\u001b[0m\u001b[0;34m)\u001b[0m\u001b[0;34m\u001b[0m\u001b[0;34m\u001b[0m\u001b[0m\n\u001b[0;32m-> 1087\u001b[0;31m         return self._post(\n\u001b[0m\u001b[1;32m   1088\u001b[0m             \u001b[0;34m\"/chat/completions\"\u001b[0m\u001b[0;34m,\u001b[0m\u001b[0;34m\u001b[0m\u001b[0;34m\u001b[0m\u001b[0m\n\u001b[1;32m   1089\u001b[0m             body=maybe_transform(\n",
            "\u001b[0;32m/usr/local/lib/python3.11/dist-packages/openai/_base_client.py\u001b[0m in \u001b[0;36mpost\u001b[0;34m(self, path, cast_to, body, options, files, stream, stream_cls)\u001b[0m\n\u001b[1;32m   1254\u001b[0m             \u001b[0mmethod\u001b[0m\u001b[0;34m=\u001b[0m\u001b[0;34m\"post\"\u001b[0m\u001b[0;34m,\u001b[0m \u001b[0murl\u001b[0m\u001b[0;34m=\u001b[0m\u001b[0mpath\u001b[0m\u001b[0;34m,\u001b[0m \u001b[0mjson_data\u001b[0m\u001b[0;34m=\u001b[0m\u001b[0mbody\u001b[0m\u001b[0;34m,\u001b[0m \u001b[0mfiles\u001b[0m\u001b[0;34m=\u001b[0m\u001b[0mto_httpx_files\u001b[0m\u001b[0;34m(\u001b[0m\u001b[0mfiles\u001b[0m\u001b[0;34m)\u001b[0m\u001b[0;34m,\u001b[0m \u001b[0;34m**\u001b[0m\u001b[0moptions\u001b[0m\u001b[0;34m\u001b[0m\u001b[0;34m\u001b[0m\u001b[0m\n\u001b[1;32m   1255\u001b[0m         )\n\u001b[0;32m-> 1256\u001b[0;31m         \u001b[0;32mreturn\u001b[0m \u001b[0mcast\u001b[0m\u001b[0;34m(\u001b[0m\u001b[0mResponseT\u001b[0m\u001b[0;34m,\u001b[0m \u001b[0mself\u001b[0m\u001b[0;34m.\u001b[0m\u001b[0mrequest\u001b[0m\u001b[0;34m(\u001b[0m\u001b[0mcast_to\u001b[0m\u001b[0;34m,\u001b[0m \u001b[0mopts\u001b[0m\u001b[0;34m,\u001b[0m \u001b[0mstream\u001b[0m\u001b[0;34m=\u001b[0m\u001b[0mstream\u001b[0m\u001b[0;34m,\u001b[0m \u001b[0mstream_cls\u001b[0m\u001b[0;34m=\u001b[0m\u001b[0mstream_cls\u001b[0m\u001b[0;34m)\u001b[0m\u001b[0;34m)\u001b[0m\u001b[0;34m\u001b[0m\u001b[0;34m\u001b[0m\u001b[0m\n\u001b[0m\u001b[1;32m   1257\u001b[0m \u001b[0;34m\u001b[0m\u001b[0m\n\u001b[1;32m   1258\u001b[0m     def patch(\n",
            "\u001b[0;32m/usr/local/lib/python3.11/dist-packages/openai/_base_client.py\u001b[0m in \u001b[0;36mrequest\u001b[0;34m(self, cast_to, options, stream, stream_cls)\u001b[0m\n\u001b[1;32m   1042\u001b[0m \u001b[0;34m\u001b[0m\u001b[0m\n\u001b[1;32m   1043\u001b[0m                 \u001b[0mlog\u001b[0m\u001b[0;34m.\u001b[0m\u001b[0mdebug\u001b[0m\u001b[0;34m(\u001b[0m\u001b[0;34m\"Re-raising status error\"\u001b[0m\u001b[0;34m)\u001b[0m\u001b[0;34m\u001b[0m\u001b[0;34m\u001b[0m\u001b[0m\n\u001b[0;32m-> 1044\u001b[0;31m                 \u001b[0;32mraise\u001b[0m \u001b[0mself\u001b[0m\u001b[0;34m.\u001b[0m\u001b[0m_make_status_error_from_response\u001b[0m\u001b[0;34m(\u001b[0m\u001b[0merr\u001b[0m\u001b[0;34m.\u001b[0m\u001b[0mresponse\u001b[0m\u001b[0;34m)\u001b[0m \u001b[0;32mfrom\u001b[0m \u001b[0;32mNone\u001b[0m\u001b[0;34m\u001b[0m\u001b[0;34m\u001b[0m\u001b[0m\n\u001b[0m\u001b[1;32m   1045\u001b[0m \u001b[0;34m\u001b[0m\u001b[0m\n\u001b[1;32m   1046\u001b[0m             \u001b[0;32mbreak\u001b[0m\u001b[0;34m\u001b[0m\u001b[0;34m\u001b[0m\u001b[0m\n",
            "\u001b[0;31mRateLimitError\u001b[0m: Error code: 429 - {'error': {'message': 'You exceeded your current quota, please check your plan and billing details. For more information on this error, read the docs: https://platform.openai.com/docs/guides/error-codes/api-errors.', 'type': 'insufficient_quota', 'param': None, 'code': 'insufficient_quota'}}"
          ]
        }
      ]
    },
    {
      "cell_type": "code",
      "source": [
        "from sklearn.metrics import f1_score,classification_report\n",
        "\n",
        "# Convert predictions (from model output strings) to booleans\n",
        "preds = [r.strip().lower() == 'true' for r in results]\n",
        "\n",
        "# Get true labels and convert to booleans if needed\n",
        "true = [str(label).strip().lower() == 'true' for label in new_undersampled['contains_debt_instrument_information']]\n",
        "\n",
        "# Compute classification metrics\n",
        "accuracy = accuracy_score(true, preds)\n",
        "precision = precision_score(true, preds)\n",
        "recall = recall_score(true, preds)\n",
        "f1 = f1_score(true, preds)\n",
        "\n",
        "\n",
        "\n",
        "f1 = f1_score(true, preds)\n",
        "print(f\"F1 Score: {f1:.3f}\")\n",
        "\n",
        "# (Optional) See full breakdown: precision, recall, etc.\n",
        "print(\"\\nClassification Report:\")\n",
        "print(classification_report(true, preds))\n"
      ],
      "metadata": {
        "id": "evLeUKGjDK76"
      },
      "execution_count": null,
      "outputs": []
    },
    {
      "cell_type": "markdown",
      "source": [
        "# **Oversampled**\n"
      ],
      "metadata": {
        "id": "qpKJslgnWLAX"
      }
    },
    {
      "cell_type": "code",
      "source": [
        "new = pd.read_csv('/content/gdrive/MyDrive/Group 1: DSSI Summer 2025/Data/cleaned_banktrack_annotated.csv')\n",
        "\n",
        "# Use Coral's balanced dataset\n",
        "from datasets import Dataset, DatasetDict\n",
        "from imblearn.over_sampling import RandomOverSampler\n",
        "\n",
        "X = new[['text']]\n",
        "y = new[['contains_debt_instrument_information']]\n",
        "\n",
        "#oversampling minority data\n",
        "ros = RandomOverSampler(random_state=42)                 #this is the random oversampling\n",
        "X_resampled, y_resampled = ros.fit_resample(X, y)\n",
        "y_resampled.contains_debt_instrument_information.value_counts()\n",
        "\n",
        "X_resampled = X_resampled.reset_index(drop=True)\n",
        "y_resampled = y_resampled.reset_index(drop=True)\n",
        "\n",
        "new_oversampled = pd.concat([X_resampled, y_resampled], axis=1)\n",
        "new_oversampled\n",
        "\n",
        "# Verify\n",
        "#print(\"Original counts:\", np.bincount(dataset[\"train\"][\"contains_debt_instrument_information\"]))\n",
        "#print(\"Balanced counts:\", np.bincount(dataset[\"train\"][\"contains_debt_instrument_information\"]))\n",
        "#new_balanced = dataset[\"train\"].to_pandas()"
      ],
      "metadata": {
        "id": "ymUvmeJGWKn1"
      },
      "execution_count": null,
      "outputs": []
    },
    {
      "cell_type": "code",
      "source": [
        "#spliting data\n",
        "#split_dataset = dataset[\"train\"].train_test_split(test_size=0.2, seed=42, shuffle=True)\n",
        "from sklearn.model_selection import train_test_split\n",
        "train_df, val_df = train_test_split(new_oversampled, test_size=0.2, random_state=42) #validation size is 20%, random state is just there for reproducilbility\n",
        "\n",
        "# turn to json dict\n",
        "#dataset = DatasetDict({\"train\": split_dataset[\"train\"]})\n",
        "from datasets import Dataset, DatasetDict\n",
        "dataset = DatasetDict({'train': Dataset.from_pandas(train_df), 'validation': Dataset.from_pandas(val_df)}) #use dataset dict to turn to dataframe to dict\n",
        "dataset"
      ],
      "metadata": {
        "id": "UKY_NR4dWvij"
      },
      "execution_count": null,
      "outputs": []
    },
    {
      "cell_type": "code",
      "source": [
        "import openai\n",
        "def classify_batch(batch_texts, start_idx=1):\n",
        "    few_shot_prompt = \"\"\"A Form 8-K is a public document that publicly traded companies must file with the Securities and Exchange Commission (SEC) to disclose significant, unscheduled events or corporate changes. These events are considered material, meaning they could impact the company's financial performance or investor decisions.\n",
        "        Debt financing is when a company borrows money (or is given the right to borrow money) from a collection of lenders. This is primarily done through bonds, notes, loans, credit facilities. Key words include: Term Loan Agreement, Amended and Restated Credit Agreement, Revolving Credit Agreement, Junior Subordinated Notes, Bond, Debt Settlement Agreement.\n",
        "        Classification is 'True' if the item contains details about a debt instrument. If the item just references a debt instrument, this column should still be false. There must be some details outside of the name (such as the start date, the amount, the lenders, etc.).\n",
        "        I want you to think like a financial analyst reviewing SEC Form 8-K filings to determine whether they contain information related to commercial debt. Your response should classify each text with a “True” or “False” label. Do not explain.\n",
        "\n",
        "\n",
        "Examples:\n",
        "1. \"    Alpha Holding Company, LLC Disposition  On January 19, 2017, Concho Resources Inc. (the  Company ), through its wholly owned subsidiary, COG Operating LLC  ( Seller ), entered into a definitive securities purchase agreement (the  Purchase Agreement ) with Plains Pipeline, L.P. ( Purchaser ) to sell 100% of the issued and  outstanding Class A Units of Alpha Holding Company, LLC ( AHC ) (the  Disposition ), for aggregate consideration of approximately $800 million, subject to customary purchase price  adjustments, after closing of the transactions contemplated by the Class B Purchase Agreement (defined below) and repayment of the outstanding borrowings under the credit facility of Alpha Crude Connector, LLC, a wholly owned subsidiary of AHC.  Contemporaneously with the execution of the Purchase Agreement, Purchaser entered into a definitive purchase agreement with Frontier Midstream Solutions, LLC ( Frontier ) to purchase 100% of the issued and outstanding  Class B Units of AHC (the  Class  B Purchase Agreement ). Closing under the Purchase Agreement and the Class B Purchase Agreement is anticipated to occur contemporaneously during the  first half of 2017, subject to customary closing conditions, as further described below. Seller retains the right under the Limited Liability Company Agreement of AHC, subject to certain conditions, to purchase or cause AHC to purchase all of the  Class B Units of AHC prior to closing under the Purchase Agreement and the Class B Purchase Agreement (an  Option Exercise ). In the event of an Option Exercise, Seller will sell all of the Class A Units and  the Class B Units of AHC to Purchaser for an aggregate purchase price of approximately $1.215 billion. The Company expects the net proceeds to Seller in the event of an Option Exercise and sale to Purchaser of all of the Class A Units and  the Class B Units of AHC to be substantially similar to what Seller would otherwise receive under the Purchase Agreement in the absence of an Option Exercise.  Each partys obligation to consummate the Disposition is conditioned upon, among other things, (i) confirmation of the  counterparties representations and warranties as of the closing, (ii) the counterparties performance, in all material respects, of all covenants, (iii) the receipt of all required approvals (including approval under the  Hart-Scott-Rodino Antitrust Improvements Act of 1976), (iv) the absence of legal matters prohibiting the Disposition, and (v) the satisfaction or waiver by Frontier or Purchaser, as applicable, of certain conditions precedent to the  consummation of the transactions contemplated by the Class B Purchase Agreement.  \" → False\n",
        "2. \"    As previously disclosed, between December 14, 2022 and December 16, 2022, IronNet, Inc. (the \" Company \") issued and sold secured promissory notes in an aggregate principal amount of $6.9 million (the \" Initial Notes \") to a total of eight lenders, and on December 30, 2022, the Company issued a secured promissory note in the principal amount of $2.0 million (the \" First   C5 Note \") to an entity affiliated with C5 Capital Limited (\" C5 \"), a beneficial owner of more than 5% of the Company's outstanding common stock.    In connection with the issuance of the First C5 Note, the Company and the holders of the Initial Notes agreed to amend and restate the Initial Notes to be substantially in the form to be issued to C5, which form was attached as an exhibit to the Current Report on Form  8-K  filed on January 4, 2023 (the \" Restated Initial Notes \"). This amendment and restatement occurred on January 11, 2023. The Restated Initial Notes continue to bear interest at a rate of 13.8% per annum from the respective dates of the Initial Notes, and the Restated Initial Notes are payable at scheduled maturity on June 30, 2023.    Upon entering into the First C5 Note, the Company and C5 also agreed to amend and restate the First C5 Note. Subsequently, the parties agreed that the amended and restated First C5 Note and any future notes to be issued in connection with additional bridge financing by C5 would be convertible into shares of the Company's common stock. On January 11, 2023, the Company issued to C5 an amended and restated convertible promissory note in the principal amount of $2.0 million (the \" Restated C5 Note \"). On January 12, 2023, the Company issued to C5 a new secured convertible promissory note in the principal amount of $3.0 million (the \" Second C5 Note \"). The Restated C5 Note and the Second C5 Note (collectively, the \" C5 Notes \"), in the aggregate principal amount of $5.0 million, are in substantially the form of secured convertible promissory note attached to this report as Exhibit 99.1.    The C5 Notes bear interest at a rate of 13.8% per annum from the date of issuance (or in the case of the Restated C5 Note, from the date of the First C5 Note), and all such notes are payable at scheduled maturity on June 30, 2023, subject to acceleration in certain circumstances.    The Company's obligations under the Restated Initial Notes and the C5 Notes are secured by substantially all of the assets of the Company, excluding the Company's intellectual property. C5 and each of the holders of the Restated Initial Notes have executed an Amended and Restated Security Agreement in the form attached as an exhibit to the Current Report on Form  8-K  filed on January 4, 2023.    The C5 Notes provide C5 with the right, at any time on or after the date that is five calendar days prior to maturity, to convert any portion of the principal amount of the C5 Notes, together with any accrued and unpaid interest and any other unpaid amounts, into shares of the Company's common stock, par value $0.0001 per share (the \" Common Stock \"), at a conversion price of $2.00 per share. In the event that any shares of Common Stock are issued upon conversion of the C5 Notes, the Company has agreed to grant specified registration rights to C5.    The foregoing description of the C5 Notes does not purport to be complete and is subject to, and is qualified in its entirety by reference to, the form of C5 Note filed herewith as Exhibit 99.1 and incorporated herein by reference.  \" → True\n",
        "3. \"    Between December 14, 2022 and December 16, 2022, IronNet, Inc. (the \" Company \") issued and sold secured promissory notes in an aggregate principal amount of $6.9 million (the \" Notes \") to a total of eight lenders. The lenders included GEN Keith B. Alexander (Ret.), the founder, Chief Executive Officer and Chairman of the Board of Directors of the Company. The Notes were also issued to lenders that include VADM John M. McConnell (Ret.), Hon. Michael J. Rogers, Theodore E. Schlein and VADM Jan E. Tighe (Ret.), each of whom is a director of the Company, as well as funds affiliated with Forgepoint Capital (the \" Forgepoint Funds \"). Donald R. Dixon, a member of the Company's board of directors, is an affiliate of ForgePoint Capital, and the ForgePoint Funds are also beneficial owners of greater than 5% of the Company's common stock.    Each Note has a scheduled maturity date of one year from the date of issuance, except that the Note issued to one lender that is not, and is not affiliated with, a director of the Company has a scheduled maturity date of six months from the date of issuance. The Notes bear interest at a rate of 13.8% per annum, payable at maturity. The Company may prepay the Notes at any time without premium or penalty, and the Notes do not restrict the incurrence of future indebtedness by the Company.    In the event that the Company fails to timely pay amounts due under the Notes or the Company materially defaults in its performance of any other covenant under the Notes or the Security Agreement (as defined below), which default is not cured within 30 days after written notice thereof, then at the option of the lenders, upon the written consent of lenders representing a majority of the outstanding and unpaid principal under the Notes, all unpaid principal, accrued interest and other amounts owing under the Notes shall be immediately due and payable.    In the event that the Company files any petition or action for relief under any bankruptcy, reorganization, insolvency or moratorium law or any other law for the relief of or relating to debtors, or makes any assignment for the benefit of creditors or takes any corporate action in furtherance thereof, or if an involuntary petition is filed against the Company (unless such petition is dismissed or discharged within 60 days) under any bankruptcy statute, or a custodian, receiver, trustee, assignee for the benefit of creditors is appointed to take possession, custody or control of any property of the Company, then all unpaid principal, accrued interest and other amounts owing under the Notes will accelerate and automatically become immediately due and payable.    The Notes are secured by substantially all of the assets of the Company, excluding the Company's intellectual property. The Company entered into a Security Agreement (the \" Security Agreements \") with each of the lenders.    The forgoing descriptions of the Notes and the Security Agreements do not purport to be complete and are subject to, and are qualified in their entirety by reference to, the form of Note and form of Security Agreement filed hereto as Exhibits 4.1 and 10.1, respectively, and incorporated herein by reference.  \" → True\n",
        "4. \"    Credit Agreement  In connection with the completion of the Merger, on August 4, 2016, Higher One, Inc. ( Higher One ), a Delaware corporation and direct  wholly owned subsidiary of the Company, terminated the existing credit agreement, dated as of October 16, 2012 (as amended, the  Credit Agreement ), among Higher One, as borrower, the Company, Higher One Machines, Inc.,  Higher One Real Estate, Inc. and Higher One Real Estate SP, LLC, as guarantors, Bank of America, N.A. as administrative agent, swingline lender and letter of credit issuer, and the other lenders party thereto, and all commitments thereunder. At the  time of such termination, there were no outstanding revolving loans or outstanding letters of credit under the Credit Agreement. In connection with such termination, all liens on the assets of Higher One, the Company and Higher Ones  subsidiaries securing such facility, together with such subsidiary or Company guarantees, were released and terminated.\" → True\n",
        "\n",
        "Now classify the following:\n",
        "\"\"\"\n",
        "# building a numbered list of sentences to append to prompt so model can process a batch of inputs at once\n",
        "# with clear numbering and formatting for each input example\n",
        "    numbered_batch = \"\"\n",
        "    for i, sentence in enumerate(batch_texts, start=start_idx):\n",
        "        numbered_batch += f\"{i}. \\\"{sentence}\\\" →\\n\"\n",
        "\n",
        "    final_prompt = few_shot_prompt + numbered_batch\n",
        "\n",
        "    response = client.chat.completions.create( # maybe use different function rather than chat completion\n",
        "        model=\"gpt-4-turbo\", # wayyy faster than gpt 4; went from 6-7 minutes (only a third complete) to 1 minute (fully complete)\n",
        "        messages=[{\"role\": \"user\", \"content\": final_prompt}],\n",
        "        temperature=0\n",
        "    )\n",
        "\n",
        "    return response.choices[0].message.content\n",
        "\n",
        "results = []\n",
        "batch_size = 5 # Process 5 rows at a time"
      ],
      "metadata": {
        "id": "dInMW-1DW0Sz"
      },
      "execution_count": null,
      "outputs": []
    },
    {
      "cell_type": "code",
      "source": [
        "# converting the text data into a list, looping through it in batches, classifying each batch,\n",
        "# printing the output, and collecting all classification results in one list\n",
        "texts = new_oversampled['text'].astype(str).tolist()\n",
        "\n",
        "results = [] # Initialize the results list before the loop\n",
        "\n",
        "for i in range(0, len(texts), batch_size):\n",
        "    batch = texts[i:i+batch_size]\n",
        "    output = classify_batch(batch, start_idx=i+1)\n",
        "    #print(f\"Batch {i//batch_size + 1} output:\")\n",
        "    print(output)\n",
        "    # Extract just the True/False from each line of the output\n",
        "    batch_results = [r.split('. ')[1] for r in output.strip().split('\\n')]\n",
        "    results.extend(batch_results)\n",
        "\n",
        "print(f\"Total results collected: {len(results)}\")"
      ],
      "metadata": {
        "id": "P6499ymjW6Xo"
      },
      "execution_count": null,
      "outputs": []
    },
    {
      "cell_type": "code",
      "source": [
        "print(new_oversampled.columns)"
      ],
      "metadata": {
        "id": "hKmAjwDSXAaW"
      },
      "execution_count": null,
      "outputs": []
    },
    {
      "cell_type": "code",
      "source": [
        "from sklearn.metrics import accuracy_score, precision_score, recall_score, f1_score\n",
        "\n",
        "# Convert predictions (from model output strings) to booleans\n",
        "preds = [r.strip().lower() == 'true' for r in results]\n",
        "\n",
        "# Get true labels and convert to booleans if needed\n",
        "true = [str(label).strip().lower() == 'true' for label in new_oversampled['contains_debt_instrument_information']]\n",
        "\n",
        "# Compute classification metrics\n",
        "accuracy = accuracy_score(true, preds)\n",
        "precision = precision_score(true, preds)\n",
        "recall = recall_score(true, preds)\n",
        "f1 = f1_score(true, preds)\n",
        "\n",
        "print(\"Accuracy:\", round(accuracy, 4))\n",
        "print(\"Precision:\", round(precision, 4))\n",
        "print(\"Recall:\", round(recall, 4))\n",
        "print(\"F1 Score:\", round(f1, 4))\n"
      ],
      "metadata": {
        "id": "7o08ughVXDNG"
      },
      "execution_count": null,
      "outputs": []
    },
    {
      "cell_type": "code",
      "source": [
        "from sklearn.metrics import f1_score,classification_report, accuracy_score, precision_score, recall_score\n",
        "\n",
        "# Convert predictions (from model output strings) to booleans\n",
        "preds = [r.strip().lower() == 'true' for r in results]\n",
        "\n",
        "# Get true labels and convert to booleans if needed\n",
        "true = [str(label).strip().lower() == 'true' for label in new_oversampled['contains_debt_instrument_information']]\n",
        "\n",
        "# Compute classification metrics\n",
        "accuracy = accuracy_score(true, preds)\n",
        "precision = precision_score(true, preds)\n",
        "recall = recall_score(true, preds)\n",
        "f1 = f1_score(true, preds)\n",
        "\n",
        "\n",
        "\n",
        "f1 = f1_score(true, preds)\n",
        "print(f\"F1 Score: {f1:.3f}\")\n",
        "\n",
        "# (Optional) See full breakdown: precision, recall, etc.\n",
        "print(\"\\nClassification Report:\")\n",
        "print(classification_report(true, preds))"
      ],
      "metadata": {
        "id": "5guYU7e2Y4_w"
      },
      "execution_count": null,
      "outputs": []
    },
    {
      "cell_type": "markdown",
      "source": [
        "# **Summarized**"
      ],
      "metadata": {
        "id": "G3oztLZ0Z7mq"
      }
    },
    {
      "cell_type": "code",
      "source": [
        "new_summarized = pd.read_csv('/content/gdrive/MyDrive/Group 1: DSSI Summer 2025/Data/summary_banktrak.csv')\n",
        "\n",
        "# Use Coral's balanced dataset\n",
        "\n",
        "#spliting data\n",
        "#split_dataset = dataset[\"train\"].train_test_split(test_size=0.2, seed=42, shuffle=True)\n",
        "from sklearn.model_selection import train_test_split\n",
        "train_df, val_df = train_test_split(new_summarized, test_size=0.2, random_state=42) #validation size is 20%, random state is just there for reproducibility\n",
        "\n",
        "# turn to json dict\n",
        "#dataset = DatasetDict({\"train\": split_dataset[\"train\"]})\n",
        "from datasets import Dataset, DatasetDict\n",
        "dataset = DatasetDict({'train': Dataset.from_pandas(train_df.reset_index()), 'validation': Dataset.from_pandas(val_df.reset_index())}) #use dataset dict to turn to dataframe to dict\n",
        "dataset"
      ],
      "metadata": {
        "colab": {
          "base_uri": "https://localhost:8080/"
        },
        "id": "AfE8eiXJaBil",
        "outputId": "36facff3-96af-44cb-8612-ccdd0d72227f"
      },
      "execution_count": null,
      "outputs": [
        {
          "output_type": "execute_result",
          "data": {
            "text/plain": [
              "DatasetDict({\n",
              "    train: Dataset({\n",
              "        features: ['index', 'text', 'company', 'cik', 'item', 'contains_debt_instrument_information'],\n",
              "        num_rows: 176\n",
              "    })\n",
              "    validation: Dataset({\n",
              "        features: ['index', 'text', 'company', 'cik', 'item', 'contains_debt_instrument_information'],\n",
              "        num_rows: 44\n",
              "    })\n",
              "})"
            ]
          },
          "metadata": {},
          "execution_count": 4
        }
      ]
    },
    {
      "cell_type": "code",
      "source": [
        "# open ai code xd lolz\n",
        "import openai\n",
        "def classify_batch(batch_texts, start_idx=1):\n",
        "    few_shot_prompt = \"\"\"A Form 8-K is a public document that publicly traded companies must file with the Securities and Exchange Commission (SEC) to disclose significant, unscheduled events or corporate changes. These events are considered material, meaning they could impact the company's financial performance or investor decisions.\n",
        "        Debt financing is when a company borrows money (or is given the right to borrow money) from a collection of lenders. This is primarily done through bonds, notes, loans, credit facilities. Key words include: Term Loan Agreement, Amended and Restated Credit Agreement, Revolving Credit Agreement, Junior Subordinated Notes, Bond, Debt Settlement Agreement.\n",
        "        Classification is 'True' if the item contains details about a debt instrument. If the item just references a debt instrument, this column should still be false. There must be some details outside of the name (such as the start date, the amount, the lenders, etc.).\n",
        "        I want you to think like a financial analyst reviewing SEC Form 8-K filings to determine whether they contain information related to commercial debt. Your response should classify each text with a “True” or “False” label. Do not explain.\n",
        "\n",
        "\n",
        "Examples:\n",
        "1. \"    Alpha Holding Company, LLC Disposition  On January 19, 2017, Concho Resources Inc. (the  Company ), through its wholly owned subsidiary, COG Operating LLC  ( Seller ), entered into a definitive securities purchase agreement (the  Purchase Agreement ) with Plains Pipeline, L.P. ( Purchaser ) to sell 100% of the issued and  outstanding Class A Units of Alpha Holding Company, LLC ( AHC ) (the  Disposition ), for aggregate consideration of approximately $800 million, subject to customary purchase price  adjustments, after closing of the transactions contemplated by the Class B Purchase Agreement (defined below) and repayment of the outstanding borrowings under the credit facility of Alpha Crude Connector, LLC, a wholly owned subsidiary of AHC.  Contemporaneously with the execution of the Purchase Agreement, Purchaser entered into a definitive purchase agreement with Frontier Midstream Solutions, LLC ( Frontier ) to purchase 100% of the issued and outstanding  Class B Units of AHC (the  Class  B Purchase Agreement ). Closing under the Purchase Agreement and the Class B Purchase Agreement is anticipated to occur contemporaneously during the  first half of 2017, subject to customary closing conditions, as further described below. Seller retains the right under the Limited Liability Company Agreement of AHC, subject to certain conditions, to purchase or cause AHC to purchase all of the  Class B Units of AHC prior to closing under the Purchase Agreement and the Class B Purchase Agreement (an  Option Exercise ). In the event of an Option Exercise, Seller will sell all of the Class A Units and  the Class B Units of AHC to Purchaser for an aggregate purchase price of approximately $1.215 billion. The Company expects the net proceeds to Seller in the event of an Option Exercise and sale to Purchaser of all of the Class A Units and  the Class B Units of AHC to be substantially similar to what Seller would otherwise receive under the Purchase Agreement in the absence of an Option Exercise.  Each partys obligation to consummate the Disposition is conditioned upon, among other things, (i) confirmation of the  counterparties representations and warranties as of the closing, (ii) the counterparties performance, in all material respects, of all covenants, (iii) the receipt of all required approvals (including approval under the  Hart-Scott-Rodino Antitrust Improvements Act of 1976), (iv) the absence of legal matters prohibiting the Disposition, and (v) the satisfaction or waiver by Frontier or Purchaser, as applicable, of certain conditions precedent to the  consummation of the transactions contemplated by the Class B Purchase Agreement.  \" → False\n",
        "2. \"    As previously disclosed, between December 14, 2022 and December 16, 2022, IronNet, Inc. (the \" Company \") issued and sold secured promissory notes in an aggregate principal amount of $6.9 million (the \" Initial Notes \") to a total of eight lenders, and on December 30, 2022, the Company issued a secured promissory note in the principal amount of $2.0 million (the \" First   C5 Note \") to an entity affiliated with C5 Capital Limited (\" C5 \"), a beneficial owner of more than 5% of the Company's outstanding common stock.    In connection with the issuance of the First C5 Note, the Company and the holders of the Initial Notes agreed to amend and restate the Initial Notes to be substantially in the form to be issued to C5, which form was attached as an exhibit to the Current Report on Form  8-K  filed on January 4, 2023 (the \" Restated Initial Notes \"). This amendment and restatement occurred on January 11, 2023. The Restated Initial Notes continue to bear interest at a rate of 13.8% per annum from the respective dates of the Initial Notes, and the Restated Initial Notes are payable at scheduled maturity on June 30, 2023.    Upon entering into the First C5 Note, the Company and C5 also agreed to amend and restate the First C5 Note. Subsequently, the parties agreed that the amended and restated First C5 Note and any future notes to be issued in connection with additional bridge financing by C5 would be convertible into shares of the Company's common stock. On January 11, 2023, the Company issued to C5 an amended and restated convertible promissory note in the principal amount of $2.0 million (the \" Restated C5 Note \"). On January 12, 2023, the Company issued to C5 a new secured convertible promissory note in the principal amount of $3.0 million (the \" Second C5 Note \"). The Restated C5 Note and the Second C5 Note (collectively, the \" C5 Notes \"), in the aggregate principal amount of $5.0 million, are in substantially the form of secured convertible promissory note attached to this report as Exhibit 99.1.    The C5 Notes bear interest at a rate of 13.8% per annum from the date of issuance (or in the case of the Restated C5 Note, from the date of the First C5 Note), and all such notes are payable at scheduled maturity on June 30, 2023, subject to acceleration in certain circumstances.    The Company's obligations under the Restated Initial Notes and the C5 Notes are secured by substantially all of the assets of the Company, excluding the Company's intellectual property. C5 and each of the holders of the Restated Initial Notes have executed an Amended and Restated Security Agreement in the form attached as an exhibit to the Current Report on Form  8-K  filed on January 4, 2023.    The C5 Notes provide C5 with the right, at any time on or after the date that is five calendar days prior to maturity, to convert any portion of the principal amount of the C5 Notes, together with any accrued and unpaid interest and any other unpaid amounts, into shares of the Company's common stock, par value $0.0001 per share (the \" Common Stock \"), at a conversion price of $2.00 per share. In the event that any shares of Common Stock are issued upon conversion of the C5 Notes, the Company has agreed to grant specified registration rights to C5.    The foregoing description of the C5 Notes does not purport to be complete and is subject to, and is qualified in its entirety by reference to, the form of C5 Note filed herewith as Exhibit 99.1 and incorporated herein by reference.  \" → True\n",
        "3. \"    Between December 14, 2022 and December 16, 2022, IronNet, Inc. (the \" Company \") issued and sold secured promissory notes in an aggregate principal amount of $6.9 million (the \" Notes \") to a total of eight lenders. The lenders included GEN Keith B. Alexander (Ret.), the founder, Chief Executive Officer and Chairman of the Board of Directors of the Company. The Notes were also issued to lenders that include VADM John M. McConnell (Ret.), Hon. Michael J. Rogers, Theodore E. Schlein and VADM Jan E. Tighe (Ret.), each of whom is a director of the Company, as well as funds affiliated with Forgepoint Capital (the \" Forgepoint Funds \"). Donald R. Dixon, a member of the Company's board of directors, is an affiliate of ForgePoint Capital, and the ForgePoint Funds are also beneficial owners of greater than 5% of the Company's common stock.    Each Note has a scheduled maturity date of one year from the date of issuance, except that the Note issued to one lender that is not, and is not affiliated with, a director of the Company has a scheduled maturity date of six months from the date of issuance. The Notes bear interest at a rate of 13.8% per annum, payable at maturity. The Company may prepay the Notes at any time without premium or penalty, and the Notes do not restrict the incurrence of future indebtedness by the Company.    In the event that the Company fails to timely pay amounts due under the Notes or the Company materially defaults in its performance of any other covenant under the Notes or the Security Agreement (as defined below), which default is not cured within 30 days after written notice thereof, then at the option of the lenders, upon the written consent of lenders representing a majority of the outstanding and unpaid principal under the Notes, all unpaid principal, accrued interest and other amounts owing under the Notes shall be immediately due and payable.    In the event that the Company files any petition or action for relief under any bankruptcy, reorganization, insolvency or moratorium law or any other law for the relief of or relating to debtors, or makes any assignment for the benefit of creditors or takes any corporate action in furtherance thereof, or if an involuntary petition is filed against the Company (unless such petition is dismissed or discharged within 60 days) under any bankruptcy statute, or a custodian, receiver, trustee, assignee for the benefit of creditors is appointed to take possession, custody or control of any property of the Company, then all unpaid principal, accrued interest and other amounts owing under the Notes will accelerate and automatically become immediately due and payable.    The Notes are secured by substantially all of the assets of the Company, excluding the Company's intellectual property. The Company entered into a Security Agreement (the \" Security Agreements \") with each of the lenders.    The forgoing descriptions of the Notes and the Security Agreements do not purport to be complete and are subject to, and are qualified in their entirety by reference to, the form of Note and form of Security Agreement filed hereto as Exhibits 4.1 and 10.1, respectively, and incorporated herein by reference.  \" → True\n",
        "4. \"    Credit Agreement  In connection with the completion of the Merger, on August 4, 2016, Higher One, Inc. ( Higher One ), a Delaware corporation and direct  wholly owned subsidiary of the Company, terminated the existing credit agreement, dated as of October 16, 2012 (as amended, the  Credit Agreement ), among Higher One, as borrower, the Company, Higher One Machines, Inc.,  Higher One Real Estate, Inc. and Higher One Real Estate SP, LLC, as guarantors, Bank of America, N.A. as administrative agent, swingline lender and letter of credit issuer, and the other lenders party thereto, and all commitments thereunder. At the  time of such termination, there were no outstanding revolving loans or outstanding letters of credit under the Credit Agreement. In connection with such termination, all liens on the assets of Higher One, the Company and Higher Ones  subsidiaries securing such facility, together with such subsidiary or Company guarantees, were released and terminated.\" → True\n",
        "\n",
        "Now classify the following:\n",
        "\"\"\"\n",
        "# building a numbered list of sentences to append to prompt so model can process a batch of inputs at once\n",
        "# with clear numbering and formatting for each input example\n",
        "    numbered_batch = \"\"\n",
        "    for i, sentence in enumerate(batch_texts, start=start_idx):\n",
        "        numbered_batch += f\"{i}. \\\"{sentence}\\\" →\\n\"\n",
        "\n",
        "    final_prompt = few_shot_prompt + numbered_batch\n",
        "\n",
        "    response = client.chat.completions.create( # maybe use different function rather than chat completion\n",
        "        model=\"gpt-4-turbo\", # wayyy faster than gpt 4; went from 6-7 minutes (only a third complete) to 1 minute (fully complete)\n",
        "        messages=[{\"role\": \"user\", \"content\": final_prompt}],\n",
        "        temperature=0\n",
        "    )\n",
        "\n",
        "    return response.choices[0].message.content\n",
        "\n",
        "results = []\n",
        "batch_size = 5 # Process 5 rows at a time"
      ],
      "metadata": {
        "id": "q0Ri9MFUx-l_"
      },
      "execution_count": null,
      "outputs": []
    },
    {
      "cell_type": "code",
      "source": [
        "def save_openai_batch_output(batch, output):\n",
        "  assert len(batch) == len(output)\n",
        "  output_list=[]\n",
        "  for index, text in enumerate(batch):\n",
        "    output_dict = {'text': text, 'predicted_label': output[index]}\n",
        "    output_list.append(output_dict)\n",
        "  return output_list"
      ],
      "metadata": {
        "id": "PrA8nkFXEuFR"
      },
      "execution_count": null,
      "outputs": []
    },
    {
      "cell_type": "code",
      "source": [
        "# converting the text data into a list, looping through it in batches, classifying each batch,\n",
        "# printing the output, and collecting all classification results in one list\n",
        "texts = new_summarized['text'].astype(str).tolist()\n",
        "\n",
        "results = [] # Initialize the results list before the loop\n",
        "\n",
        "output_df_list=[]\n",
        "\n",
        "for i in range(0, len(texts), batch_size):\n",
        "    batch = texts[i:i+batch_size]\n",
        "    output = classify_batch(batch, start_idx=i+1)\n",
        "    #print(f\"Batch {i//batch_size + 1} output:\")\n",
        "    print(output)\n",
        "    output_df_list.append(save_openai_batch_output(batch,output))\n",
        "\n",
        "    # Extract just the True/False from each line of the output\n",
        "    batch_results = [r.split('. ')[1] for r in output.strip().split('\\n')]\n",
        "    results.extend(batch_results)\n",
        "\n",
        "print(f\"Total results collected: {len(results)}\")"
      ],
      "metadata": {
        "colab": {
          "base_uri": "https://localhost:8080/"
        },
        "id": "PJFVOam6jSyk",
        "outputId": "776f23c0-15e9-4209-83ff-53a0b8b65227"
      },
      "execution_count": null,
      "outputs": [
        {
          "output_type": "stream",
          "name": "stdout",
          "text": [
            "1. True\n",
            "2. False\n",
            "3. True\n",
            "4. True\n",
            "5. False\n",
            "6. True\n",
            "7. True\n",
            "8. True\n",
            "9. True\n",
            "10. False\n",
            "11. True\n",
            "12. True\n",
            "13. True\n",
            "14. False\n",
            "15. False\n",
            "16. True\n",
            "17. False\n",
            "18. False\n",
            "19. True\n",
            "20. True\n",
            "21. True\n",
            "22. False\n",
            "23. False\n",
            "24. True\n",
            "25. True\n",
            "26. True\n",
            "27. False\n",
            "28. True\n",
            "29. True\n",
            "30. True\n",
            "31. True\n",
            "32. True\n",
            "33. True\n",
            "34. False\n",
            "35. False\n",
            "36. True\n",
            "37. True\n",
            "38. False\n",
            "39. False\n",
            "40. True\n",
            "41. True\n",
            "42. False\n",
            "43. True\n",
            "44. True\n",
            "45. False\n",
            "46. False\n",
            "47. True\n",
            "48. True\n",
            "49. True\n",
            "50. True\n",
            "51. True\n",
            "52. False\n",
            "53. True\n",
            "54. True\n",
            "55. True\n",
            "56. True\n",
            "57. True\n",
            "58. False\n",
            "59. True\n",
            "60. True\n",
            "61. True\n",
            "62. False\n",
            "63. True\n",
            "64. True\n",
            "65. False\n",
            "66. False\n",
            "67. False\n",
            "68. True\n",
            "69. True\n",
            "70. True\n",
            "71. True\n",
            "72. False\n",
            "73. True\n",
            "74. True\n",
            "75. True\n",
            "76. True\n",
            "77. True\n",
            "78. False\n",
            "79. True\n",
            "80. True\n",
            "81. True\n",
            "82. True\n",
            "83. True\n",
            "84. True\n",
            "85. False\n",
            "86. False\n",
            "87. True\n",
            "88. False\n",
            "89. True\n",
            "90. False\n",
            "91. False\n",
            "92. True\n",
            "93. True\n",
            "94. False\n",
            "95. True\n",
            "96. True\n",
            "97. False\n",
            "98. True\n",
            "99. True\n",
            "100. True\n",
            "101. True\n",
            "102. True\n",
            "103. True\n",
            "104. False\n",
            "105. True\n",
            "106. True\n",
            "107. True\n",
            "108. True\n",
            "109. False\n",
            "110. False\n",
            "111. True\n",
            "112. True\n",
            "113. False\n",
            "114. True\n",
            "115. True\n",
            "116. True\n",
            "117. False\n",
            "118. True\n",
            "119. False\n",
            "120. False\n",
            "121. True\n",
            "122. False\n",
            "123. False\n",
            "124. True\n",
            "125. True\n",
            "126. True\n",
            "127. False\n",
            "128. True\n",
            "129. True\n",
            "130. True\n",
            "131. False\n",
            "132. True\n",
            "133. False\n",
            "134. False\n",
            "135. False\n",
            "136. False\n",
            "137. True\n",
            "138. True\n",
            "139. True\n",
            "140. False\n",
            "141. False\n",
            "142. True\n",
            "143. False\n",
            "144. False\n",
            "145. False\n",
            "146. True\n",
            "147. False\n",
            "148. False\n",
            "149. False\n",
            "150. True\n",
            "151. True\n",
            "152. True\n",
            "153. True\n",
            "154. True\n",
            "155. True\n",
            "156. True\n",
            "157. True\n",
            "158. False\n",
            "159. False\n",
            "160. True\n",
            "161. True\n",
            "162. False\n",
            "163. True\n",
            "164. False\n",
            "165. False\n",
            "166. False\n",
            "167. False\n",
            "168. False\n",
            "169. False\n",
            "170. True\n",
            "171. False\n",
            "172. False\n",
            "173. False\n",
            "174. False\n",
            "175. True\n",
            "176. False\n",
            "177. False\n",
            "178. True\n",
            "179. False\n",
            "180. False\n",
            "181. False\n",
            "182. False\n",
            "183. False\n",
            "184. False\n",
            "185. True\n",
            "186. False\n",
            "187. True\n",
            "188. False\n",
            "189. True\n",
            "190. False\n",
            "191. True\n",
            "192. False\n",
            "193. False\n",
            "194. True\n",
            "195. True\n",
            "196. False\n",
            "197. True\n",
            "198. True\n",
            "199. False\n",
            "200. False\n",
            "201. False\n",
            "202. False\n",
            "203. False\n",
            "204. True\n",
            "205. True\n",
            "206. False\n",
            "207. False\n",
            "208. False\n",
            "209. True\n",
            "210. True\n",
            "211. True\n",
            "212. True\n",
            "213. True\n",
            "214. True\n",
            "215. True\n",
            "216. False\n",
            "217. True\n",
            "218. False\n",
            "219. False\n",
            "220. False\n",
            "Total results collected: 220\n"
          ]
        }
      ]
    },
    {
      "cell_type": "code",
      "source": [
        "output_df = pd.Dataframe(output_df_list)\n",
        "print(\"Length of output dataframe: \", len(output_df))\n",
        "output_df.to_csv(\"\")"
      ],
      "metadata": {
        "id": "gmRRANGAFWKz"
      },
      "execution_count": null,
      "outputs": []
    },
    {
      "cell_type": "code",
      "source": [
        "from sklearn.metrics import accuracy_score, precision_score, recall_score, f1_score\n",
        "\n",
        "# Convert predictions (from model output strings) to booleans\n",
        "preds = [r.strip().lower() == 'true' for r in results]\n",
        "\n",
        "# Get true labels and convert to booleans if needed\n",
        "true = [str(label).strip().lower() == 'true' for label in new_summarized['contains_debt_instrument_information']]\n",
        "\n",
        "# Compute classification metrics\n",
        "accuracy = accuracy_score(true, preds)\n",
        "precision = precision_score(true, preds)\n",
        "recall = recall_score(true, preds)\n",
        "f1 = f1_score(true, preds)\n",
        "\n",
        "print(\"Accuracy:\", round(accuracy, 4))\n",
        "print(\"Precision:\", round(precision, 4))\n",
        "print(\"Recall:\", round(recall, 4))\n",
        "print(\"F1 Score:\", round(f1, 4))\n"
      ],
      "metadata": {
        "colab": {
          "base_uri": "https://localhost:8080/"
        },
        "id": "k4jrMhpCjVVH",
        "outputId": "e156103d-6047-4960-bb52-275436e006bf"
      },
      "execution_count": null,
      "outputs": [
        {
          "output_type": "stream",
          "name": "stdout",
          "text": [
            "Accuracy: 0.7727\n",
            "Precision: 0.7381\n",
            "Recall: 0.8455\n",
            "F1 Score: 0.7881\n"
          ]
        }
      ]
    },
    {
      "cell_type": "code",
      "source": [
        "from sklearn.metrics import f1_score,classification_report, accuracy_score, precision_score, recall_score\n",
        "\n",
        "# Convert predictions (from model output strings) to booleans\n",
        "preds = [r.strip().lower() == 'true' for r in results]\n",
        "\n",
        "# Get true labels and convert to booleans if needed\n",
        "true = [str(label).strip().lower() == 'true' for label in new_summarized['contains_debt_instrument_information']]\n",
        "\n",
        "# Compute classification metrics\n",
        "accuracy = accuracy_score(true, preds)\n",
        "precision = precision_score(true, preds)\n",
        "recall = recall_score(true, preds)\n",
        "f1 = f1_score(true, preds)\n",
        "\n",
        "\n",
        "\n",
        "f1 = f1_score(true, preds)\n",
        "print(f\"F1 Score: {f1:.3f}\")\n",
        "\n",
        "# (Optional) See full breakdown: precision, recall, etc.\n",
        "print(\"\\nClassification Report:\")\n",
        "print(classification_report(true, preds))"
      ],
      "metadata": {
        "colab": {
          "base_uri": "https://localhost:8080/"
        },
        "id": "ddjajQR_jZpO",
        "outputId": "6e4d1a71-ea89-4fc6-d494-67468a9b3289"
      },
      "execution_count": null,
      "outputs": [
        {
          "output_type": "stream",
          "name": "stdout",
          "text": [
            "F1 Score: 0.788\n",
            "\n",
            "Classification Report:\n",
            "              precision    recall  f1-score   support\n",
            "\n",
            "       False       0.82      0.70      0.75       110\n",
            "        True       0.74      0.85      0.79       110\n",
            "\n",
            "    accuracy                           0.77       220\n",
            "   macro avg       0.78      0.77      0.77       220\n",
            "weighted avg       0.78      0.77      0.77       220\n",
            "\n"
          ]
        }
      ]
    },
    {
      "cell_type": "code",
      "source": [
        "from sklearn.metrics import confusion_matrix, ConfusionMatrixDisplay\n",
        "import matplotlib.pyplot as plt\n",
        "\n",
        "# Compute the confusion matrix\n",
        "cm = confusion_matrix(true, preds)\n",
        "\n",
        "# Plot\n",
        "disp = ConfusionMatrixDisplay(confusion_matrix=cm,\n",
        "                              display_labels=['False', 'True'])\n",
        "disp.plot(cmap='Blues')\n",
        "plt.title('GPT 4.0 Turbo Confusion Matrix: Undersampled Dataset')\n",
        "plt.tight_layout()\n",
        "plt.show()"
      ],
      "metadata": {
        "colab": {
          "base_uri": "https://localhost:8080/",
          "height": 487
        },
        "id": "H4sD_ar04j2-",
        "outputId": "e1ec39c9-4925-44ac-84b4-9846abef3f04"
      },
      "execution_count": null,
      "outputs": [
        {
          "output_type": "display_data",
          "data": {
            "text/plain": [
              "<Figure size 640x480 with 2 Axes>"
            ],
            "image/png": "[encoded data removed]"
          },
          "metadata": {}
        }
      ]
    },
    {
      "cell_type": "markdown",
      "source": [
        "### Summarized but with diff prompt"
      ],
      "metadata": {
        "id": "8fR1JP19xazg"
      }
    },
    {
      "cell_type": "code",
      "source": [
        "new_summarized = pd.read_csv('/content/gdrive/MyDrive/Group 1: DSSI Summer 2025/Data/cleaned_banktrack_annotated.csv')\n",
        "\n",
        "# Use Coral's balanced dataset\n",
        "\n",
        "#spliting data\n",
        "#split_dataset = dataset[\"train\"].train_test_split(test_size=0.2, seed=42, shuffle=True)\n",
        "from sklearn.model_selection import train_test_split\n",
        "train_df, val_df = train_test_split(new_summarized, test_size=0.2, random_state=42) #validation size is 20%, random state is just there for reproducibility\n",
        "\n",
        "# turn to json dict\n",
        "#dataset = DatasetDict({\"train\": split_dataset[\"train\"]})\n",
        "from datasets import Dataset, DatasetDict\n",
        "dataset = DatasetDict({'train': Dataset.from_pandas(train_df.reset_index()), 'validation': Dataset.from_pandas(val_df.reset_index())}) #use dataset dict to turn to dataframe to dict\n",
        "dataset"
      ],
      "metadata": {
        "id": "RnPJWmwhxaUb"
      },
      "execution_count": null,
      "outputs": []
    },
    {
      "cell_type": "code",
      "source": [
        "import openai\n",
        "def classify_batch(batch_texts, start_idx=1):\n",
        "    few_shot_prompt = \"\"\"A Form 8-K is a public document that publicly traded companies must file with the Securities and Exchange Commission to disclose significant, unscheduled events or corporate changes. These events are considered material, meaning they could impact the company's financial performance or investor decisions. Debt financing is when a company borrows money (or is given the right to borrow money) from a collection of lenders. This is primarily done through bonds, notes, loans, credit facilities. Key words include: Term Loan Agreement, Amended and Restated Credit Agreement, Revolving Credit Agreement, Junior Subordinated Notes, Bond, Debt Settlement Agreement.Classification is 'True' if the item contains details about a debt instrument. If the item just references a debt instrument, this column should still be false. There must be some details outside of the name (such as the start date, the amount, the lenders, etc.). I want you to think like a financial analyst reviewing SEC Form 8-K filings to determine whether they contain information related to commercial debt. Your response should classify each text with a “True” or “False” label. Do not explain.\n",
        "\n",
        "Examples:\n",
        "1. \"As previously disclosed, between December 14, 2022 and December 16, 2022, IronNet, Inc. This Company  issued and sold secured promissory notes in an aggregate principal amount of $6.9 million (the Initial Notes)  to a total of eight lenders, and on December 30, 2022, the Company issued a secured promissory note in the principal amount of $2.0 million (the First C5 Note ) to an entity affiliated with C5 Capital Limited, a beneficial owner of more than 5% of the Company's outstanding common stock. In connection with the issuance of the First C5 Note, the Company and the holders of the Initial Notes agreed to amend and restate the Initial Notes to be substantially in the form to be issued to C5, which form was attached as an exhibit to the Current Report on Form  8-K  filed on January 4, 2023 (the  Restated Initial Notes). This amendment and restatement occurred on January 11, 2023. The Restated Initial Notes continue to bear interest at a rate of 13.8% per annum from the respective dates of the Initial Notes, and the Restated Initial Notes are payable at scheduled maturity on June 30, 2023.    Upon entering into the First C5 Note, the Company and C5 also agreed to amend and restate the First C5 Note. Subsequently, the parties agreed that the amended and restated First C5 Note and any future notes to be issued in connection with additional bridge financing by C5 would be convertible into shares of the Company's common stock. On January 11, 2023, the Company issued to C5 an amended and restated convertible promissory note in the principal amount of $2.0 million (the Restated C5 Note). On January 12, 2023, the Company issued to C5 a new secured convertible promissory note in the principal amount of $3.0 million (the Second C5 Note). The Restated C5 Note and the Second C5 Note (collectively, the C5 Notes), in the aggregate principal amount of $5.0 million, are in substantially the form of secured convertible promissory note attached to this report as Exhibit 99.1.    The C5 Notes bear interest at a rate of 13.8% per annum from the date of issuance (or in the case of the Restated C5 Note, from the date of the First C5 Note), and all such notes are payable at scheduled maturity on June 30, 2023, subject to acceleration in certain circumstances.    The Company's obligations under the Restated Initial Notes and the C5 Notes are secured by substantially all of the assets of the Company, excluding the Company's intellectual property. C5 and each of the holders of the Restated Initial Notes have executed an Amended and Restated Security Agreement in the form attached as an exhibit to the Current Report on Form  8-K  filed on January 4, 2023.    The C5 Notes provide C5 with the right, at any time on or after the date that is five calendar days prior to maturity, to convert any portion of the principal amount of the C5 Notes, together with any accrued and unpaid interest and any other unpaid amounts, into shares of the Company's common stock, par value $0.0001 per share (the Common Stock ), at a conversion price of $2.00 per share. In the event that any shares of Common Stock are issued upon conversion of the C5 Notes, the Company has agreed to grant specified registration rights to C5.    The foregoing description of the C5 Notes does not purport to be complete and is subject to, and is qualified in its entirety by reference to, the form of C5 Note filed herewith as Exhibit 99.1 and incorporated herein by reference. \" → True\n",
        "2. \"Between December 14, 2022 and December 16, 2022, IronNet, Inc. (the Company ) issued and sold secured promissory notes in an aggregate principal amount of $6.9 million (the Notes) to a total of eight lenders. The lenders included GEN Keith B. Alexander (Ret.), the founder, Chief Executive Officer and Chairman of the Board of Directors of the Company. The Notes were also issued to lenders that include VADM John M. McConnell (Ret.), Hon. Michael J. Rogers, Theodore E. Schlein and VADM Jan E. Tighe (Ret.), each of whom is a director of the Company, as well as funds affiliated with Forgepoint Capital (the Forgepoint Funds). Donald R. Dixon, a member of the Company's board of directors, is an affiliate of ForgePoint Capital, and the Forgepoint Funds are also beneficial owners of greater than 5% of the Company's common stock.    Each Note has a scheduled maturity date of one year from the date of issuance, except that the Note issued to one lender that is not, and is not affiliated with, a director of the Company has a scheduled maturity date of six months from the date of issuance. The Notes bear interest at a rate of 13.8% per annum, payable at maturity. The Company may prepay the Notes at any time without premium or penalty, and the Notes do not restrict the incurrence of future indebtedness by the Company.    In the event that the Company fails to timely pay amounts due under the Notes or the Company materially defaults in its performance of any other covenant under the Notes or the Security Agreement (as defined below), which default is not cured within 30 days after written notice thereof, then at the option of the lenders, upon the written consent of lenders representing a majority of the outstanding and unpaid principal under the Notes, all unpaid principal, accrued interest and other amounts owing under the Notes shall be immediately due and payable.    In the event that the Company files any petition or action for relief under any bankruptcy, reorganization, insolvency or moratorium law or any other law for the relief of or relating to debtors, or makes any assignment for the benefit of creditors or takes any corporate action in furtherance thereof, or if an involuntary petition is filed against the Company (unless such petition is dismissed or discharged within 60 days) under any bankruptcy statute, or a custodian, receiver, trustee, assignee for the benefit of creditors is appointed to take possession, custody or control of any property of the Company, then all unpaid principal, accrued interest and other amounts owing under the Notes will accelerate and automatically become immediately due and payable.    The Notes are secured by substantially all of the assets of the Company, excluding the Company's intellectual property. The Company entered into a Security Agreement (the Security Agreements ) with each of the lenders.    The forgoing descriptions of the Notes and the Security Agreements do not purport to be complete and are subject to, and is qualified in its entirety by reference to, the form of Note and form of Security Agreement filed hereto as Exhibits 4.1 and 10.1, respectively, and incorporated herein by reference. \" → True\n",
        "3. \"Underwriting Agreement On May 12, 2014, Concho Resources Inc. (the Company ) entered into an underwriting agreement (the Underwriting Agreement ) with Goldman, Sachs & Co., as representative of the several underwriters listed in Schedule I thereto (the Underwriters ), in connection with an underwritten public offering of up to 7,475,000 shares of common stock (the Common Shares ), including the Underwriters option to purchase up to an additional 975,000 shares. The issuance and sale of the Common Shares has been registered under the Securities Act of 1933 (the Securities Act ) pursuant to an automatic shelf Registration Statement on Form S-3 (Registration No. 333-184037) of the Company, filed with and deemed automatically effective by the Securities and Exchange Commission on September 21, 2012. On May 13, 2014, the Underwriters exercised their option to purchase additional shares in full. Closing of the issuance and sale of the Common Shares is expected to occur on May 16, 2014, subject to customary closing conditions. A legal opinion related to the Common Shares is filed herewith as Exhibit 5.1. The Underwriting Agreement contains customary representations, warranties and agreements by the Company and customary conditions to closing, obligations of the parties and termination provisions. Additionally, the Company has agreed to indemnify the Underwriters against certain liabilities, including liabilities under the Securities Act, or to contribute to payments the Underwriters may be required to make because of any of those liabilities. Furthermore, the Company has agreed with the Underwriters not to offer or sell any shares of its common stock (or securities convertible into or exchangeable for common stock), subject to customary objections, for a period of 60 days after the date of the Underwriting Agreement without the prior written consent of Goldman, Sachs & Co. The Underwriters or their affiliates have from time to time provided investment banking, commercial banking and financial advisory services to the Company, for which they have received customary compensation. The Underwriters and their affiliates may provide similar services in the future. Specifically, Bank of America, N.A., an affiliate of Merrill Lynch, Pierce, Fenner & Smith Incorporated, serves as a co-syndication agent and a lender; JPMorgan Chase Bank, N.A., an affiliate of J.P. Morgan Securities LLC, serves as administrative agent and a lender; Barclays Bank PLC, an affiliate of Barclays Capital Inc., serves as a lender; BMO Harris Financing, Inc., an affiliate of BMO Capital Markets Corp., serves as a lender; Citibank, N.A., an affiliate of Citigroup Global Markets Inc., serves as a lender; Capital One, National Association, an affiliate of Capital One Securities, Inc., serves as a lender, KeyBank National Association, an affiliate of KeyBanc Capital Markets Inc., serves as a lender; Royal Bank of Canada, an affiliate of RBC Capital Markets, LLC, serves as a lender; SunTrust Bank, an affiliate of SunTrust Robinson Humphrey, Inc., serves as a lender and Wells Fargo Bank National Association, an affiliate of Wells Fargo Securities, LLC, serves as a co-syndication agent and a lender under the Companys credit facility and will receive a portion of the proceeds from this offering. In addition, from time to time, the Underwriters and their affiliates may effect transactions for their own account or the account of customers, and hold on behalf of themselves or their customers, long or short positions in our debt or equity securities or loans, and may do so in the future. The foregoing description of the Underwriting Agreement is qualified in its entirety by reference to such Underwriting Agreement, a copy of which is filed herewith as Exhibit 1.1 and is incorporated herein by reference\" → False\n",
        "4. \"On December 11, 2020, Innoviva, Inc. (\" Innoviva \") entered into a strategic partnership with Sarissa Capital Management LP (\" Sarissa Capital \") designed to accelerate the execution of its strategy and enhance returns on its capital. The partnership comprises (i) a strategic advisory agreement, pursuant to which and subject to the terms set forth therein Sarissa Capital will assist Innoviva in the development of its acquisition strategy and (ii) an investment by Innoviva into an investment fund managed by Sarissa Capital to enhance returns on its capital, as further described herein. The partnership is part of Innoviva's continued focus on increasing shareholder value by diversifying its primary royalty management business that includes respiratory assets partnered with Glaxo Group Limited and optimizing its capital allocation, both through actively pursuing opportunistic acquisitions of promising companies and assets in the healthcare industry and enhancing the returns on its capital. Innoviva believes that Sarissa Capital's strategic position in the healthcare ecosystem, differentiated investment approach and strategic acumen are highly synergistic with our capital deployment strategy and position us well for value creation. Strategic Advisory Agreement As part of the partnership, Innoviva and Sarissa Capital entered into a Strategic Advisory Agreement (the \" Services Agreement \"), dated December 11, 2020, pursuant to which Sarissa Capital will provide a variety of strategic services to Innoviva in order to assist Innoviva in the development and execution of its acquisition strategy. Pursuant to the terms of the Services Agreement, and subject to the limitations set forth therein, Sarissa Capital will, among other things: (i) assist Innoviva in the development of an overall acquisition and investment process and strategy; (ii) advise Innoviva on market trends, market dynamics and merger and acquisition activity; (iii) identify potential transaction targets; (iv) assist in due diligence of transaction targets and the negotiation and execution of transactions; (v) advise on the growth and operational plans, performance and integration of target companies once an investment or acquisition is made; and (vi) assist in the identification of director and officer candidates for target companies. The Services Agreement provides for the development of an annual work plan to implement the strategic services, and regular collaboration between Sarissa Capital and Innoviva to discuss the work plan and refine the strategic services. Innoviva believes that the partnership will allow it to utilize the expertise and market reach of Sarissa Capital to optimize Innoviva's proprietary investment program, targeting strategic control investments in the healthcare industry, while also focusing on Innoviva's primary business of managing its valuable royalty portfolio. The Services Agreement includes customary indemnification and exculpation provisions and is terminable by Innoviva at any time. In addition, Sarissa Capital may terminate the Services Agreement at any time in the event that one or more withdrawal requests to the Partnership (as defined below) are made which, in the aggregate, cause the value of the interest of Strategic Partners (as defined below) in the Partnership to be less than 50% of the initial subscription amount, as adjusted for any cumulative profits and losses. Investment of Capital In addition to the Services Agreement, as part of Innoviva's efforts to optimize its cash position and increase yield, on December 11, 2020, Innoviva Strategic Partners LLC, a wholly-owned subsidiary of Innoviva (\" Strategic Partners \"), entered into a subscription agreement (the \" Subscription Agreement \") and an Amended and Restated Limited Partnership Agreement (the \" Partnership Agreement \" and, together with the Subscription Agreement and the other instruments and agreements referenced therein or contemplated thereby, the \" Investment - 2 - Documents \") pursuant to which Strategic Partners became a limited partner of ISP Fund LP (the \" Partnership \"). The general partner of the Partnership (the \" General Partner \") is an affiliate of Sarissa Capital and, pursuant to an investment management agreement, Sarissa Capital will act as the investment adviser to the Partnership. Pursuant to the Investment Documents, Strategic Partners made a $300 million initial contribution into the Partnership on a \"most favored nations\" basis. The Partnership was formed for the purposes of investing in \"long-only\" securities in the healthcare, pharmaceutical and biotechnology industries. The Partnership Agreement provides certain limitations on the General Partner and the Partnership. Among other things and subject to the limitations set forth in the Partnership Agreement, without the prior approval of Strategic Partners, the Partnership may not participate in any borrowing, leverage or other credit arrangement, enter into certain transactions with Sarissa Capital or its affiliates or invest greater than 20% of the Net Asset Value (as defined in the Partnership Agreement) of the Partnership in the securities of any single issuer (measured at the time of acquisition), however we expect the Partnership's investments to be concentrated in a few larger positions in order to maximize the synergies between the Partnership Agreement, the Services Agreement and our overall acquisition strategy. As compensation for the advisory services to be provided to the Partnership, the Partnership Agreement provides for Sarissa Capital to receive a customary management fee from the Partnership, payable quarterly in advance, measured based on the Net Asset Value of Strategic Partners' capital account in the Partnership. In addition, as more fully described in the Partnership Agreement, the General Partner is entitled to a customary annual performance allocation based on the Net Profits (as defined in the Partnership Agreement) of the Partnership during the annual measurement period (i.e., the excess during the relevant annual measurement period of (x) operating profits of the Partnership plus the realized and unrealized increase in the value of securities held by the Partnership over (y) operating losses of the Partnership plus the realized and unrealized loss in the value of securities held by the Partnership). The performance allocation is payable annually (or a shorter period solely with respect to capital withdrawn from the Partnership prior to year-end) and is calculated based on valuation determinations made by Sarissa Capital or a third-party administrator for the Partnership selected by Sarissa Capital. The foregoing is the sole compensation receivable by Sarissa Capital for the transactions described herein. The Partnership Agreement includes a lock-up period of thirty-six months after which Strategic Partners is entitled to make withdrawals from the Partnership as of such lock-up expiration date and each anniversary thereafter, subject to a 25% gating provision. If Strategic Partners wishes to withdraw more than 25% of its capital, such request will be carried over to the successive quarter-end dates until settled in full over a maximum of four quarter-end dates with respect to withdrawal of the full capital account balance. Payments to Strategic Partners in respect of any withdrawal are to be made within 30 days following the relevant withdrawal effective date. In addition, the Partnership Agreement provides for withdrawal rights at any time upon the occurrence of Cause (as defined in the Partnership Agreement) or in the event of a Key Man Event (as defined in the Partnership Agreement) tied to Dr. Alexander Denner ceasing to be the Chief Investment Officer of Sarissa Capital or otherwise ceasing to oversee the investment activity of the Partnership. Following a withdrawal due to Cause or a Key Man Event, the Partnership is required to distribute withdrawal proceeds as promptly as reasonably practicable following the relevant withdrawal date and without the application of the 25% gate or the lock-up. The Partnership Agreement also provides that Strategic Partners may elect, from time to time, to receive annual distributions of Net Profits (as defined in the Partnership Agreement) net of accrued and reserved expenses and fees of the Partnership. The Partnership Agreement also requires the Partnership to make distributions to Strategic Partners as necessary to allow Innoviva to maintain compliance with the Investment Company Act of 1940 and the rules and regulations promulgated thereunder. - 3 - The Partnership Agreement includes co-investment rights pursuant to which Strategic Partners is entitled to invest ratably in investment opportunities presented to the Partnership and other funds and accounts managed by Sarissa Capital, and capacity rights pursuant to which Strategic Partners is entitled to make additional investments into the Partnership on the same preferential terms. The Partnership Agreement also includes a customary \"most favored nations\" provision, pursuant to which and subject to certain limitations and conditions, Strategic Partners is entitled to receive the benefit of any more favorable terms or conditions (and any related negative terms or obligations) provided to investors in any other fund or account managed by Sarissa Capital or its affiliates pursuing substantially the same investment strategy. In addition to the terms described above, the Investment Documents include other customary terms and conditions including representations and warranties, indemnities, exculpation, information rights and reporting obligations and allocation of third party expenses. The execution of the Services Agreement and the Investment Documents was approved by a special committee of independent directors of the Innoviva Board represented by independent legal, financial and other advisors. Mark DiPaolo, Esq. and Odysseas D. Kostas, M.D., two of our directors, are partners of Sarissa Capital. Accordingly, these directors have recused themselves to date from any decisions relating to our investment in the Partnership or the Services Agreement. The foregoing is a summary description of certain terms of the Services Agreement and the Partnership Agreement and does not purport to be complete, and is qualified in its entirety by reference to the full text of the Services Agreement, which is attached hereto as Exhibit 10.1, and the Partnership Agreement, which is attached hereto as Exhibit 10.2, each of which is incorporated herein by reference.” → False\n",
        "\n",
        "Now classify the following:\n",
        "   \"\"\"\n",
        "\n",
        "# building a numbered list of sentences to append to prompt so model can process a batch of inputs at once\n",
        "# with clear numbering and formatting for each input example\n",
        "    numbered_batch = \"\"\n",
        "    for i, sentence in enumerate(batch_texts, start=start_idx):\n",
        "        numbered_batch += f\"{i}. \\\"{sentence}\\\" →\\n\"\n",
        "\n",
        "    final_prompt = few_shot_prompt + numbered_batch\n",
        "\n",
        "    response = client.chat.completions.create( # maybe use different function rather than chat completion\n",
        "        model=\"gpt-4-turbo\", # wayyy faster than gpt 4; went from 6-7 minutes (only a third complete) to 1 minute (fully complete)\n",
        "        messages=[{\"role\": \"user\", \"content\": final_prompt}],\n",
        "        temperature=0\n",
        "    )\n",
        "\n",
        "    return response.choices[0].message.content\n",
        "\n",
        "results = []\n",
        "batch_size = 5 # Process 5 rows at a time"
      ],
      "metadata": {
        "id": "swaCsmsYx037"
      },
      "execution_count": null,
      "outputs": []
    },
    {
      "cell_type": "code",
      "source": [
        "# converting the text data into a list, looping through it in batches, classifying each batch,\n",
        "# printing the output, and collecting all classification results in one list\n",
        "texts = new_summarized['text'].astype(str).tolist()\n",
        "\n",
        "results = [] # Initialize the results list before the loop\n",
        "\n",
        "for i in range(0, len(texts), batch_size):\n",
        "    batch = texts[i:i+batch_size]\n",
        "    output = classify_batch(batch, start_idx=i+1)\n",
        "    #print(f\"Batch {i//batch_size + 1} output:\")\n",
        "    print(output)\n",
        "    # Extract just the True/False from each line of the output\n",
        "    batch_results = [r.split('. ')[1] for r in output.strip().split('\\n')]\n",
        "    results.extend(batch_results)\n",
        "\n",
        "print(f\"Total results collected: {len(results)}\")"
      ],
      "metadata": {
        "id": "2VyYab3ky44j"
      },
      "execution_count": null,
      "outputs": []
    },
    {
      "cell_type": "code",
      "source": [
        "from sklearn.metrics import accuracy_score, precision_score, recall_score, f1_score\n",
        "\n",
        "# Convert predictions (from model output strings) to booleans\n",
        "preds = [r.strip().lower() == 'true' for r in results]\n",
        "\n",
        "# Get true labels and convert to booleans if needed\n",
        "true = [str(label).strip().lower() == 'true' for label in new_summarized['contains_debt_instrument_information']]\n",
        "\n",
        "# Compute classification metrics\n",
        "accuracy = accuracy_score(true, preds)\n",
        "precision = precision_score(true, preds)\n",
        "recall = recall_score(true, preds)\n",
        "f1 = f1_score(true, preds)\n",
        "\n",
        "print(\"Accuracy:\", round(accuracy, 4))\n",
        "print(\"Precision:\", round(precision, 4))\n",
        "print(\"Recall:\", round(recall, 4))\n",
        "print(\"F1 Score:\", round(f1, 4))"
      ],
      "metadata": {
        "id": "VibLcJ4vy9cn"
      },
      "execution_count": null,
      "outputs": []
    },
    {
      "cell_type": "code",
      "source": [
        "from sklearn.metrics import f1_score,classification_report, accuracy_score, precision_score, recall_score\n",
        "\n",
        "# Convert predictions (from model output strings) to booleans\n",
        "preds = [r.strip().lower() == 'true' for r in results]\n",
        "\n",
        "# Get true labels and convert to booleans if needed\n",
        "true = [str(label).strip().lower() == 'true' for label in new_summarized['contains_debt_instrument_information']]\n",
        "\n",
        "# Compute classification metrics\n",
        "accuracy = accuracy_score(true, preds)\n",
        "precision = precision_score(true, preds)\n",
        "recall = recall_score(true, preds)\n",
        "f1 = f1_score(true, preds)\n",
        "\n",
        "\n",
        "\n",
        "f1 = f1_score(true, preds)\n",
        "print(f\"F1 Score: {f1:.3f}\")\n",
        "\n",
        "# (Optional) See full breakdown: precision, recall, etc.\n",
        "print(\"\\nClassification Report:\")\n",
        "print(classification_report(true, preds))"
      ],
      "metadata": {
        "id": "FYccnfEVzDu4"
      },
      "execution_count": null,
      "outputs": []
    }
  ]
}